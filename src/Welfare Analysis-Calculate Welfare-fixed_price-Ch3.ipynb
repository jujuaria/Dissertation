{
 "cells": [
  {
   "cell_type": "code",
   "execution_count": 103,
   "id": "2a688294",
   "metadata": {},
   "outputs": [],
   "source": [
    "import pandas as pd\n",
    "import numpy as np\n",
    "import os\n",
    "import matplotlib.pyplot as plt\n",
    "import statsmodels.api as sm\n",
    "import statsmodels\n",
    "from sklearn.preprocessing import OneHotEncoder\n",
    "from sklearn import preprocessing\n",
    "import seaborn as sns\n",
    "from scipy import optimize\n",
    "import time\n",
    "import functools\n",
    "from multiprocessing import Pool\n",
    "#from cyipopt import minimize_ipopt\n",
    "from numpy.polynomial.polynomial import polyfit\n",
    "import matplotlib.pyplot as plt\n",
    "import random\n",
    "\n",
    "import warnings\n",
    "warnings.filterwarnings(\"ignore\")\n",
    "\n",
    "random.seed(10)\n"
   ]
  },
  {
   "cell_type": "code",
   "execution_count": 104,
   "id": "e6c97496",
   "metadata": {},
   "outputs": [],
   "source": [
    "input_dir = r\"/Users/juju/Library/Mobile Documents/com~apple~CloudDocs/ta_project/output/welfare/fixed_price\"\n",
    "input_dir_eq = r\"/Users/juju/Library/Mobile Documents/com~apple~CloudDocs/ta_project/src\""
   ]
  },
  {
   "cell_type": "code",
   "execution_count": 105,
   "id": "3e164e40",
   "metadata": {},
   "outputs": [],
   "source": [
    "data = pd.read_csv(os.path.join(input_dir,r\"welfare_fixed_price_result_obs_less_brand_ch3.csv\"))\n",
    "\n",
    "data_eq = pd.read_csv(os.path.join(input_dir_eq,r\"df_ne.csv\"))"
   ]
  },
  {
   "cell_type": "code",
   "execution_count": 106,
   "id": "fbabd39f",
   "metadata": {},
   "outputs": [
    {
     "data": {
      "text/plain": [
       "['index',\n",
       " 'post_month',\n",
       " 'shareid',\n",
       " 'year_month',\n",
       " 'Supply',\n",
       " 'Demand',\n",
       " 'Revenue',\n",
       " 'Occ',\n",
       " 'ADR',\n",
       " 'RevPAR',\n",
       " 'Country',\n",
       " 'Market',\n",
       " 'Chain',\n",
       " 'Owner',\n",
       " 'Mgmt',\n",
       " 'ParentCompany',\n",
       " 'Operation',\n",
       " 'Scale',\n",
       " 'Class',\n",
       " 'Location',\n",
       " 'OpenDate',\n",
       " 'SizeCode',\n",
       " 'max_str_month',\n",
       " 'max_review_month',\n",
       " 'min_review_month',\n",
       " 'on_ta',\n",
       " 'monthly_rating_mean',\n",
       " 'monthly_review_count',\n",
       " 'monthly_one_star_count',\n",
       " 'monthly_two_star_count',\n",
       " 'monthly_three_star_count',\n",
       " 'monthly_four_star_count',\n",
       " 'monthly_five_star_count',\n",
       " 'monthly_hotel_response_count',\n",
       " 'monthly_partnership_reviews_count',\n",
       " 'cleanliness_count',\n",
       " 'cleanliness_mean',\n",
       " 'location_count',\n",
       " 'location_mean',\n",
       " 'sleep_quality_count',\n",
       " 'sleep_quality_mean',\n",
       " 'room_quality_count',\n",
       " 'room_quality_mean',\n",
       " 'service_count',\n",
       " 'service_mean',\n",
       " 'value_count',\n",
       " 'value_mean',\n",
       " 'renovate',\n",
       " 'solo_count',\n",
       " 'couple_count',\n",
       " 'family_count',\n",
       " 'business_count',\n",
       " 'month_with_reviews',\n",
       " 'num_of_reviews',\n",
       " 'total_one_star',\n",
       " 'total_two_star',\n",
       " 'total_three_star',\n",
       " 'total_four_star',\n",
       " 'total_five_star',\n",
       " 'accum_rating',\n",
       " 'total_one_star_%',\n",
       " 'total_two_star_%',\n",
       " 'total_three_star_%',\n",
       " 'total_four_star_%',\n",
       " 'total_five_star_%',\n",
       " 'is_reviewed',\n",
       " 'ln_revenue',\n",
       " 'ln_revpar',\n",
       " 'ln_accum_rating',\n",
       " 'ln_num_of_reviews',\n",
       " 'ln_revenue_next_1m',\n",
       " 'ln_revpar_next_1m',\n",
       " 'ln_revenue_next_2m',\n",
       " 'ln_revpar_next_2m',\n",
       " 'ln_revenue_next_3m',\n",
       " 'ln_revpar_next_3m',\n",
       " 'ln_revenue_next_4m',\n",
       " 'ln_revpar_next_4m',\n",
       " 'ln_revenue_next_5m',\n",
       " 'ln_revpar_next_5m',\n",
       " 'ln_revenue_next_6m',\n",
       " 'ln_revpar_next_6m',\n",
       " 'ln_revenue_next_3m_avg',\n",
       " 'ln_revpar_next_3m_avg',\n",
       " 'ln_revenue_next_6m_avg',\n",
       " 'ln_revpar_next_6m_avg',\n",
       " 'year',\n",
       " 'month',\n",
       " 'displayed_rating',\n",
       " 'round_up',\n",
       " 'Class Group',\n",
       " 'hotel_age',\n",
       " 'high_season',\n",
       " 'alpha',\n",
       " 'avg_price',\n",
       " 'avg_demand',\n",
       " 'price_elasticity',\n",
       " 'Group Monthly Demand',\n",
       " 'hotel_count_in_group_chain',\n",
       " 'hotel_count_in_group_franchised',\n",
       " 'hotel_count_in_group_independent',\n",
       " '1_size',\n",
       " '2_size',\n",
       " '3_size',\n",
       " '4_size',\n",
       " '5_size',\n",
       " 'Group Avg Age',\n",
       " 'Market Monthly Supply',\n",
       " 'Market Monthly Demand',\n",
       " 'hotel_count_in_market',\n",
       " 'market_share',\n",
       " 'group_share',\n",
       " 's_0',\n",
       " 'ln_group_share',\n",
       " 'quality',\n",
       " 'Rating',\n",
       " 'ReviewCount_Reviewed',\n",
       " 'Rating_ReviewCount_Reviewed',\n",
       " 'market_year_month',\n",
       " 'ln_ADR',\n",
       " 'quality_hat',\n",
       " 'exante_rating_baseline',\n",
       " 'exante_rating_random',\n",
       " 'exante_rating_obs',\n",
       " 'exante_rating_const',\n",
       " 'exante_rating',\n",
       " 'market_size',\n",
       " 'max_group_price',\n",
       " 'mc_t',\n",
       " 'q_upper',\n",
       " 'excess_demand',\n",
       " 'max_supply_year',\n",
       " 'capacity',\n",
       " 'class_group_capacity',\n",
       " 'competitor_capacity',\n",
       " 'hotel_fixed_effect_id',\n",
       " 'market_time_fixed_effect_id',\n",
       " 'hotel_fixed_effect',\n",
       " 'market_time_fixed_effect',\n",
       " 'price_ne',\n",
       " 'delta',\n",
       " 'delta_ne',\n",
       " 'D_g_sum_ne',\n",
       " 'market_share_ne',\n",
       " 'demand_ne',\n",
       " 'group_share_ne',\n",
       " 'market_share_sum_ne',\n",
       " 's_0_ne']"
      ]
     },
     "execution_count": 106,
     "metadata": {},
     "output_type": "execute_result"
    }
   ],
   "source": [
    "list(data_eq.columns)"
   ]
  },
  {
   "cell_type": "code",
   "execution_count": 107,
   "id": "43775e9b",
   "metadata": {},
   "outputs": [],
   "source": [
    "\n",
    "alpha = -0.012\n",
    "sigma = 0.5396\n",
    "rating_param_chain = 0.075-0.016\n",
    "rating_param_ind = 0.075\n",
    "\n",
    "occ_upper= 88\n"
   ]
  },
  {
   "cell_type": "code",
   "execution_count": 108,
   "id": "bc29f208",
   "metadata": {},
   "outputs": [],
   "source": [
    "\n",
    "data = data.merge(data_eq[[\"q_upper\",\"hotel_fixed_effect\",\"market_time_fixed_effect\",\\\n",
    "                          \"shareid\",\"year\",\"month\",\"max_group_price\",\"market_size\"]], on=[\"shareid\",\"year\",\"month\"])\n"
   ]
  },
  {
   "cell_type": "code",
   "execution_count": 109,
   "id": "a56b20d1",
   "metadata": {},
   "outputs": [],
   "source": [
    "supply_max = data.groupby([\"shareid\",\"year\"])[\"Supply\"].max().reset_index().rename(columns={\"Supply\":\"max_supply_year\"})\n",
    "data= data.merge(supply_max, on=[\"shareid\",\"year\"], how=\"left\")\n",
    "data[\"capacity\"] = data[\"max_supply_year\"]/30"
   ]
  },
  {
   "cell_type": "markdown",
   "id": "1e5b169d",
   "metadata": {},
   "source": [
    "# Calculate marginal cost and total cost"
   ]
  },
  {
   "cell_type": "code",
   "execution_count": 110,
   "id": "c1574573",
   "metadata": {},
   "outputs": [],
   "source": [
    "data_lower = data[data[\"Demand\"]<=data[\"q_upper\"]]\n",
    "\n",
    "data_upper = data[data[\"Demand\"]>data[\"q_upper\"]]\n",
    "\n",
    "data_lower[\"excess_demand\"] = 0\n",
    "data_lower[\"cost_ne\"] = (192.39814102368837+data_lower[\"hotel_fixed_effect\"]+data_lower[\"market_time_fixed_effect\"])*\\\n",
    "                           data_lower[\"Demand\"]\n",
    "data_upper[\"excess_demand\"] = data_upper[\"Demand\"]-data_upper[\"q_upper\"]\n",
    "data_upper[\"cost_ne\"] = (192.39814102368837+data_upper[\"hotel_fixed_effect\"]+data_upper[\"market_time_fixed_effect\"])*\\\n",
    "                           data_upper[\"q_upper\"]+0.5*0.043841100663268406*(data_upper[\"excess_demand\"]**2)\n",
    "\n",
    "\n",
    "data= pd.concat([data_lower,data_upper],axis=0)\n",
    "\n",
    "data = data.fillna(0)\n",
    "\n"
   ]
  },
  {
   "cell_type": "code",
   "execution_count": 111,
   "id": "166c1a9e",
   "metadata": {},
   "outputs": [
    {
     "data": {
      "text/html": [
       "<div>\n",
       "<style scoped>\n",
       "    .dataframe tbody tr th:only-of-type {\n",
       "        vertical-align: middle;\n",
       "    }\n",
       "\n",
       "    .dataframe tbody tr th {\n",
       "        vertical-align: top;\n",
       "    }\n",
       "\n",
       "    .dataframe thead th {\n",
       "        text-align: right;\n",
       "    }\n",
       "</style>\n",
       "<table border=\"1\" class=\"dataframe\">\n",
       "  <thead>\n",
       "    <tr style=\"text-align: right;\">\n",
       "      <th></th>\n",
       "      <th>level_0</th>\n",
       "      <th>post_month</th>\n",
       "      <th>shareid</th>\n",
       "      <th>year_month</th>\n",
       "      <th>Supply</th>\n",
       "      <th>Demand</th>\n",
       "      <th>Revenue</th>\n",
       "      <th>Occ</th>\n",
       "      <th>ADR</th>\n",
       "      <th>RevPAR</th>\n",
       "      <th>...</th>\n",
       "      <th>D_g_sum</th>\n",
       "      <th>q_upper</th>\n",
       "      <th>hotel_fixed_effect</th>\n",
       "      <th>market_time_fixed_effect</th>\n",
       "      <th>max_group_price</th>\n",
       "      <th>market_size</th>\n",
       "      <th>max_supply_year</th>\n",
       "      <th>capacity</th>\n",
       "      <th>excess_demand</th>\n",
       "      <th>cost_ne</th>\n",
       "    </tr>\n",
       "  </thead>\n",
       "  <tbody>\n",
       "    <tr>\n",
       "      <th>0</th>\n",
       "      <td>769</td>\n",
       "      <td>2016-01</td>\n",
       "      <td>80022</td>\n",
       "      <td>2016-01-01</td>\n",
       "      <td>3658.0</td>\n",
       "      <td>2638.0</td>\n",
       "      <td>109250.0</td>\n",
       "      <td>72.1159</td>\n",
       "      <td>41.413950</td>\n",
       "      <td>29.866047</td>\n",
       "      <td>...</td>\n",
       "      <td>1.443469</td>\n",
       "      <td>3219.04</td>\n",
       "      <td>-183.251750</td>\n",
       "      <td>0.000000</td>\n",
       "      <td>143.847895</td>\n",
       "      <td>1419322.0</td>\n",
       "      <td>3658.0</td>\n",
       "      <td>121.933333</td>\n",
       "      <td>0.00</td>\n",
       "      <td>24128.180335</td>\n",
       "    </tr>\n",
       "    <tr>\n",
       "      <th>1</th>\n",
       "      <td>770</td>\n",
       "      <td>2016-02</td>\n",
       "      <td>80022</td>\n",
       "      <td>2016-02-01</td>\n",
       "      <td>3304.0</td>\n",
       "      <td>2561.0</td>\n",
       "      <td>97336.0</td>\n",
       "      <td>77.5121</td>\n",
       "      <td>38.007029</td>\n",
       "      <td>29.460048</td>\n",
       "      <td>...</td>\n",
       "      <td>1.796726</td>\n",
       "      <td>2907.52</td>\n",
       "      <td>-183.251750</td>\n",
       "      <td>4.713191</td>\n",
       "      <td>169.001597</td>\n",
       "      <td>1419322.0</td>\n",
       "      <td>3658.0</td>\n",
       "      <td>121.933333</td>\n",
       "      <td>0.00</td>\n",
       "      <td>35494.389401</td>\n",
       "    </tr>\n",
       "    <tr>\n",
       "      <th>2</th>\n",
       "      <td>771</td>\n",
       "      <td>2016-03</td>\n",
       "      <td>80022</td>\n",
       "      <td>2016-03-01</td>\n",
       "      <td>3658.0</td>\n",
       "      <td>3217.0</td>\n",
       "      <td>123244.0</td>\n",
       "      <td>87.9442</td>\n",
       "      <td>38.310227</td>\n",
       "      <td>33.691635</td>\n",
       "      <td>...</td>\n",
       "      <td>2.213311</td>\n",
       "      <td>3219.04</td>\n",
       "      <td>-183.251750</td>\n",
       "      <td>4.462434</td>\n",
       "      <td>221.553332</td>\n",
       "      <td>1419322.0</td>\n",
       "      <td>3658.0</td>\n",
       "      <td>121.933333</td>\n",
       "      <td>0.00</td>\n",
       "      <td>43779.590612</td>\n",
       "    </tr>\n",
       "    <tr>\n",
       "      <th>4</th>\n",
       "      <td>773</td>\n",
       "      <td>2016-05</td>\n",
       "      <td>80022</td>\n",
       "      <td>2016-05-01</td>\n",
       "      <td>3658.0</td>\n",
       "      <td>3102.0</td>\n",
       "      <td>121392.0</td>\n",
       "      <td>84.8004</td>\n",
       "      <td>39.133462</td>\n",
       "      <td>33.185347</td>\n",
       "      <td>...</td>\n",
       "      <td>1.885662</td>\n",
       "      <td>3219.04</td>\n",
       "      <td>-183.251750</td>\n",
       "      <td>6.055803</td>\n",
       "      <td>175.144899</td>\n",
       "      <td>1419322.0</td>\n",
       "      <td>3658.0</td>\n",
       "      <td>121.933333</td>\n",
       "      <td>0.00</td>\n",
       "      <td>47157.206564</td>\n",
       "    </tr>\n",
       "    <tr>\n",
       "      <th>5</th>\n",
       "      <td>774</td>\n",
       "      <td>2016-06</td>\n",
       "      <td>80022</td>\n",
       "      <td>2016-06-01</td>\n",
       "      <td>3540.0</td>\n",
       "      <td>2863.0</td>\n",
       "      <td>112845.0</td>\n",
       "      <td>80.8757</td>\n",
       "      <td>39.414949</td>\n",
       "      <td>31.877119</td>\n",
       "      <td>...</td>\n",
       "      <td>1.637039</td>\n",
       "      <td>3115.20</td>\n",
       "      <td>-183.251750</td>\n",
       "      <td>-2.745130</td>\n",
       "      <td>161.727004</td>\n",
       "      <td>1419322.0</td>\n",
       "      <td>3658.0</td>\n",
       "      <td>121.933333</td>\n",
       "      <td>0.00</td>\n",
       "      <td>18326.809963</td>\n",
       "    </tr>\n",
       "    <tr>\n",
       "      <th>...</th>\n",
       "      <td>...</td>\n",
       "      <td>...</td>\n",
       "      <td>...</td>\n",
       "      <td>...</td>\n",
       "      <td>...</td>\n",
       "      <td>...</td>\n",
       "      <td>...</td>\n",
       "      <td>...</td>\n",
       "      <td>...</td>\n",
       "      <td>...</td>\n",
       "      <td>...</td>\n",
       "      <td>...</td>\n",
       "      <td>...</td>\n",
       "      <td>...</td>\n",
       "      <td>...</td>\n",
       "      <td>...</td>\n",
       "      <td>...</td>\n",
       "      <td>...</td>\n",
       "      <td>...</td>\n",
       "      <td>...</td>\n",
       "      <td>...</td>\n",
       "    </tr>\n",
       "    <tr>\n",
       "      <th>5591</th>\n",
       "      <td>763</td>\n",
       "      <td>2016-07</td>\n",
       "      <td>8116969</td>\n",
       "      <td>2016-07-01</td>\n",
       "      <td>7874.0</td>\n",
       "      <td>7496.0</td>\n",
       "      <td>1303426.0</td>\n",
       "      <td>95.1993</td>\n",
       "      <td>173.882871</td>\n",
       "      <td>165.535433</td>\n",
       "      <td>...</td>\n",
       "      <td>6.719439</td>\n",
       "      <td>6929.12</td>\n",
       "      <td>-167.680053</td>\n",
       "      <td>69.794834</td>\n",
       "      <td>272.152682</td>\n",
       "      <td>1210161.0</td>\n",
       "      <td>7874.0</td>\n",
       "      <td>262.466667</td>\n",
       "      <td>566.88</td>\n",
       "      <td>661935.615278</td>\n",
       "    </tr>\n",
       "    <tr>\n",
       "      <th>5592</th>\n",
       "      <td>764</td>\n",
       "      <td>2016-08</td>\n",
       "      <td>8116969</td>\n",
       "      <td>2016-08-01</td>\n",
       "      <td>7874.0</td>\n",
       "      <td>7493.0</td>\n",
       "      <td>951448.0</td>\n",
       "      <td>95.1612</td>\n",
       "      <td>126.978246</td>\n",
       "      <td>120.834138</td>\n",
       "      <td>...</td>\n",
       "      <td>4.997755</td>\n",
       "      <td>6929.12</td>\n",
       "      <td>-167.680053</td>\n",
       "      <td>57.166410</td>\n",
       "      <td>251.211404</td>\n",
       "      <td>1210161.0</td>\n",
       "      <td>7874.0</td>\n",
       "      <td>262.466667</td>\n",
       "      <td>563.88</td>\n",
       "      <td>574357.389290</td>\n",
       "    </tr>\n",
       "    <tr>\n",
       "      <th>5593</th>\n",
       "      <td>765</td>\n",
       "      <td>2016-09</td>\n",
       "      <td>8116969</td>\n",
       "      <td>2016-09-01</td>\n",
       "      <td>7620.0</td>\n",
       "      <td>7098.0</td>\n",
       "      <td>1295898.0</td>\n",
       "      <td>93.1496</td>\n",
       "      <td>182.572274</td>\n",
       "      <td>170.065354</td>\n",
       "      <td>...</td>\n",
       "      <td>4.827411</td>\n",
       "      <td>6705.60</td>\n",
       "      <td>-167.680053</td>\n",
       "      <td>96.538286</td>\n",
       "      <td>294.127388</td>\n",
       "      <td>1210161.0</td>\n",
       "      <td>7874.0</td>\n",
       "      <td>262.466667</td>\n",
       "      <td>392.40</td>\n",
       "      <td>816472.021941</td>\n",
       "    </tr>\n",
       "    <tr>\n",
       "      <th>5594</th>\n",
       "      <td>766</td>\n",
       "      <td>2016-10</td>\n",
       "      <td>8116969</td>\n",
       "      <td>2016-10-01</td>\n",
       "      <td>7678.0</td>\n",
       "      <td>7501.0</td>\n",
       "      <td>1284279.0</td>\n",
       "      <td>97.6947</td>\n",
       "      <td>171.214371</td>\n",
       "      <td>167.267387</td>\n",
       "      <td>...</td>\n",
       "      <td>5.620897</td>\n",
       "      <td>6756.64</td>\n",
       "      <td>-167.680053</td>\n",
       "      <td>101.408458</td>\n",
       "      <td>307.181163</td>\n",
       "      <td>1210161.0</td>\n",
       "      <td>7874.0</td>\n",
       "      <td>262.466667</td>\n",
       "      <td>744.36</td>\n",
       "      <td>864337.229675</td>\n",
       "    </tr>\n",
       "    <tr>\n",
       "      <th>5595</th>\n",
       "      <td>767</td>\n",
       "      <td>2016-11</td>\n",
       "      <td>8116969</td>\n",
       "      <td>2016-11-01</td>\n",
       "      <td>7620.0</td>\n",
       "      <td>6863.0</td>\n",
       "      <td>1131966.0</td>\n",
       "      <td>90.0656</td>\n",
       "      <td>164.937491</td>\n",
       "      <td>148.551969</td>\n",
       "      <td>...</td>\n",
       "      <td>3.273137</td>\n",
       "      <td>6705.60</td>\n",
       "      <td>-167.680053</td>\n",
       "      <td>89.049719</td>\n",
       "      <td>273.019251</td>\n",
       "      <td>1210161.0</td>\n",
       "      <td>7874.0</td>\n",
       "      <td>262.466667</td>\n",
       "      <td>157.40</td>\n",
       "      <td>763424.484528</td>\n",
       "    </tr>\n",
       "  </tbody>\n",
       "</table>\n",
       "<p>5597 rows × 120 columns</p>\n",
       "</div>"
      ],
      "text/plain": [
       "      level_0 post_month  shareid  year_month  Supply  Demand    Revenue  \\\n",
       "0         769    2016-01    80022  2016-01-01  3658.0  2638.0   109250.0   \n",
       "1         770    2016-02    80022  2016-02-01  3304.0  2561.0    97336.0   \n",
       "2         771    2016-03    80022  2016-03-01  3658.0  3217.0   123244.0   \n",
       "4         773    2016-05    80022  2016-05-01  3658.0  3102.0   121392.0   \n",
       "5         774    2016-06    80022  2016-06-01  3540.0  2863.0   112845.0   \n",
       "...       ...        ...      ...         ...     ...     ...        ...   \n",
       "5591      763    2016-07  8116969  2016-07-01  7874.0  7496.0  1303426.0   \n",
       "5592      764    2016-08  8116969  2016-08-01  7874.0  7493.0   951448.0   \n",
       "5593      765    2016-09  8116969  2016-09-01  7620.0  7098.0  1295898.0   \n",
       "5594      766    2016-10  8116969  2016-10-01  7678.0  7501.0  1284279.0   \n",
       "5595      767    2016-11  8116969  2016-11-01  7620.0  6863.0  1131966.0   \n",
       "\n",
       "          Occ         ADR      RevPAR  ...   D_g_sum  q_upper  \\\n",
       "0     72.1159   41.413950   29.866047  ...  1.443469  3219.04   \n",
       "1     77.5121   38.007029   29.460048  ...  1.796726  2907.52   \n",
       "2     87.9442   38.310227   33.691635  ...  2.213311  3219.04   \n",
       "4     84.8004   39.133462   33.185347  ...  1.885662  3219.04   \n",
       "5     80.8757   39.414949   31.877119  ...  1.637039  3115.20   \n",
       "...       ...         ...         ...  ...       ...      ...   \n",
       "5591  95.1993  173.882871  165.535433  ...  6.719439  6929.12   \n",
       "5592  95.1612  126.978246  120.834138  ...  4.997755  6929.12   \n",
       "5593  93.1496  182.572274  170.065354  ...  4.827411  6705.60   \n",
       "5594  97.6947  171.214371  167.267387  ...  5.620897  6756.64   \n",
       "5595  90.0656  164.937491  148.551969  ...  3.273137  6705.60   \n",
       "\n",
       "      hotel_fixed_effect  market_time_fixed_effect  max_group_price  \\\n",
       "0            -183.251750                  0.000000       143.847895   \n",
       "1            -183.251750                  4.713191       169.001597   \n",
       "2            -183.251750                  4.462434       221.553332   \n",
       "4            -183.251750                  6.055803       175.144899   \n",
       "5            -183.251750                 -2.745130       161.727004   \n",
       "...                  ...                       ...              ...   \n",
       "5591         -167.680053                 69.794834       272.152682   \n",
       "5592         -167.680053                 57.166410       251.211404   \n",
       "5593         -167.680053                 96.538286       294.127388   \n",
       "5594         -167.680053                101.408458       307.181163   \n",
       "5595         -167.680053                 89.049719       273.019251   \n",
       "\n",
       "      market_size  max_supply_year    capacity  excess_demand        cost_ne  \n",
       "0       1419322.0           3658.0  121.933333           0.00   24128.180335  \n",
       "1       1419322.0           3658.0  121.933333           0.00   35494.389401  \n",
       "2       1419322.0           3658.0  121.933333           0.00   43779.590612  \n",
       "4       1419322.0           3658.0  121.933333           0.00   47157.206564  \n",
       "5       1419322.0           3658.0  121.933333           0.00   18326.809963  \n",
       "...           ...              ...         ...            ...            ...  \n",
       "5591    1210161.0           7874.0  262.466667         566.88  661935.615278  \n",
       "5592    1210161.0           7874.0  262.466667         563.88  574357.389290  \n",
       "5593    1210161.0           7874.0  262.466667         392.40  816472.021941  \n",
       "5594    1210161.0           7874.0  262.466667         744.36  864337.229675  \n",
       "5595    1210161.0           7874.0  262.466667         157.40  763424.484528  \n",
       "\n",
       "[5597 rows x 120 columns]"
      ]
     },
     "execution_count": 111,
     "metadata": {},
     "output_type": "execute_result"
    }
   ],
   "source": [
    "data"
   ]
  },
  {
   "cell_type": "code",
   "execution_count": 112,
   "id": "e27d6ac9",
   "metadata": {},
   "outputs": [],
   "source": [
    "# Counterfactual marginal cost\n",
    "\n",
    "data[\"demand_cf\"] = data[\"market_share_cf\"]*data[\"market_size\"]\n",
    "\n",
    "data_lower = data[data[\"demand_cf\"]<=data[\"q_upper\"]]\n",
    "data_upper = data[data[\"demand_cf\"]>data[\"q_upper\"]]\n",
    "\n",
    "data_lower[\"excess_demand\"] = 0\n",
    "data_lower[\"cost_cf\"] = (192.39814102368837+data_lower[\"hotel_fixed_effect\"]+data_lower[\"market_time_fixed_effect\"])*\\\n",
    "                           data_lower[\"demand_cf\"]\n",
    "data_upper[\"excess_demand\"] = data_upper[\"demand_cf\"]-data_upper[\"q_upper\"]\n",
    "data_upper[\"cost_cf\"] = (192.39814102368837+data_upper[\"hotel_fixed_effect\"]+data_upper[\"market_time_fixed_effect\"])*\\\n",
    "                           data_upper[\"q_upper\"]+0.5*0.043841100663268406*(data_upper[\"excess_demand\"]**2)\n",
    "\n",
    "data = pd.concat([data_lower,data_upper],axis=0)\n",
    "\n"
   ]
  },
  {
   "cell_type": "markdown",
   "id": "dd0d76a9",
   "metadata": {},
   "source": [
    "# Calculate Consumer Surplus"
   ]
  },
  {
   "cell_type": "code",
   "execution_count": 113,
   "id": "3a413bf4",
   "metadata": {},
   "outputs": [],
   "source": [
    "# calculate walfare\n",
    "\n",
    "data_chain = data[data[\"operation\"]=='Chain_affiliated'].reset_index().drop([\"index\"],axis=1)\n",
    "data_ind = data[data[\"operation\"]=='Independent'].reset_index().drop([\"index\"],axis=1)\n",
    "\n",
    "data_chain[\"market_share_cf_delta_diff\"] = data_chain[\"market_share_cf\"]*rating_param_chain*(data_chain[\"Rating\"] - data_chain[\"exante_rating\"])\n",
    "data_ind[\"market_share_cf_delta_diff\"] = data_ind[\"market_share_cf\"]*rating_param_ind*(data_ind[\"Rating\"] - data_ind[\"exante_rating\"])\n",
    " \n",
    "    \n",
    "data = pd.concat([data_chain, data_ind],axis=0).reset_index().drop([\"index\"],axis=1)\n",
    "\n",
    "l=[]\n",
    "for i in (0,1,2):\n",
    "    \n",
    "    df = data[data[\"Market\"]==data[\"Market\"].unique()[i]]\n",
    "    diff = df.groupby([\"month\",\"year\"])[\"market_share_cf_delta_diff\"].sum().reset_index().rename(columns={\"market_share_cf_delta_diff\":\"diff_term\"})\n",
    "    temp = df.merge(diff,on=[\"month\",\"year\"], how=\"left\")\n",
    "    l.append(temp)\n",
    "    \n",
    "df = pd.concat(l,axis=0)\n"
   ]
  },
  {
   "cell_type": "code",
   "execution_count": 114,
   "id": "a3bff70d",
   "metadata": {},
   "outputs": [],
   "source": [
    "df[\"r_greater_exante\"] = df[\"exante_rating\"]<df[\"Rating\"]\n",
    "\n",
    "#df[\"market_share_percent_diff\"] = (df[\"market_share_cf\"] - df[\"market_share\"])/df[\"market_share\"]\n"
   ]
  },
  {
   "cell_type": "code",
   "execution_count": 115,
   "id": "36e5ebaf",
   "metadata": {},
   "outputs": [],
   "source": [
    "df_cs = df[[\"Market\",\"year\",\"month\",\"Market Monthly Supply\",\"D_g_sum\",\"D_g_sum_cf\",\"diff_term\",\"market_size\"]].drop_duplicates()\n",
    "\n",
    "df_cs[\"cs\"] = (np.log(1+df_cs[\"D_g_sum\"]) - np.log(1+df_cs[\"D_g_sum_cf\"])-df_cs[\"diff_term\"])/alpha\n",
    "\n"
   ]
  },
  {
   "cell_type": "code",
   "execution_count": 116,
   "id": "12288569",
   "metadata": {},
   "outputs": [
    {
     "data": {
      "text/html": [
       "<div>\n",
       "<style scoped>\n",
       "    .dataframe tbody tr th:only-of-type {\n",
       "        vertical-align: middle;\n",
       "    }\n",
       "\n",
       "    .dataframe tbody tr th {\n",
       "        vertical-align: top;\n",
       "    }\n",
       "\n",
       "    .dataframe thead th {\n",
       "        text-align: right;\n",
       "    }\n",
       "</style>\n",
       "<table border=\"1\" class=\"dataframe\">\n",
       "  <thead>\n",
       "    <tr style=\"text-align: right;\">\n",
       "      <th></th>\n",
       "      <th>0</th>\n",
       "      <th>1</th>\n",
       "      <th>2</th>\n",
       "    </tr>\n",
       "  </thead>\n",
       "  <tbody>\n",
       "    <tr>\n",
       "      <th>Market</th>\n",
       "      <td>Chicago, IL</td>\n",
       "      <td>Houston, TX</td>\n",
       "      <td>Miami/Hialeah, FL</td>\n",
       "    </tr>\n",
       "    <tr>\n",
       "      <th>month_cs</th>\n",
       "      <td>-0.213338</td>\n",
       "      <td>-0.402672</td>\n",
       "      <td>-0.1051</td>\n",
       "    </tr>\n",
       "  </tbody>\n",
       "</table>\n",
       "</div>"
      ],
      "text/plain": [
       "                    0            1                  2\n",
       "Market    Chicago, IL  Houston, TX  Miami/Hialeah, FL\n",
       "month_cs    -0.213338    -0.402672            -0.1051"
      ]
     },
     "execution_count": 116,
     "metadata": {},
     "output_type": "execute_result"
    }
   ],
   "source": [
    "df_cs[\"month_cs\"] = df_cs[\"cs\"]*df_cs[\"market_size\"]\n",
    "\n",
    "cs_result = df_cs.groupby(\"Market\")[\"month_cs\"].sum()/1000000\n",
    "cs_result = cs_result.reset_index(\"Market\")\n",
    "cs_result.transpose()\n"
   ]
  },
  {
   "cell_type": "markdown",
   "id": "e6c5c55c",
   "metadata": {},
   "source": [
    "# Calculate Revenue, Profit, Marginal Cost"
   ]
  },
  {
   "cell_type": "code",
   "execution_count": 117,
   "id": "61c32d99",
   "metadata": {},
   "outputs": [
    {
     "data": {
      "text/html": [
       "<div>\n",
       "<style scoped>\n",
       "    .dataframe tbody tr th:only-of-type {\n",
       "        vertical-align: middle;\n",
       "    }\n",
       "\n",
       "    .dataframe tbody tr th {\n",
       "        vertical-align: top;\n",
       "    }\n",
       "\n",
       "    .dataframe thead th {\n",
       "        text-align: right;\n",
       "    }\n",
       "</style>\n",
       "<table border=\"1\" class=\"dataframe\">\n",
       "  <thead>\n",
       "    <tr style=\"text-align: right;\">\n",
       "      <th></th>\n",
       "      <th>0</th>\n",
       "      <th>1</th>\n",
       "      <th>2</th>\n",
       "    </tr>\n",
       "  </thead>\n",
       "  <tbody>\n",
       "    <tr>\n",
       "      <th>Market</th>\n",
       "      <td>Chicago, IL</td>\n",
       "      <td>Houston, TX</td>\n",
       "      <td>Miami/Hialeah, FL</td>\n",
       "    </tr>\n",
       "    <tr>\n",
       "      <th>revenue_diff</th>\n",
       "      <td>-3.136118</td>\n",
       "      <td>2.35796</td>\n",
       "      <td>12.681274</td>\n",
       "    </tr>\n",
       "  </tbody>\n",
       "</table>\n",
       "</div>"
      ],
      "text/plain": [
       "                        0            1                  2\n",
       "Market        Chicago, IL  Houston, TX  Miami/Hialeah, FL\n",
       "revenue_diff    -3.136118      2.35796          12.681274"
      ]
     },
     "execution_count": 117,
     "metadata": {},
     "output_type": "execute_result"
    }
   ],
   "source": [
    "df[\"Revenue_cf\"] = df[\"market_share_cf\"]*df[\"market_size\"]*df[\"ADR\"]\n",
    "df[\"revenue_diff\"] = df[\"Revenue_cf\"] - df[\"Revenue\"]\n",
    "revenue_result = df.groupby(\"Market\")[\"revenue_diff\"].sum()/1000000\n",
    "revenue_result = revenue_result.reset_index(\"Market\")\n",
    "revenue_result.transpose()\n"
   ]
  },
  {
   "cell_type": "code",
   "execution_count": 118,
   "id": "5717e97a",
   "metadata": {},
   "outputs": [
    {
     "data": {
      "text/plain": [
       "11.903116393097495"
      ]
     },
     "execution_count": 118,
     "metadata": {},
     "output_type": "execute_result"
    }
   ],
   "source": [
    "revenue_result[\"revenue_diff\"].sum()"
   ]
  },
  {
   "cell_type": "code",
   "execution_count": 119,
   "id": "612d44e9",
   "metadata": {},
   "outputs": [
    {
     "data": {
      "text/html": [
       "<div>\n",
       "<style scoped>\n",
       "    .dataframe tbody tr th:only-of-type {\n",
       "        vertical-align: middle;\n",
       "    }\n",
       "\n",
       "    .dataframe tbody tr th {\n",
       "        vertical-align: top;\n",
       "    }\n",
       "\n",
       "    .dataframe thead th {\n",
       "        text-align: right;\n",
       "    }\n",
       "</style>\n",
       "<table border=\"1\" class=\"dataframe\">\n",
       "  <thead>\n",
       "    <tr style=\"text-align: right;\">\n",
       "      <th></th>\n",
       "      <th>0</th>\n",
       "      <th>1</th>\n",
       "      <th>2</th>\n",
       "      <th>3</th>\n",
       "      <th>4</th>\n",
       "      <th>5</th>\n",
       "    </tr>\n",
       "  </thead>\n",
       "  <tbody>\n",
       "    <tr>\n",
       "      <th>Market</th>\n",
       "      <td>Chicago, IL</td>\n",
       "      <td>Chicago, IL</td>\n",
       "      <td>Houston, TX</td>\n",
       "      <td>Houston, TX</td>\n",
       "      <td>Miami/Hialeah, FL</td>\n",
       "      <td>Miami/Hialeah, FL</td>\n",
       "    </tr>\n",
       "    <tr>\n",
       "      <th>r_greater_exante</th>\n",
       "      <td>False</td>\n",
       "      <td>True</td>\n",
       "      <td>False</td>\n",
       "      <td>True</td>\n",
       "      <td>False</td>\n",
       "      <td>True</td>\n",
       "    </tr>\n",
       "    <tr>\n",
       "      <th>revenue_diff</th>\n",
       "      <td>25.417559</td>\n",
       "      <td>-28.553677</td>\n",
       "      <td>19.669386</td>\n",
       "      <td>-17.311426</td>\n",
       "      <td>15.449122</td>\n",
       "      <td>-2.767848</td>\n",
       "    </tr>\n",
       "  </tbody>\n",
       "</table>\n",
       "</div>"
      ],
      "text/plain": [
       "                            0            1            2            3  \\\n",
       "Market            Chicago, IL  Chicago, IL  Houston, TX  Houston, TX   \n",
       "r_greater_exante        False         True        False         True   \n",
       "revenue_diff        25.417559   -28.553677    19.669386   -17.311426   \n",
       "\n",
       "                                  4                  5  \n",
       "Market            Miami/Hialeah, FL  Miami/Hialeah, FL  \n",
       "r_greater_exante              False               True  \n",
       "revenue_diff              15.449122          -2.767848  "
      ]
     },
     "execution_count": 119,
     "metadata": {},
     "output_type": "execute_result"
    }
   ],
   "source": [
    "revenue_breakdown_result = df.groupby([\"Market\",\"r_greater_exante\"])[\"revenue_diff\"].sum()/1000000\n",
    "revenue_breakdown_result.reset_index().transpose()                                      "
   ]
  },
  {
   "cell_type": "code",
   "execution_count": 120,
   "id": "0a23dfeb",
   "metadata": {},
   "outputs": [
    {
     "data": {
      "text/plain": [
       "r_greater_exante\n",
       "False    60.536067\n",
       "True    -48.632951\n",
       "Name: revenue_diff, dtype: float64"
      ]
     },
     "execution_count": 120,
     "metadata": {},
     "output_type": "execute_result"
    }
   ],
   "source": [
    "df.groupby([\"r_greater_exante\"])[\"revenue_diff\"].sum()/1000000"
   ]
  },
  {
   "cell_type": "code",
   "execution_count": 121,
   "id": "19168abf",
   "metadata": {},
   "outputs": [
    {
     "data": {
      "text/plain": [
       "Market\n",
       "Chicago, IL          2.139210\n",
       "Houston, TX          1.776034\n",
       "Miami/Hialeah, FL    5.041118\n",
       "Name: ps_diff, dtype: float64"
      ]
     },
     "execution_count": 121,
     "metadata": {},
     "output_type": "execute_result"
    }
   ],
   "source": [
    "df[\"ps_cf\"] = df[\"Revenue_cf\"]-df[\"cost_cf\"]\n",
    "df[\"ps_ne\"] = df[\"Revenue\"]-df[\"cost_ne\"]\n",
    "df[\"ps_diff\"] = df[\"ps_cf\"] - df[\"ps_ne\"]\n",
    "df.groupby(\"Market\")[\"ps_diff\"].sum()/1000000"
   ]
  },
  {
   "cell_type": "code",
   "execution_count": 122,
   "id": "8652d3bf",
   "metadata": {},
   "outputs": [
    {
     "data": {
      "text/plain": [
       "8.956362091163829"
      ]
     },
     "execution_count": 122,
     "metadata": {},
     "output_type": "execute_result"
    }
   ],
   "source": [
    "df[\"ps_diff\"].sum()/1000000"
   ]
  },
  {
   "cell_type": "code",
   "execution_count": 123,
   "id": "fc8512b9",
   "metadata": {},
   "outputs": [
    {
     "data": {
      "text/plain": [
       "r_greater_exante\n",
       "False    24.546665\n",
       "True    -15.590303\n",
       "Name: ps_diff, dtype: float64"
      ]
     },
     "execution_count": 123,
     "metadata": {},
     "output_type": "execute_result"
    }
   ],
   "source": [
    "df.groupby([\"r_greater_exante\"])[\"ps_diff\"].sum()/1000000"
   ]
  },
  {
   "cell_type": "code",
   "execution_count": 124,
   "id": "1e88187e",
   "metadata": {
    "scrolled": true
   },
   "outputs": [
    {
     "data": {
      "text/plain": [
       "2.9467543019336655"
      ]
     },
     "execution_count": 124,
     "metadata": {},
     "output_type": "execute_result"
    }
   ],
   "source": [
    "df[\"cost_diff\"] = df[\"cost_cf\"] - df[\"cost_ne\"]\n",
    "df[\"cost_diff\"].sum()/1000000\n",
    "\n"
   ]
  },
  {
   "cell_type": "code",
   "execution_count": 125,
   "id": "7b68d90e",
   "metadata": {},
   "outputs": [
    {
     "data": {
      "text/plain": [
       "r_greater_exante\n",
       "False    35.989403\n",
       "True    -33.042648\n",
       "Name: cost_diff, dtype: float64"
      ]
     },
     "execution_count": 125,
     "metadata": {},
     "output_type": "execute_result"
    }
   ],
   "source": [
    "df.groupby([\"r_greater_exante\"])[\"cost_diff\"].sum()/1000000"
   ]
  },
  {
   "cell_type": "code",
   "execution_count": 126,
   "id": "d3323091",
   "metadata": {},
   "outputs": [
    {
     "data": {
      "text/plain": [
       "Market\n",
       "Chicago, IL         -5.275328\n",
       "Houston, TX          0.581926\n",
       "Miami/Hialeah, FL    7.640156\n",
       "Name: cost_diff, dtype: float64"
      ]
     },
     "execution_count": 126,
     "metadata": {},
     "output_type": "execute_result"
    }
   ],
   "source": [
    "df.groupby(\"Market\")[\"cost_diff\"].sum()/1000000"
   ]
  },
  {
   "cell_type": "code",
   "execution_count": 127,
   "id": "853d574f",
   "metadata": {},
   "outputs": [],
   "source": [
    "total_market_share = df.groupby([\"Market\",\"year\",\"month\"])[\"market_share\"].sum().reset_index().rename(columns={\"market_share\":\"market_share_sum\"})\n",
    "total_market_share_cf = df.groupby([\"Market\",\"year\",\"month\"])[\"market_share_cf\"].sum().reset_index().rename(columns={\"market_share_cf\":\"market_share_sum_cf\"})\n",
    "\n",
    "df_2 = df.merge(total_market_share, on=[\"Market\",\"year\",\"month\"]).merge(total_market_share_cf, on=[\"Market\",\"year\",\"month\"])\n",
    "                                                                                                           \n",
    "\n"
   ]
  },
  {
   "cell_type": "code",
   "execution_count": 128,
   "id": "093c733c",
   "metadata": {},
   "outputs": [
    {
     "data": {
      "text/plain": [
       "-0.003824352087221989"
      ]
     },
     "execution_count": 128,
     "metadata": {},
     "output_type": "execute_result"
    }
   ],
   "source": [
    "df_2[\"market_share_sum_diff\"] = df_2[\"market_share_sum_cf\"] - df_2[\"market_share_sum\"]\n",
    "\n",
    "total_market_share = df_2[[\"Market\",\"year\",\"month\",\"market_share_sum_diff\",\"market_size\"]].drop_duplicates()\n",
    "\n",
    "total_market_share[\"market_share_sum_diff\"].mean()*100"
   ]
  },
  {
   "cell_type": "code",
   "execution_count": 129,
   "id": "27f2e17f",
   "metadata": {},
   "outputs": [],
   "source": [
    "total_market_share = df.groupby([\"Market\",\"year\",\"month\"])[\"market_share\"].sum().reset_index().rename(columns={\"market_share\":\"market_share_sum\"})\n",
    "total_market_share_cf = df.groupby([\"Market\",\"year\",\"month\"])[\"market_share_cf\"].sum().reset_index().rename(columns={\"market_share_cf\":\"market_share_sum_cf\"})\n",
    "\n",
    "df_2 = df.merge(total_market_share, on=[\"Market\",\"year\",\"month\"]).merge(total_market_share_cf, on=[\"Market\",\"year\",\"month\"])\n",
    "                                                                                                           \n"
   ]
  },
  {
   "cell_type": "code",
   "execution_count": 130,
   "id": "83fb30a7",
   "metadata": {},
   "outputs": [],
   "source": [
    "total_market_share = df.groupby([\"operation\",\"year\",\"month\"])[\"market_share\"].sum().reset_index().rename(columns={\"market_share\":\"market_share_sum\"})\n",
    "total_market_share_cf = df.groupby([\"operation\",\"year\",\"month\"])[\"market_share_cf\"].sum().reset_index().rename(columns={\"market_share_cf\":\"market_share_sum_cf\"})\n",
    "\n",
    "df_3 = df.merge(total_market_share, on=[\"operation\",\"year\",\"month\"]).merge(total_market_share_cf, on=[\"operation\",\"year\",\"month\"])\n",
    "\n",
    "df_3[\"market_share_sum_diff\"] = df_3[\"market_share_sum_cf\"] - df_3[\"market_share_sum\"]\n",
    "\n",
    "total_market_share = df_3[[\"operation\",\"year\",\"month\",\"market_share_sum_diff\",\"market_size\"]].drop_duplicates()\n",
    "\n",
    "        "
   ]
  },
  {
   "cell_type": "code",
   "execution_count": 131,
   "id": "967cdca1",
   "metadata": {},
   "outputs": [
    {
     "data": {
      "text/plain": [
       "operation\n",
       "Chain_affiliated   -0.268088\n",
       "Independent         0.256615\n",
       "Name: market_share_sum_diff, dtype: float64"
      ]
     },
     "execution_count": 131,
     "metadata": {},
     "output_type": "execute_result"
    }
   ],
   "source": [
    "total_market_share.groupby(\"operation\")[\"market_share_sum_diff\"].mean()*100"
   ]
  },
  {
   "cell_type": "code",
   "execution_count": 132,
   "id": "cb1b3d46",
   "metadata": {},
   "outputs": [],
   "source": [
    "total_market_share = df.groupby([\"operation\",\"r_greater_exante\",\"year\",\"month\"])[\"market_share\"].sum().reset_index().rename(columns={\"market_share\":\"market_share_sum\"})\n",
    "total_market_share_cf = df.groupby([\"operation\",\"r_greater_exante\",\"year\",\"month\"])[\"market_share_cf\"].sum().reset_index().rename(columns={\"market_share_cf\":\"market_share_sum_cf\"})\n",
    "\n",
    "df_4 = df.merge(total_market_share, on=[\"operation\",\"r_greater_exante\",\"year\",\"month\"]).merge(total_market_share_cf, on=[\"operation\",\"year\",\"month\",\"r_greater_exante\"])\n",
    "\n",
    "df_4[\"market_share_sum_diff\"] = df_4[\"market_share_sum_cf\"] - df_4[\"market_share_sum\"]\n",
    "\n",
    "total_market_share = df_4[[\"operation\",\"r_greater_exante\",\"year\",\"month\",\"market_share_sum_diff\",\"market_size\"]].drop_duplicates()\n",
    "\n",
    "        "
   ]
  },
  {
   "cell_type": "code",
   "execution_count": 133,
   "id": "f0579aea",
   "metadata": {},
   "outputs": [
    {
     "data": {
      "text/plain": [
       "operation\n",
       "Chain_affiliated   -0.134044\n",
       "Independent         0.128308\n",
       "Name: market_share_sum_diff, dtype: float64"
      ]
     },
     "execution_count": 133,
     "metadata": {},
     "output_type": "execute_result"
    }
   ],
   "source": [
    "total_market_share.groupby(\"operation\")[\"market_share_sum_diff\"].mean()*100"
   ]
  },
  {
   "cell_type": "code",
   "execution_count": 134,
   "id": "e8df4404",
   "metadata": {},
   "outputs": [
    {
     "data": {
      "text/plain": [
       "operation\n",
       "Chain_affiliated    3.811157\n",
       "Independent         5.145205\n",
       "Name: ps_diff, dtype: float64"
      ]
     },
     "execution_count": 134,
     "metadata": {},
     "output_type": "execute_result"
    }
   ],
   "source": [
    "df.groupby(\"operation\")[\"ps_diff\"].sum()/1000000"
   ]
  },
  {
   "cell_type": "code",
   "execution_count": 268,
   "id": "0fda4789",
   "metadata": {},
   "outputs": [
    {
     "data": {
      "text/plain": [
       "r_greater_exante  operation       \n",
       "False             Chain_affiliated    18.729764\n",
       "                  Independent          6.735477\n",
       "True              Chain_affiliated   -14.255042\n",
       "                  Independent         -1.294047\n",
       "Name: ps_diff, dtype: float64"
      ]
     },
     "execution_count": 268,
     "metadata": {},
     "output_type": "execute_result"
    }
   ],
   "source": [
    "df.groupby([\"r_greater_exante\",\"operation\"])[\"ps_diff\"].sum()/1000000"
   ]
  },
  {
   "cell_type": "code",
   "execution_count": 269,
   "id": "aa3c7a1c",
   "metadata": {},
   "outputs": [
    {
     "data": {
      "text/plain": [
       "operation\n",
       "Chain_affiliated    1.403200\n",
       "Independent         9.060572\n",
       "Name: revenue_diff, dtype: float64"
      ]
     },
     "execution_count": 269,
     "metadata": {},
     "output_type": "execute_result"
    }
   ],
   "source": [
    "df.groupby(\"operation\")[\"revenue_diff\"].sum()/1000000"
   ]
  },
  {
   "cell_type": "code",
   "execution_count": 270,
   "id": "e13d3dc3",
   "metadata": {},
   "outputs": [
    {
     "data": {
      "text/plain": [
       "r_greater_exante  operation       \n",
       "False             Chain_affiliated    48.649934\n",
       "                  Independent         15.540101\n",
       "True              Chain_affiliated   -47.246734\n",
       "                  Independent         -6.479528\n",
       "Name: revenue_diff, dtype: float64"
      ]
     },
     "execution_count": 270,
     "metadata": {},
     "output_type": "execute_result"
    }
   ],
   "source": [
    "df.groupby([\"r_greater_exante\",\"operation\"])[\"revenue_diff\"].sum()/1000000"
   ]
  },
  {
   "cell_type": "code",
   "execution_count": 271,
   "id": "df1727b2",
   "metadata": {},
   "outputs": [
    {
     "data": {
      "text/plain": [
       "operation\n",
       "Chain_affiliated   -3.071523\n",
       "Independent         3.619142\n",
       "Name: cost_diff, dtype: float64"
      ]
     },
     "execution_count": 271,
     "metadata": {},
     "output_type": "execute_result"
    }
   ],
   "source": [
    "df.groupby(\"operation\")[\"cost_diff\"].sum()/1000000"
   ]
  },
  {
   "cell_type": "code",
   "execution_count": 272,
   "id": "9c09a5bf",
   "metadata": {},
   "outputs": [
    {
     "data": {
      "text/plain": [
       "r_greater_exante  operation       \n",
       "False             Chain_affiliated    29.920170\n",
       "                  Independent          8.804624\n",
       "True              Chain_affiliated   -32.991693\n",
       "                  Independent         -5.185482\n",
       "Name: cost_diff, dtype: float64"
      ]
     },
     "execution_count": 272,
     "metadata": {},
     "output_type": "execute_result"
    }
   ],
   "source": [
    "df.groupby([\"r_greater_exante\",\"operation\"])[\"cost_diff\"].sum()/1000000"
   ]
  },
  {
   "cell_type": "code",
   "execution_count": 273,
   "id": "d1b28a4f",
   "metadata": {},
   "outputs": [
    {
     "data": {
      "text/plain": [
       "operation         r_greater_exante\n",
       "Chain_affiliated  False               2499\n",
       "                  True                2329\n",
       "Independent       False                385\n",
       "                  True                 384\n",
       "dtype: int64"
      ]
     },
     "execution_count": 273,
     "metadata": {},
     "output_type": "execute_result"
    }
   ],
   "source": [
    "df.groupby([\"operation\",\"r_greater_exante\"]).size()"
   ]
  },
  {
   "cell_type": "code",
   "execution_count": 274,
   "id": "04f5cbf5",
   "metadata": {},
   "outputs": [
    {
     "data": {
      "text/plain": [
       "r_greater_exante\n",
       "False    2884\n",
       "True     2713\n",
       "dtype: int64"
      ]
     },
     "execution_count": 274,
     "metadata": {},
     "output_type": "execute_result"
    }
   ],
   "source": [
    "df.groupby([\"r_greater_exante\"]).size()"
   ]
  },
  {
   "cell_type": "code",
   "execution_count": null,
   "id": "46d0379a",
   "metadata": {},
   "outputs": [],
   "source": []
  },
  {
   "cell_type": "code",
   "execution_count": null,
   "id": "f34137c6",
   "metadata": {},
   "outputs": [],
   "source": []
  },
  {
   "cell_type": "code",
   "execution_count": null,
   "id": "53d30cff",
   "metadata": {},
   "outputs": [],
   "source": []
  }
 ],
 "metadata": {
  "kernelspec": {
   "display_name": "Python 3 (ipykernel)",
   "language": "python",
   "name": "python3"
  },
  "language_info": {
   "codemirror_mode": {
    "name": "ipython",
    "version": 3
   },
   "file_extension": ".py",
   "mimetype": "text/x-python",
   "name": "python",
   "nbconvert_exporter": "python",
   "pygments_lexer": "ipython3",
   "version": "3.7.13"
  },
  "toc": {
   "base_numbering": 1,
   "nav_menu": {},
   "number_sections": true,
   "sideBar": true,
   "skip_h1_title": false,
   "title_cell": "Table of Contents",
   "title_sidebar": "Contents",
   "toc_cell": false,
   "toc_position": {},
   "toc_section_display": true,
   "toc_window_display": true
  }
 },
 "nbformat": 4,
 "nbformat_minor": 5
}
