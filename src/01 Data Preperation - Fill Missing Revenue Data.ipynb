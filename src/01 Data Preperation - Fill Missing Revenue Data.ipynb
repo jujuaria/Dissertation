{
 "cells": [
  {
   "cell_type": "code",
   "execution_count": 1,
   "metadata": {},
   "outputs": [
    {
     "data": {
      "text/plain": [
       "'/Users/juju/Library/Mobile Documents/com~apple~CloudDocs/ta_project'"
      ]
     },
     "execution_count": 1,
     "metadata": {},
     "output_type": "execute_result"
    }
   ],
   "source": [
    "from __future__ import division\n",
    "import pandas as pd\n",
    "import matplotlib.pyplot as plt\n",
    "import numpy as np\n",
    "import warnings\n",
    "warnings.filterwarnings('ignore')\n",
    "\n",
    "import os\n",
    "\n",
    "from datetime import datetime\n",
    "\n",
    "\n",
    "cwd = os.getcwd()\n",
    "\n",
    "parent = os.path.dirname(cwd)\n",
    "\n",
    "parent"
   ]
  },
  {
   "cell_type": "code",
   "execution_count": 2,
   "metadata": {},
   "outputs": [],
   "source": [
    "#city_name = \"Miami\""
   ]
  },
  {
   "cell_type": "code",
   "execution_count": 3,
   "metadata": {},
   "outputs": [],
   "source": [
    "# Import basic information data\n",
    "#str_info = pd.read_excel(os.path.join(parent+r\"/data/from_str_data\",r\"Basic Property Info {}.xlsx\".format(city_name)))"
   ]
  },
  {
   "cell_type": "code",
   "execution_count": 4,
   "metadata": {},
   "outputs": [],
   "source": [
    "str_info = pd.read_excel(os.path.join(parent+r\"/data/STR 2022\",r\"master_file_SHAREID.xlsx\"))"
   ]
  },
  {
   "cell_type": "code",
   "execution_count": 5,
   "metadata": {},
   "outputs": [],
   "source": [
    "str_info = str_info[[\"SHARE ID\",\"Market\",\"Operation\",\"Class\",\"Location\",\"Open Date\"]]\n"
   ]
  },
  {
   "cell_type": "code",
   "execution_count": 11,
   "metadata": {},
   "outputs": [
    {
     "data": {
      "text/plain": [
       "3056"
      ]
     },
     "execution_count": 11,
     "metadata": {},
     "output_type": "execute_result"
    }
   ],
   "source": [
    "str_info[str_info['Market']!=\"Boston, MA\"][\"SHARE ID\"].nunique()"
   ]
  },
  {
   "cell_type": "code",
   "execution_count": 10,
   "metadata": {},
   "outputs": [
    {
     "data": {
      "text/plain": [
       "array(['Miami, FL', 'Nashville, TN', 'Houston, TX', 'Atlanta, GA',\n",
       "       'Dallas, TX', 'New York, NY', 'Boston, MA', 'Chicago, IL',\n",
       "       'Washington, DC', 'Phoenix, AZ'], dtype=object)"
      ]
     },
     "execution_count": 10,
     "metadata": {},
     "output_type": "execute_result"
    }
   ],
   "source": [
    "str_info[\"Market\"].unique()"
   ]
  },
  {
   "cell_type": "code",
   "execution_count": 21,
   "metadata": {},
   "outputs": [],
   "source": [
    "# Import revenue Data\n",
    "str_revenue = pd.read_excel(os.path.join(parent+r\"/data/STR 2022\",r\"Master_file_MonthlyPerformanceData_200001_202212.xlsx\".format(city_name)))"
   ]
  },
  {
   "cell_type": "code",
   "execution_count": 22,
   "metadata": {},
   "outputs": [
    {
     "data": {
      "text/html": [
       "<div>\n",
       "<style scoped>\n",
       "    .dataframe tbody tr th:only-of-type {\n",
       "        vertical-align: middle;\n",
       "    }\n",
       "\n",
       "    .dataframe tbody tr th {\n",
       "        vertical-align: top;\n",
       "    }\n",
       "\n",
       "    .dataframe thead th {\n",
       "        text-align: right;\n",
       "    }\n",
       "</style>\n",
       "<table border=\"1\" class=\"dataframe\">\n",
       "  <thead>\n",
       "    <tr style=\"text-align: right;\">\n",
       "      <th></th>\n",
       "      <th>SHARE ID</th>\n",
       "      <th>Year Month</th>\n",
       "      <th>Occ</th>\n",
       "      <th>ADR</th>\n",
       "      <th>RevPAR</th>\n",
       "    </tr>\n",
       "  </thead>\n",
       "  <tbody>\n",
       "    <tr>\n",
       "      <th>0</th>\n",
       "      <td>51622</td>\n",
       "      <td>202205</td>\n",
       "      <td>65.3763</td>\n",
       "      <td>179.237458</td>\n",
       "      <td>117.178897</td>\n",
       "    </tr>\n",
       "    <tr>\n",
       "      <th>1</th>\n",
       "      <td>51622</td>\n",
       "      <td>202206</td>\n",
       "      <td>81.6825</td>\n",
       "      <td>169.175884</td>\n",
       "      <td>138.187159</td>\n",
       "    </tr>\n",
       "    <tr>\n",
       "      <th>2</th>\n",
       "      <td>51622</td>\n",
       "      <td>202207</td>\n",
       "      <td>79.1705</td>\n",
       "      <td>165.909926</td>\n",
       "      <td>131.351730</td>\n",
       "    </tr>\n",
       "    <tr>\n",
       "      <th>3</th>\n",
       "      <td>51622</td>\n",
       "      <td>202208</td>\n",
       "      <td>92.2273</td>\n",
       "      <td>174.633604</td>\n",
       "      <td>161.059932</td>\n",
       "    </tr>\n",
       "    <tr>\n",
       "      <th>4</th>\n",
       "      <td>51622</td>\n",
       "      <td>202209</td>\n",
       "      <td>88.6349</td>\n",
       "      <td>169.458188</td>\n",
       "      <td>150.199130</td>\n",
       "    </tr>\n",
       "    <tr>\n",
       "      <th>...</th>\n",
       "      <td>...</td>\n",
       "      <td>...</td>\n",
       "      <td>...</td>\n",
       "      <td>...</td>\n",
       "      <td>...</td>\n",
       "    </tr>\n",
       "    <tr>\n",
       "      <th>409157</th>\n",
       "      <td>28650555</td>\n",
       "      <td>202208</td>\n",
       "      <td>70.8714</td>\n",
       "      <td>180.239130</td>\n",
       "      <td>127.738084</td>\n",
       "    </tr>\n",
       "    <tr>\n",
       "      <th>409158</th>\n",
       "      <td>28650555</td>\n",
       "      <td>202209</td>\n",
       "      <td>61.5422</td>\n",
       "      <td>170.759095</td>\n",
       "      <td>105.089055</td>\n",
       "    </tr>\n",
       "    <tr>\n",
       "      <th>409159</th>\n",
       "      <td>28650555</td>\n",
       "      <td>202210</td>\n",
       "      <td>60.8101</td>\n",
       "      <td>197.896707</td>\n",
       "      <td>120.341375</td>\n",
       "    </tr>\n",
       "    <tr>\n",
       "      <th>409160</th>\n",
       "      <td>28650555</td>\n",
       "      <td>202211</td>\n",
       "      <td>58.2222</td>\n",
       "      <td>230.335115</td>\n",
       "      <td>134.106222</td>\n",
       "    </tr>\n",
       "    <tr>\n",
       "      <th>409161</th>\n",
       "      <td>28650555</td>\n",
       "      <td>202212</td>\n",
       "      <td>63.8709</td>\n",
       "      <td>275.830976</td>\n",
       "      <td>176.175914</td>\n",
       "    </tr>\n",
       "  </tbody>\n",
       "</table>\n",
       "<p>409162 rows × 5 columns</p>\n",
       "</div>"
      ],
      "text/plain": [
       "        SHARE ID  Year Month      Occ         ADR      RevPAR\n",
       "0          51622      202205  65.3763  179.237458  117.178897\n",
       "1          51622      202206  81.6825  169.175884  138.187159\n",
       "2          51622      202207  79.1705  165.909926  131.351730\n",
       "3          51622      202208  92.2273  174.633604  161.059932\n",
       "4          51622      202209  88.6349  169.458188  150.199130\n",
       "...          ...         ...      ...         ...         ...\n",
       "409157  28650555      202208  70.8714  180.239130  127.738084\n",
       "409158  28650555      202209  61.5422  170.759095  105.089055\n",
       "409159  28650555      202210  60.8101  197.896707  120.341375\n",
       "409160  28650555      202211  58.2222  230.335115  134.106222\n",
       "409161  28650555      202212  63.8709  275.830976  176.175914\n",
       "\n",
       "[409162 rows x 5 columns]"
      ]
     },
     "execution_count": 22,
     "metadata": {},
     "output_type": "execute_result"
    }
   ],
   "source": [
    "str_revenue"
   ]
  },
  {
   "cell_type": "code",
   "execution_count": 23,
   "metadata": {},
   "outputs": [],
   "source": [
    "str_data = str_revenue.merge(str_info, on=\"SHARE ID\")"
   ]
  },
  {
   "cell_type": "code",
   "execution_count": 24,
   "metadata": {},
   "outputs": [
    {
     "data": {
      "text/html": [
       "<div>\n",
       "<style scoped>\n",
       "    .dataframe tbody tr th:only-of-type {\n",
       "        vertical-align: middle;\n",
       "    }\n",
       "\n",
       "    .dataframe tbody tr th {\n",
       "        vertical-align: top;\n",
       "    }\n",
       "\n",
       "    .dataframe thead th {\n",
       "        text-align: right;\n",
       "    }\n",
       "</style>\n",
       "<table border=\"1\" class=\"dataframe\">\n",
       "  <thead>\n",
       "    <tr style=\"text-align: right;\">\n",
       "      <th></th>\n",
       "      <th>SHARE ID</th>\n",
       "      <th>Year Month</th>\n",
       "      <th>Occ</th>\n",
       "      <th>ADR</th>\n",
       "      <th>RevPAR</th>\n",
       "      <th>Market</th>\n",
       "      <th>Operation</th>\n",
       "      <th>Class</th>\n",
       "      <th>Location</th>\n",
       "      <th>Open Date</th>\n",
       "    </tr>\n",
       "  </thead>\n",
       "  <tbody>\n",
       "    <tr>\n",
       "      <th>0</th>\n",
       "      <td>51622</td>\n",
       "      <td>202205</td>\n",
       "      <td>65.3763</td>\n",
       "      <td>179.237458</td>\n",
       "      <td>117.178897</td>\n",
       "      <td>Nashville, TN</td>\n",
       "      <td>Chain</td>\n",
       "      <td>Upper Midscale</td>\n",
       "      <td>Urban</td>\n",
       "      <td>2022.0</td>\n",
       "    </tr>\n",
       "    <tr>\n",
       "      <th>1</th>\n",
       "      <td>51622</td>\n",
       "      <td>202206</td>\n",
       "      <td>81.6825</td>\n",
       "      <td>169.175884</td>\n",
       "      <td>138.187159</td>\n",
       "      <td>Nashville, TN</td>\n",
       "      <td>Chain</td>\n",
       "      <td>Upper Midscale</td>\n",
       "      <td>Urban</td>\n",
       "      <td>2022.0</td>\n",
       "    </tr>\n",
       "    <tr>\n",
       "      <th>2</th>\n",
       "      <td>51622</td>\n",
       "      <td>202207</td>\n",
       "      <td>79.1705</td>\n",
       "      <td>165.909926</td>\n",
       "      <td>131.351730</td>\n",
       "      <td>Nashville, TN</td>\n",
       "      <td>Chain</td>\n",
       "      <td>Upper Midscale</td>\n",
       "      <td>Urban</td>\n",
       "      <td>2022.0</td>\n",
       "    </tr>\n",
       "    <tr>\n",
       "      <th>3</th>\n",
       "      <td>51622</td>\n",
       "      <td>202208</td>\n",
       "      <td>92.2273</td>\n",
       "      <td>174.633604</td>\n",
       "      <td>161.059932</td>\n",
       "      <td>Nashville, TN</td>\n",
       "      <td>Chain</td>\n",
       "      <td>Upper Midscale</td>\n",
       "      <td>Urban</td>\n",
       "      <td>2022.0</td>\n",
       "    </tr>\n",
       "    <tr>\n",
       "      <th>4</th>\n",
       "      <td>51622</td>\n",
       "      <td>202209</td>\n",
       "      <td>88.6349</td>\n",
       "      <td>169.458188</td>\n",
       "      <td>150.199130</td>\n",
       "      <td>Nashville, TN</td>\n",
       "      <td>Chain</td>\n",
       "      <td>Upper Midscale</td>\n",
       "      <td>Urban</td>\n",
       "      <td>2022.0</td>\n",
       "    </tr>\n",
       "  </tbody>\n",
       "</table>\n",
       "</div>"
      ],
      "text/plain": [
       "   SHARE ID  Year Month      Occ         ADR      RevPAR         Market  \\\n",
       "0     51622      202205  65.3763  179.237458  117.178897  Nashville, TN   \n",
       "1     51622      202206  81.6825  169.175884  138.187159  Nashville, TN   \n",
       "2     51622      202207  79.1705  165.909926  131.351730  Nashville, TN   \n",
       "3     51622      202208  92.2273  174.633604  161.059932  Nashville, TN   \n",
       "4     51622      202209  88.6349  169.458188  150.199130  Nashville, TN   \n",
       "\n",
       "  Operation           Class Location  Open Date  \n",
       "0     Chain  Upper Midscale    Urban     2022.0  \n",
       "1     Chain  Upper Midscale    Urban     2022.0  \n",
       "2     Chain  Upper Midscale    Urban     2022.0  \n",
       "3     Chain  Upper Midscale    Urban     2022.0  \n",
       "4     Chain  Upper Midscale    Urban     2022.0  "
      ]
     },
     "execution_count": 24,
     "metadata": {},
     "output_type": "execute_result"
    }
   ],
   "source": [
    "str_data.head()"
   ]
  },
  {
   "cell_type": "code",
   "execution_count": 25,
   "metadata": {},
   "outputs": [],
   "source": [
    "# convert string to date month\n",
    "str_data['year_month'] = str_data[\"Year Month\"].astype(str).str[:4]+'-'+\\\n",
    "                         str_data[\"Year Month\"].astype(str).str[-2:]"
   ]
  },
  {
   "cell_type": "code",
   "execution_count": 26,
   "metadata": {},
   "outputs": [],
   "source": [
    "str_data['year_month'] = pd.to_datetime(str_data['year_month']).dt.strftime('%Y-%m')"
   ]
  },
  {
   "cell_type": "code",
   "execution_count": 27,
   "metadata": {},
   "outputs": [],
   "source": [
    "str_data[\"year_month\"] = pd.to_datetime(str_data[\"year_month\"]).dt.to_period('M')"
   ]
  },
  {
   "cell_type": "code",
   "execution_count": 28,
   "metadata": {},
   "outputs": [
    {
     "data": {
      "text/plain": [
       "Index(['SHARE ID', 'Year Month', 'Occ', 'ADR', 'RevPAR', 'Market', 'Operation',\n",
       "       'Class', 'Location', 'Open Date', 'year_month'],\n",
       "      dtype='object')"
      ]
     },
     "execution_count": 28,
     "metadata": {},
     "output_type": "execute_result"
    }
   ],
   "source": [
    "str_data.columns"
   ]
  },
  {
   "cell_type": "code",
   "execution_count": 29,
   "metadata": {},
   "outputs": [
    {
     "data": {
      "text/plain": [
       "count    2491.000000\n",
       "mean      164.256122\n",
       "std        98.412803\n",
       "min         2.000000\n",
       "25%        66.000000\n",
       "50%       171.000000\n",
       "75%       269.000000\n",
       "max       276.000000\n",
       "Name: Year Month, dtype: float64"
      ]
     },
     "execution_count": 29,
     "metadata": {},
     "output_type": "execute_result"
    }
   ],
   "source": [
    "# Number of months of data from each hotel\n",
    "\n",
    "str_data.groupby(\"SHARE ID\")[\"Year Month\"].nunique().describe()"
   ]
  },
  {
   "cell_type": "code",
   "execution_count": 30,
   "metadata": {},
   "outputs": [],
   "source": [
    "#### Some months don't have any revenue data\n",
    "#### Generate a dataframe without month gaps\n",
    "#### Leave performance columns as NA\n",
    "\n",
    "#performance_cols = [ 'Supply', 'Demand', 'Revenue', 'Occ', 'ADR','RevPAR' ]\n",
    "\n",
    "performance_cols = ['Occ', 'ADR','RevPAR' ]\n",
    "l=[]\n",
    "\n",
    "hotels=str_data.groupby(\"SHARE ID\")\n",
    "\n",
    "for name, h in hotels:\n",
    "    h_resample = h.set_index('year_month').resample('M').asfreq().ffill().reset_index(level=0, drop=False)\n",
    "    h_resample[\"month_with_revenue\"] = h_resample[\"year_month\"].isin(h[\"year_month\"])\n",
    "    \n",
    "    for col in performance_cols:\n",
    "    \n",
    "        h_resample[col]= np.where(h_resample[\"month_with_revenue\"]==False, \n",
    "                      np.nan,h_resample[col])\n",
    "    l.append(h_resample)\n",
    "    \n",
    "str_monthly = pd.concat(l,axis=0)"
   ]
  },
  {
   "cell_type": "code",
   "execution_count": 31,
   "metadata": {},
   "outputs": [],
   "source": [
    "str_monthly = str_monthly.reset_index().drop([\"index\"],axis=1)"
   ]
  },
  {
   "cell_type": "code",
   "execution_count": 47,
   "metadata": {},
   "outputs": [],
   "source": [
    "missing_revenue_months = str_monthly.groupby(\"SHARE ID\").apply(lambda x: sum(x[\"Occ\"].isna()))"
   ]
  },
  {
   "cell_type": "code",
   "execution_count": 48,
   "metadata": {},
   "outputs": [],
   "source": [
    "missing_revenue_months = missing_revenue_months.reset_index().rename(columns={0:\"number of missing months\"})"
   ]
  },
  {
   "cell_type": "code",
   "execution_count": 49,
   "metadata": {},
   "outputs": [],
   "source": [
    "missing_revenue_hotels = missing_revenue_months[missing_revenue_months[\"number of missing months\"]!=0]"
   ]
  },
  {
   "cell_type": "code",
   "execution_count": 50,
   "metadata": {},
   "outputs": [
    {
     "data": {
      "text/html": [
       "<div>\n",
       "<style scoped>\n",
       "    .dataframe tbody tr th:only-of-type {\n",
       "        vertical-align: middle;\n",
       "    }\n",
       "\n",
       "    .dataframe tbody tr th {\n",
       "        vertical-align: top;\n",
       "    }\n",
       "\n",
       "    .dataframe thead th {\n",
       "        text-align: right;\n",
       "    }\n",
       "</style>\n",
       "<table border=\"1\" class=\"dataframe\">\n",
       "  <thead>\n",
       "    <tr style=\"text-align: right;\">\n",
       "      <th></th>\n",
       "      <th>SHARE ID</th>\n",
       "      <th>number of missing months</th>\n",
       "    </tr>\n",
       "  </thead>\n",
       "  <tbody>\n",
       "    <tr>\n",
       "      <th>2</th>\n",
       "      <td>75909.0</td>\n",
       "      <td>2</td>\n",
       "    </tr>\n",
       "    <tr>\n",
       "      <th>4</th>\n",
       "      <td>80055.0</td>\n",
       "      <td>85</td>\n",
       "    </tr>\n",
       "    <tr>\n",
       "      <th>5</th>\n",
       "      <td>80076.0</td>\n",
       "      <td>1</td>\n",
       "    </tr>\n",
       "    <tr>\n",
       "      <th>8</th>\n",
       "      <td>80286.0</td>\n",
       "      <td>1</td>\n",
       "    </tr>\n",
       "    <tr>\n",
       "      <th>11</th>\n",
       "      <td>80489.0</td>\n",
       "      <td>12</td>\n",
       "    </tr>\n",
       "    <tr>\n",
       "      <th>...</th>\n",
       "      <td>...</td>\n",
       "      <td>...</td>\n",
       "    </tr>\n",
       "    <tr>\n",
       "      <th>2466</th>\n",
       "      <td>10117030.0</td>\n",
       "      <td>2</td>\n",
       "    </tr>\n",
       "    <tr>\n",
       "      <th>2467</th>\n",
       "      <td>10123160.0</td>\n",
       "      <td>16</td>\n",
       "    </tr>\n",
       "    <tr>\n",
       "      <th>2470</th>\n",
       "      <td>10137690.0</td>\n",
       "      <td>2</td>\n",
       "    </tr>\n",
       "    <tr>\n",
       "      <th>2473</th>\n",
       "      <td>10155434.0</td>\n",
       "      <td>125</td>\n",
       "    </tr>\n",
       "    <tr>\n",
       "      <th>2477</th>\n",
       "      <td>10176414.0</td>\n",
       "      <td>6</td>\n",
       "    </tr>\n",
       "  </tbody>\n",
       "</table>\n",
       "<p>1075 rows × 2 columns</p>\n",
       "</div>"
      ],
      "text/plain": [
       "        SHARE ID  number of missing months\n",
       "2        75909.0                         2\n",
       "4        80055.0                        85\n",
       "5        80076.0                         1\n",
       "8        80286.0                         1\n",
       "11       80489.0                        12\n",
       "...          ...                       ...\n",
       "2466  10117030.0                         2\n",
       "2467  10123160.0                        16\n",
       "2470  10137690.0                         2\n",
       "2473  10155434.0                       125\n",
       "2477  10176414.0                         6\n",
       "\n",
       "[1075 rows x 2 columns]"
      ]
     },
     "execution_count": 50,
     "metadata": {},
     "output_type": "execute_result"
    }
   ],
   "source": [
    "missing_revenue_hotels"
   ]
  },
  {
   "cell_type": "code",
   "execution_count": 20,
   "metadata": {},
   "outputs": [],
   "source": [
    "#output_dir = parent+r\"/data/missing_revenue_hotels\"\n",
    "#missing_revenue_hotels\\\n",
    "   # .to_excel(os.path.join(output_dir,r\"{}_hotels_missing_revenues.xlsx\".format(city_name)), index = False, encoding='utf-8')"
   ]
  },
  {
   "cell_type": "code",
   "execution_count": 51,
   "metadata": {},
   "outputs": [],
   "source": [
    "# Drop hotels with more than 3 months of missing revenue\n",
    "\n",
    "drop_hotels = missing_revenue_hotels"
   ]
  },
  {
   "cell_type": "code",
   "execution_count": 52,
   "metadata": {},
   "outputs": [
    {
     "name": "stdout",
     "output_type": "stream",
     "text": [
      "Total number of hotels have missing revenues from at least 3 months (i.e. gaps in monthly revenue) from 1075 (43.2%)--Miami\n",
      "Dropped 1075 (43.2%) Hotels From Miami.\n"
     ]
    }
   ],
   "source": [
    "print('Total number of hotels have missing revenues from at least 3 months (i.e. gaps in monthly revenue) from {} ({}%)--{}'.format(*[\\\n",
    "                                                    len(missing_revenue_hotels),\\\n",
    "                                                    round(len(missing_revenue_hotels)/str_data[\"SHARE ID\"].nunique(),3)*100,\\\n",
    "                                                    city_name]))\n",
    "print('Dropped {} ({}%) Hotels From {}.'.format(*[drop_hotels[\"SHARE ID\"].nunique(),\\\n",
    "                                                 100*round(drop_hotels[\"SHARE ID\"].nunique()/str_data[\"SHARE ID\"].nunique(),3),\\\n",
    "                                                 city_name]))"
   ]
  },
  {
   "cell_type": "code",
   "execution_count": 53,
   "metadata": {},
   "outputs": [],
   "source": [
    "str_monthly_cleaned = str_monthly[~str_monthly[\"SHARE ID\"].isin(drop_hotels[\"SHARE ID\"])]"
   ]
  },
  {
   "cell_type": "code",
   "execution_count": 54,
   "metadata": {},
   "outputs": [
    {
     "data": {
      "text/plain": [
       "1416"
      ]
     },
     "execution_count": 54,
     "metadata": {},
     "output_type": "execute_result"
    }
   ],
   "source": [
    "str_monthly_cleaned[\"SHARE ID\"].nunique()"
   ]
  },
  {
   "cell_type": "code",
   "execution_count": 55,
   "metadata": {},
   "outputs": [],
   "source": [
    "str_monthly_cleaned = str_monthly_cleaned.reset_index().drop([\"index\"],axis=1)"
   ]
  },
  {
   "cell_type": "code",
   "execution_count": 60,
   "metadata": {},
   "outputs": [
    {
     "data": {
      "text/plain": [
       "array(['Nashville, TN', 'Miami, FL', 'Houston, TX', 'Dallas, TX',\n",
       "       'New York, NY', 'Boston, MA', 'Chicago, IL', 'Washington, DC',\n",
       "       'Phoenix, AZ', 'Atlanta, GA'], dtype=object)"
      ]
     },
     "execution_count": 60,
     "metadata": {},
     "output_type": "execute_result"
    }
   ],
   "source": [
    "str_monthly_cleaned[\"Market\"].unique()"
   ]
  },
  {
   "cell_type": "code",
   "execution_count": 43,
   "metadata": {},
   "outputs": [],
   "source": [
    "#str_monthly_cleaned = str_monthly_cleaned.drop([\"year_month\",\"Country\",\"Market\",\"month_with_revenue\"],axis=1)\n"
   ]
  },
  {
   "cell_type": "code",
   "execution_count": 57,
   "metadata": {},
   "outputs": [],
   "source": [
    "# import the KNNimputer class\n",
    "#from sklearn.impute import KNNImputer\n",
    "\n",
    "#imputer = KNNImputer(n_neighbors=5)\n",
    "#str_monthly_filled = imputer.fit_transform(str_monthly_cleaned)\n",
    "\n",
    "  "
   ]
  },
  {
   "cell_type": "code",
   "execution_count": null,
   "metadata": {},
   "outputs": [],
   "source": [
    "#str_monthly_filled = pd.DataFrame(str_monthly_filled,columns=list(str_monthly_cleaned.columns))"
   ]
  },
  {
   "cell_type": "code",
   "execution_count": 29,
   "metadata": {},
   "outputs": [],
   "source": [
    "#str_monthly_cleaned = str_monthly[~str_monthly[\"SHARE ID\"].isin(drop_hotels[\"SHARE ID\"])]\n",
    "#str_monthly_cleaned = str_monthly_cleaned.reset_index().drop([\"index\"],axis=1)\n",
    "#str_monthly_filled[\"year_month\"] = str_monthly_cleaned[\"year_month\"]"
   ]
  },
  {
   "cell_type": "code",
   "execution_count": 61,
   "metadata": {},
   "outputs": [
    {
     "data": {
      "text/html": [
       "<div>\n",
       "<style scoped>\n",
       "    .dataframe tbody tr th:only-of-type {\n",
       "        vertical-align: middle;\n",
       "    }\n",
       "\n",
       "    .dataframe tbody tr th {\n",
       "        vertical-align: top;\n",
       "    }\n",
       "\n",
       "    .dataframe thead th {\n",
       "        text-align: right;\n",
       "    }\n",
       "</style>\n",
       "<table border=\"1\" class=\"dataframe\">\n",
       "  <thead>\n",
       "    <tr style=\"text-align: right;\">\n",
       "      <th></th>\n",
       "      <th>year_month</th>\n",
       "      <th>SHARE ID</th>\n",
       "      <th>Year Month</th>\n",
       "      <th>Occ</th>\n",
       "      <th>ADR</th>\n",
       "      <th>RevPAR</th>\n",
       "      <th>Market</th>\n",
       "      <th>Operation</th>\n",
       "      <th>Class</th>\n",
       "      <th>Location</th>\n",
       "      <th>Open Date</th>\n",
       "      <th>month_with_revenue</th>\n",
       "    </tr>\n",
       "  </thead>\n",
       "  <tbody>\n",
       "    <tr>\n",
       "      <th>0</th>\n",
       "      <td>2022-05</td>\n",
       "      <td>51622.0</td>\n",
       "      <td>202205.0</td>\n",
       "      <td>65.3763</td>\n",
       "      <td>179.237458</td>\n",
       "      <td>117.178897</td>\n",
       "      <td>Nashville, TN</td>\n",
       "      <td>Chain</td>\n",
       "      <td>Upper Midscale</td>\n",
       "      <td>Urban</td>\n",
       "      <td>2022.0</td>\n",
       "      <td>True</td>\n",
       "    </tr>\n",
       "    <tr>\n",
       "      <th>1</th>\n",
       "      <td>2022-06</td>\n",
       "      <td>51622.0</td>\n",
       "      <td>202206.0</td>\n",
       "      <td>81.6825</td>\n",
       "      <td>169.175884</td>\n",
       "      <td>138.187159</td>\n",
       "      <td>Nashville, TN</td>\n",
       "      <td>Chain</td>\n",
       "      <td>Upper Midscale</td>\n",
       "      <td>Urban</td>\n",
       "      <td>2022.0</td>\n",
       "      <td>True</td>\n",
       "    </tr>\n",
       "    <tr>\n",
       "      <th>2</th>\n",
       "      <td>2022-07</td>\n",
       "      <td>51622.0</td>\n",
       "      <td>202207.0</td>\n",
       "      <td>79.1705</td>\n",
       "      <td>165.909926</td>\n",
       "      <td>131.351730</td>\n",
       "      <td>Nashville, TN</td>\n",
       "      <td>Chain</td>\n",
       "      <td>Upper Midscale</td>\n",
       "      <td>Urban</td>\n",
       "      <td>2022.0</td>\n",
       "      <td>True</td>\n",
       "    </tr>\n",
       "    <tr>\n",
       "      <th>3</th>\n",
       "      <td>2022-08</td>\n",
       "      <td>51622.0</td>\n",
       "      <td>202208.0</td>\n",
       "      <td>92.2273</td>\n",
       "      <td>174.633604</td>\n",
       "      <td>161.059932</td>\n",
       "      <td>Nashville, TN</td>\n",
       "      <td>Chain</td>\n",
       "      <td>Upper Midscale</td>\n",
       "      <td>Urban</td>\n",
       "      <td>2022.0</td>\n",
       "      <td>True</td>\n",
       "    </tr>\n",
       "    <tr>\n",
       "      <th>4</th>\n",
       "      <td>2022-09</td>\n",
       "      <td>51622.0</td>\n",
       "      <td>202209.0</td>\n",
       "      <td>88.6349</td>\n",
       "      <td>169.458188</td>\n",
       "      <td>150.199130</td>\n",
       "      <td>Nashville, TN</td>\n",
       "      <td>Chain</td>\n",
       "      <td>Upper Midscale</td>\n",
       "      <td>Urban</td>\n",
       "      <td>2022.0</td>\n",
       "      <td>True</td>\n",
       "    </tr>\n",
       "    <tr>\n",
       "      <th>...</th>\n",
       "      <td>...</td>\n",
       "      <td>...</td>\n",
       "      <td>...</td>\n",
       "      <td>...</td>\n",
       "      <td>...</td>\n",
       "      <td>...</td>\n",
       "      <td>...</td>\n",
       "      <td>...</td>\n",
       "      <td>...</td>\n",
       "      <td>...</td>\n",
       "      <td>...</td>\n",
       "      <td>...</td>\n",
       "    </tr>\n",
       "    <tr>\n",
       "      <th>214985</th>\n",
       "      <td>2022-08</td>\n",
       "      <td>28650555.0</td>\n",
       "      <td>202208.0</td>\n",
       "      <td>70.8714</td>\n",
       "      <td>180.239130</td>\n",
       "      <td>127.738084</td>\n",
       "      <td>Miami, FL</td>\n",
       "      <td>Independent</td>\n",
       "      <td>Upper Upscale</td>\n",
       "      <td>Urban</td>\n",
       "      <td>2021.0</td>\n",
       "      <td>True</td>\n",
       "    </tr>\n",
       "    <tr>\n",
       "      <th>214986</th>\n",
       "      <td>2022-09</td>\n",
       "      <td>28650555.0</td>\n",
       "      <td>202209.0</td>\n",
       "      <td>61.5422</td>\n",
       "      <td>170.759095</td>\n",
       "      <td>105.089055</td>\n",
       "      <td>Miami, FL</td>\n",
       "      <td>Independent</td>\n",
       "      <td>Upper Upscale</td>\n",
       "      <td>Urban</td>\n",
       "      <td>2021.0</td>\n",
       "      <td>True</td>\n",
       "    </tr>\n",
       "    <tr>\n",
       "      <th>214987</th>\n",
       "      <td>2022-10</td>\n",
       "      <td>28650555.0</td>\n",
       "      <td>202210.0</td>\n",
       "      <td>60.8101</td>\n",
       "      <td>197.896707</td>\n",
       "      <td>120.341375</td>\n",
       "      <td>Miami, FL</td>\n",
       "      <td>Independent</td>\n",
       "      <td>Upper Upscale</td>\n",
       "      <td>Urban</td>\n",
       "      <td>2021.0</td>\n",
       "      <td>True</td>\n",
       "    </tr>\n",
       "    <tr>\n",
       "      <th>214988</th>\n",
       "      <td>2022-11</td>\n",
       "      <td>28650555.0</td>\n",
       "      <td>202211.0</td>\n",
       "      <td>58.2222</td>\n",
       "      <td>230.335115</td>\n",
       "      <td>134.106222</td>\n",
       "      <td>Miami, FL</td>\n",
       "      <td>Independent</td>\n",
       "      <td>Upper Upscale</td>\n",
       "      <td>Urban</td>\n",
       "      <td>2021.0</td>\n",
       "      <td>True</td>\n",
       "    </tr>\n",
       "    <tr>\n",
       "      <th>214989</th>\n",
       "      <td>2022-12</td>\n",
       "      <td>28650555.0</td>\n",
       "      <td>202212.0</td>\n",
       "      <td>63.8709</td>\n",
       "      <td>275.830976</td>\n",
       "      <td>176.175914</td>\n",
       "      <td>Miami, FL</td>\n",
       "      <td>Independent</td>\n",
       "      <td>Upper Upscale</td>\n",
       "      <td>Urban</td>\n",
       "      <td>2021.0</td>\n",
       "      <td>True</td>\n",
       "    </tr>\n",
       "  </tbody>\n",
       "</table>\n",
       "<p>214990 rows × 12 columns</p>\n",
       "</div>"
      ],
      "text/plain": [
       "       year_month    SHARE ID  Year Month      Occ         ADR      RevPAR  \\\n",
       "0         2022-05     51622.0    202205.0  65.3763  179.237458  117.178897   \n",
       "1         2022-06     51622.0    202206.0  81.6825  169.175884  138.187159   \n",
       "2         2022-07     51622.0    202207.0  79.1705  165.909926  131.351730   \n",
       "3         2022-08     51622.0    202208.0  92.2273  174.633604  161.059932   \n",
       "4         2022-09     51622.0    202209.0  88.6349  169.458188  150.199130   \n",
       "...           ...         ...         ...      ...         ...         ...   \n",
       "214985    2022-08  28650555.0    202208.0  70.8714  180.239130  127.738084   \n",
       "214986    2022-09  28650555.0    202209.0  61.5422  170.759095  105.089055   \n",
       "214987    2022-10  28650555.0    202210.0  60.8101  197.896707  120.341375   \n",
       "214988    2022-11  28650555.0    202211.0  58.2222  230.335115  134.106222   \n",
       "214989    2022-12  28650555.0    202212.0  63.8709  275.830976  176.175914   \n",
       "\n",
       "               Market    Operation           Class Location  Open Date  \\\n",
       "0       Nashville, TN        Chain  Upper Midscale    Urban     2022.0   \n",
       "1       Nashville, TN        Chain  Upper Midscale    Urban     2022.0   \n",
       "2       Nashville, TN        Chain  Upper Midscale    Urban     2022.0   \n",
       "3       Nashville, TN        Chain  Upper Midscale    Urban     2022.0   \n",
       "4       Nashville, TN        Chain  Upper Midscale    Urban     2022.0   \n",
       "...               ...          ...             ...      ...        ...   \n",
       "214985      Miami, FL  Independent   Upper Upscale    Urban     2021.0   \n",
       "214986      Miami, FL  Independent   Upper Upscale    Urban     2021.0   \n",
       "214987      Miami, FL  Independent   Upper Upscale    Urban     2021.0   \n",
       "214988      Miami, FL  Independent   Upper Upscale    Urban     2021.0   \n",
       "214989      Miami, FL  Independent   Upper Upscale    Urban     2021.0   \n",
       "\n",
       "        month_with_revenue  \n",
       "0                     True  \n",
       "1                     True  \n",
       "2                     True  \n",
       "3                     True  \n",
       "4                     True  \n",
       "...                    ...  \n",
       "214985                True  \n",
       "214986                True  \n",
       "214987                True  \n",
       "214988                True  \n",
       "214989                True  \n",
       "\n",
       "[214990 rows x 12 columns]"
      ]
     },
     "execution_count": 61,
     "metadata": {},
     "output_type": "execute_result"
    }
   ],
   "source": [
    "str_monthly_cleaned"
   ]
  },
  {
   "cell_type": "code",
   "execution_count": 31,
   "metadata": {},
   "outputs": [],
   "source": [
    "#str_monthly_filled = str_monthly_filled[['SHARE ID', 'year_month','Supply', 'Demand', 'Revenue', 'Occ', 'ADR', 'RevPAR']]"
   ]
  },
  {
   "cell_type": "code",
   "execution_count": 32,
   "metadata": {},
   "outputs": [],
   "source": [
    "#str_monthly_merge = str_monthly[['SHARE ID','Country', 'Market', 'Chain', 'Owner', 'Mgmt',\n",
    "      # 'ParentCompany', 'Operation', 'Scale', 'Class', 'Location', 'OpenDate',\n",
    "      # 'SizeCode','year_month']]"
   ]
  },
  {
   "cell_type": "code",
   "execution_count": 33,
   "metadata": {},
   "outputs": [],
   "source": [
    "#str_df = str_monthly_filled.merge(str_monthly_merge, on=[\"SHARE ID\",\"year_month\"], how=\"left\")"
   ]
  },
  {
   "cell_type": "code",
   "execution_count": 36,
   "metadata": {},
   "outputs": [
    {
     "data": {
      "text/plain": [
       "314"
      ]
     },
     "execution_count": 36,
     "metadata": {},
     "output_type": "execute_result"
    }
   ],
   "source": [
    "#str_df[\"SHARE ID\"].nunique()"
   ]
  },
  {
   "cell_type": "code",
   "execution_count": 35,
   "metadata": {},
   "outputs": [],
   "source": [
    "#str_df.to_csv(os.path.join(parent+r\"/data/cleaned_str_data\",r\"{}_STR.csv\".format(city_name)), index= False)"
   ]
  },
  {
   "cell_type": "code",
   "execution_count": 58,
   "metadata": {},
   "outputs": [],
   "source": [
    "str_monthly_cleaned.to_csv(os.path.join(parent+r\"/data/cleaned_str_data\",r\"{}_STR_2022.csv\"), index= False)"
   ]
  },
  {
   "cell_type": "code",
   "execution_count": null,
   "metadata": {},
   "outputs": [],
   "source": []
  }
 ],
 "metadata": {
  "kernelspec": {
   "display_name": "Python 3 (ipykernel)",
   "language": "python",
   "name": "python3"
  },
  "language_info": {
   "codemirror_mode": {
    "name": "ipython",
    "version": 3
   },
   "file_extension": ".py",
   "mimetype": "text/x-python",
   "name": "python",
   "nbconvert_exporter": "python",
   "pygments_lexer": "ipython3",
   "version": "3.7.13"
  },
  "toc": {
   "base_numbering": 1,
   "nav_menu": {},
   "number_sections": true,
   "sideBar": true,
   "skip_h1_title": false,
   "title_cell": "Table of Contents",
   "title_sidebar": "Contents",
   "toc_cell": false,
   "toc_position": {},
   "toc_section_display": true,
   "toc_window_display": false
  }
 },
 "nbformat": 4,
 "nbformat_minor": 2
}
