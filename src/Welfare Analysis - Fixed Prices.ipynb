{
 "cells": [
  {
   "cell_type": "code",
   "execution_count": 38,
   "id": "948ddcb2",
   "metadata": {},
   "outputs": [],
   "source": [
    "import pandas as pd\n",
    "import numpy as np\n",
    "import os\n",
    "import matplotlib.pyplot as plt\n",
    "import statsmodels.api as sm\n",
    "import statsmodels\n",
    "from sklearn.preprocessing import OneHotEncoder\n",
    "from sklearn import preprocessing\n",
    "import seaborn as sns\n",
    "import random\n",
    "\n",
    "random.seed(10)"
   ]
  },
  {
   "cell_type": "code",
   "execution_count": 39,
   "id": "52da6875",
   "metadata": {},
   "outputs": [],
   "source": [
    "input_dir = r\"/Users/juju/Library/Mobile Documents/com~apple~CloudDocs/ta_project/data\""
   ]
  },
  {
   "cell_type": "code",
   "execution_count": 40,
   "id": "2d10c7ac",
   "metadata": {},
   "outputs": [],
   "source": [
    "#df = pd.read_csv(os.path.join(input_dir,r\"welfare_data_with_exante_ratings_ch3.csv\"))\n",
    "df = pd.read_csv(os.path.join(input_dir,r\"welfare_data_with_exante_ratings_update.csv\"))"
   ]
  },
  {
   "cell_type": "code",
   "execution_count": 41,
   "id": "14e14184",
   "metadata": {},
   "outputs": [],
   "source": [
    "df = df[df[\"year\"]==2016].reset_index()"
   ]
  },
  {
   "cell_type": "code",
   "execution_count": 42,
   "id": "8db8d87c",
   "metadata": {},
   "outputs": [
    {
     "data": {
      "text/plain": [
       "490"
      ]
     },
     "execution_count": 42,
     "metadata": {},
     "output_type": "execute_result"
    }
   ],
   "source": [
    "df[\"shareid\"].nunique()"
   ]
  },
  {
   "cell_type": "code",
   "execution_count": 43,
   "id": "fbb55f1a",
   "metadata": {},
   "outputs": [],
   "source": [
    "#Specify exante_rating\n",
    "\n",
    "#df[\"exante_rating\"] = df[\"exante_rating_baseline\"]\n",
    "#df[\"exante_rating\"] = df[\"exante_rating_random\"]\n",
    "#df[\"exante_rating\"] = df[\"exante_rating_obs\"]\n",
    "df[\"exante_rating\"] = df[\"exante_rating_const\"]\n",
    "\n",
    "#df[\"exante_rating\"] = df[\"exante_rating_obs_less\"]\n",
    "#df[\"exante_rating\"] = df[\"exante_rating_op\"]\n",
    "#df[\"exante_rating\"] = df[\"exante_rating_op_chain\"]\n",
    "#df[\"exante_rating\"] = df[\"exante_rating_op_chain_national\"]"
   ]
  },
  {
   "cell_type": "code",
   "execution_count": 44,
   "id": "00b5d158",
   "metadata": {},
   "outputs": [],
   "source": [
    "#supply_max = df.groupby([\"shareid\",\"year\"])[\"Supply\"].max().reset_index().rename(columns={\"Supply\":\"max_supply_year\"})\n",
    "#df = df.merge(supply_max, on=[\"shareid\",\"year\"], how=\"left\")\n",
    "#df[\"capacity\"] = df[\"max_supply_year\"]/30"
   ]
  },
  {
   "cell_type": "code",
   "execution_count": 45,
   "id": "945ad1df",
   "metadata": {},
   "outputs": [],
   "source": [
    "# Calculate counterfactual market share\n",
    "\n",
    "#alpha = -0.014519850512492974\n",
    "#sigma = 0.5141\n",
    "\n",
    "alpha = -0.012\n",
    "sigma = 0.5396\n",
    "rating_param = 0.073 #2016 rating parameter\n",
    "\n",
    "df[\"delta\"] = np.log(df[\"market_share\"])-np.log(df[\"s_0\"])-sigma*np.log(df[\"group_share\"])\n",
    "df[\"delta_cf\"] = df[\"delta\"]-rating_param*(df[\"Rating\"] - df[\"exante_rating\"])\n",
    "df[\"exp_delta_cf_over_1-sigma\"] = np.exp(df[\"delta_cf\"]/(1-sigma))\n",
    "df[\"exp_delta_over_1-sigma\"] = np.exp(df[\"delta\"]/(1-sigma))\n"
   ]
  },
  {
   "cell_type": "code",
   "execution_count": 46,
   "id": "dea0d1c1",
   "metadata": {},
   "outputs": [],
   "source": [
    "#calculate counterfactual market share\n",
    "\n",
    "l=[]\n",
    "for i in (0,1,2):\n",
    "    \n",
    "    data = df[df[\"Market\"]==df[\"Market\"].unique()[i]]\n",
    "    D_g = data.groupby([\"month\",\"year\",\"Class Group\"])[\"exp_delta_cf_over_1-sigma\"].sum().reset_index().rename(columns={\"exp_delta_cf_over_1-sigma\":\"D_g_cf\"})\n",
    "    D_g[\"D_g_1-sigma_cf\"] = D_g[\"D_g_cf\"]**(1-sigma)\n",
    "    D_g[\"D_g_sigma_cf\"] = D_g[\"D_g_cf\"]**(sigma)\n",
    "    D_g_sum = D_g.groupby([\"month\",\"year\"])[\"D_g_1-sigma_cf\"].sum().reset_index().rename(columns={\"D_g_1-sigma_cf\":\"D_g_sum_cf\"})\n",
    "    #D_g_sum[\"D_g_sum_cf\"] = D_g_sum[\"D_g_sum_cf\"]+1\n",
    "    df_temp = data.merge(D_g, on=[\"month\",\"year\",\"Class Group\"], how=\"left\").\\\n",
    "         merge(D_g_sum, on=[\"month\",\"year\"], how=\"left\")\n",
    "    df_temp[\"market_share_cf\"] = df_temp[\"exp_delta_cf_over_1-sigma\"]/(df_temp[\"D_g_sigma_cf\"]*(df_temp[\"D_g_sum_cf\"]+1))\n",
    "    l.append(df_temp)\n",
    "\n",
    "df_data = pd.concat(l,axis=0) "
   ]
  },
  {
   "cell_type": "code",
   "execution_count": 47,
   "id": "e4413214",
   "metadata": {},
   "outputs": [],
   "source": [
    "l=[]\n",
    "for i in (0,1,2):\n",
    "    \n",
    "    data = df_data[df_data[\"Market\"]==df_data[\"Market\"].unique()[i]]\n",
    "    D_g = data.groupby([\"month\",\"year\",\"Class Group\"])[\"exp_delta_over_1-sigma\"].sum().reset_index().rename(columns={\"exp_delta_over_1-sigma\":\"D_g\"})\n",
    "    D_g[\"D_g_1-sigma\"] = D_g[\"D_g\"]**(1-sigma)\n",
    "    D_g[\"D_g_sigma\"] = D_g[\"D_g\"]**(sigma)\n",
    "    D_g_sum = D_g.groupby([\"month\",\"year\"])[\"D_g_1-sigma\"].sum().reset_index().rename(columns={\"D_g_1-sigma\":\"D_g_sum\"})\n",
    "    #D_g_sum[\"D_g_sum\"] = D_g_sum[\"D_g_sum\"]+1\n",
    "    df_temp = data.merge(D_g, on=[\"month\",\"year\",\"Class Group\"], how=\"left\").\\\n",
    "         merge(D_g_sum, on=[\"month\",\"year\"], how=\"left\")\n",
    "    l.append(df_temp)\n",
    "\n",
    "df_data = pd.concat(l,axis=0) "
   ]
  },
  {
   "cell_type": "code",
   "execution_count": 48,
   "id": "aef157a5",
   "metadata": {},
   "outputs": [],
   "source": [
    "output_dir = r\"/Users/juju/Library/Mobile Documents/com~apple~CloudDocs/ta_project/output/welfare/fixed_price\"\n",
    "\n"
   ]
  },
  {
   "cell_type": "code",
   "execution_count": 49,
   "id": "fbb7950b",
   "metadata": {},
   "outputs": [],
   "source": [
    "df_data.to_csv(os.path.join(output_dir, r\"welfare_fixed_price_result_const_new.csv\"), index=False)"
   ]
  },
  {
   "cell_type": "code",
   "execution_count": 46,
   "id": "846b2002",
   "metadata": {},
   "outputs": [
    {
     "data": {
      "text/html": [
       "<div>\n",
       "<style scoped>\n",
       "    .dataframe tbody tr th:only-of-type {\n",
       "        vertical-align: middle;\n",
       "    }\n",
       "\n",
       "    .dataframe tbody tr th {\n",
       "        vertical-align: top;\n",
       "    }\n",
       "\n",
       "    .dataframe thead th {\n",
       "        text-align: right;\n",
       "    }\n",
       "</style>\n",
       "<table border=\"1\" class=\"dataframe\">\n",
       "  <thead>\n",
       "    <tr style=\"text-align: right;\">\n",
       "      <th></th>\n",
       "      <th>post_month</th>\n",
       "      <th>shareid</th>\n",
       "      <th>year_month</th>\n",
       "      <th>Supply</th>\n",
       "      <th>Demand</th>\n",
       "      <th>Revenue</th>\n",
       "      <th>Occ</th>\n",
       "      <th>ADR</th>\n",
       "      <th>RevPAR</th>\n",
       "      <th>Country</th>\n",
       "      <th>...</th>\n",
       "      <th>exp_delta_over_1-sigma</th>\n",
       "      <th>D_g_cf</th>\n",
       "      <th>D_g_1-sigma_cf</th>\n",
       "      <th>D_g_sigma_cf</th>\n",
       "      <th>D_g_sum_cf</th>\n",
       "      <th>market_share_cf</th>\n",
       "      <th>D_g</th>\n",
       "      <th>D_g_1-sigma</th>\n",
       "      <th>D_g_sigma</th>\n",
       "      <th>D_g_sum</th>\n",
       "    </tr>\n",
       "  </thead>\n",
       "  <tbody>\n",
       "  </tbody>\n",
       "</table>\n",
       "<p>0 rows × 141 columns</p>\n",
       "</div>"
      ],
      "text/plain": [
       "Empty DataFrame\n",
       "Columns: [post_month, shareid, year_month, Supply, Demand, Revenue, Occ, ADR, RevPAR, Country, Market, Chain, Owner, Mgmt, ParentCompany, Operation, Scale, Class, Location, OpenDate, SizeCode, max_str_month, max_review_month, min_review_month, on_ta, monthly_rating_mean, monthly_review_count, monthly_one_star_count, monthly_two_star_count, monthly_three_star_count, monthly_four_star_count, monthly_five_star_count, monthly_hotel_response_count, monthly_partnership_reviews_count, cleanliness_count, cleanliness_mean, location_count, location_mean, sleep_quality_count, sleep_quality_mean, room_quality_count, room_quality_mean, service_count, service_mean, value_count, value_mean, renovate, solo_count, couple_count, family_count, business_count, month_with_reviews, num_of_reviews, total_one_star, total_two_star, total_three_star, total_four_star, total_five_star, accum_rating, total_one_star_%, total_two_star_%, total_three_star_%, total_four_star_%, total_five_star_%, is_reviewed, ln_revenue, ln_revpar, ln_accum_rating, ln_num_of_reviews, ln_revenue_next_1m, ln_revpar_next_1m, ln_revenue_next_2m, ln_revpar_next_2m, ln_revenue_next_3m, ln_revpar_next_3m, ln_revenue_next_4m, ln_revpar_next_4m, ln_revenue_next_5m, ln_revpar_next_5m, ln_revenue_next_6m, ln_revpar_next_6m, ln_revenue_next_3m_avg, ln_revpar_next_3m_avg, ln_revenue_next_6m_avg, ln_revpar_next_6m_avg, year, month, displayed_rating, round_up, Class Group, hotel_age, high_season, alpha, avg_price, avg_demand, price_elasticity, Group Monthly Demand, hotel_count_in_group_chain, hotel_count_in_group_franchised, hotel_count_in_group_independent, ...]\n",
       "Index: []\n",
       "\n",
       "[0 rows x 141 columns]"
      ]
     },
     "execution_count": 46,
     "metadata": {},
     "output_type": "execute_result"
    }
   ],
   "source": [
    "df_data[df_data[\"market_share_cf\"]>1]"
   ]
  },
  {
   "cell_type": "markdown",
   "id": "049d752d",
   "metadata": {},
   "source": [
    "# Calculate Welfare"
   ]
  },
  {
   "cell_type": "code",
   "execution_count": 56,
   "id": "e41ee2f3",
   "metadata": {},
   "outputs": [],
   "source": [
    "df_data = pd.read_csv(os.path.join(output_dir, r\"welfare_fixed_price_result_baseline.csv\"))\n",
    "#df_data = pd.read_csv(os.path.join(output_dir, r\"welfare_fixed_price_result_obs.csv\"))\n",
    "#df_data = pd.read_csv(os.path.join(output_dir, r\"welfare_fixed_price_result_random.csv\"))\n",
    "#df_data = pd.read_csv(os.path.join(output_dir, r\"welfare_fixed_price_result_const.csv\"))"
   ]
  },
  {
   "cell_type": "code",
   "execution_count": 57,
   "id": "952606b7",
   "metadata": {},
   "outputs": [
    {
     "data": {
      "text/plain": [
       "['post_month',\n",
       " 'shareid',\n",
       " 'year_month',\n",
       " 'Supply',\n",
       " 'Demand',\n",
       " 'Revenue',\n",
       " 'Occ',\n",
       " 'ADR',\n",
       " 'RevPAR',\n",
       " 'Country',\n",
       " 'Market',\n",
       " 'Chain',\n",
       " 'Owner',\n",
       " 'Mgmt',\n",
       " 'ParentCompany',\n",
       " 'Operation',\n",
       " 'Scale',\n",
       " 'Class',\n",
       " 'Location',\n",
       " 'OpenDate',\n",
       " 'SizeCode',\n",
       " 'max_str_month',\n",
       " 'max_review_month',\n",
       " 'min_review_month',\n",
       " 'on_ta',\n",
       " 'monthly_rating_mean',\n",
       " 'monthly_review_count',\n",
       " 'monthly_one_star_count',\n",
       " 'monthly_two_star_count',\n",
       " 'monthly_three_star_count',\n",
       " 'monthly_four_star_count',\n",
       " 'monthly_five_star_count',\n",
       " 'monthly_hotel_response_count',\n",
       " 'monthly_partnership_reviews_count',\n",
       " 'cleanliness_count',\n",
       " 'cleanliness_mean',\n",
       " 'location_count',\n",
       " 'location_mean',\n",
       " 'sleep_quality_count',\n",
       " 'sleep_quality_mean',\n",
       " 'room_quality_count',\n",
       " 'room_quality_mean',\n",
       " 'service_count',\n",
       " 'service_mean',\n",
       " 'value_count',\n",
       " 'value_mean',\n",
       " 'renovate',\n",
       " 'solo_count',\n",
       " 'couple_count',\n",
       " 'family_count',\n",
       " 'business_count',\n",
       " 'month_with_reviews',\n",
       " 'num_of_reviews',\n",
       " 'total_one_star',\n",
       " 'total_two_star',\n",
       " 'total_three_star',\n",
       " 'total_four_star',\n",
       " 'total_five_star',\n",
       " 'accum_rating',\n",
       " 'total_one_star_%',\n",
       " 'total_two_star_%',\n",
       " 'total_three_star_%',\n",
       " 'total_four_star_%',\n",
       " 'total_five_star_%',\n",
       " 'is_reviewed',\n",
       " 'ln_revenue',\n",
       " 'ln_revpar',\n",
       " 'ln_accum_rating',\n",
       " 'ln_num_of_reviews',\n",
       " 'ln_revenue_next_1m',\n",
       " 'ln_revpar_next_1m',\n",
       " 'ln_revenue_next_2m',\n",
       " 'ln_revpar_next_2m',\n",
       " 'ln_revenue_next_3m',\n",
       " 'ln_revpar_next_3m',\n",
       " 'ln_revenue_next_4m',\n",
       " 'ln_revpar_next_4m',\n",
       " 'ln_revenue_next_5m',\n",
       " 'ln_revpar_next_5m',\n",
       " 'ln_revenue_next_6m',\n",
       " 'ln_revpar_next_6m',\n",
       " 'ln_revenue_next_3m_avg',\n",
       " 'ln_revpar_next_3m_avg',\n",
       " 'ln_revenue_next_6m_avg',\n",
       " 'ln_revpar_next_6m_avg',\n",
       " 'year',\n",
       " 'month',\n",
       " 'displayed_rating',\n",
       " 'round_up',\n",
       " 'Class Group',\n",
       " 'hotel_age',\n",
       " 'high_season',\n",
       " 'alpha',\n",
       " 'avg_price',\n",
       " 'avg_demand',\n",
       " 'price_elasticity',\n",
       " 'Group Monthly Demand',\n",
       " 'hotel_count_in_group_chain',\n",
       " 'hotel_count_in_group_franchised',\n",
       " 'hotel_count_in_group_independent',\n",
       " '1_size',\n",
       " '2_size',\n",
       " '3_size',\n",
       " '4_size',\n",
       " '5_size',\n",
       " 'Group Avg Age',\n",
       " 'Market Monthly Supply',\n",
       " 'Market Monthly Demand',\n",
       " 'hotel_count_in_market',\n",
       " 'market_share',\n",
       " 'group_share',\n",
       " 's_0',\n",
       " 'ln_group_share',\n",
       " 'quality',\n",
       " 'Rating',\n",
       " 'ReviewCount_Reviewed',\n",
       " 'Rating_ReviewCount_Reviewed',\n",
       " 'market_year_month',\n",
       " 'ln_ADR',\n",
       " 'quality_hat',\n",
       " 'exante_rating_baseline',\n",
       " 'exante_rating_random',\n",
       " 'exante_rating_obs',\n",
       " 'exante_rating_const',\n",
       " 'exante_rating',\n",
       " 'max_supply_year',\n",
       " 'capacity',\n",
       " 'delta',\n",
       " 'delta_cf',\n",
       " 'exp_delta_cf_over_1-sigma',\n",
       " 'exp_delta_over_1-sigma',\n",
       " 'D_g_cf',\n",
       " 'D_g_1-sigma_cf',\n",
       " 'D_g_sigma_cf',\n",
       " 'D_g_sum_cf',\n",
       " 'market_share_cf',\n",
       " 'D_g',\n",
       " 'D_g_1-sigma',\n",
       " 'D_g_sigma',\n",
       " 'D_g_sum']"
      ]
     },
     "execution_count": 57,
     "metadata": {},
     "output_type": "execute_result"
    }
   ],
   "source": [
    "list(df_data.columns)"
   ]
  },
  {
   "cell_type": "code",
   "execution_count": 58,
   "id": "65d94703",
   "metadata": {},
   "outputs": [],
   "source": [
    "df_data[\"mc_t\"] = df_data[\"ADR\"]+1/(alpha*(1/(1-sigma)-\\\n",
    "                                (sigma*df_data[\"group_share\"]/(1-sigma))-\\\n",
    "                                df_data[\"market_share\"]))\n",
    "df_data[\"mc_t\"] = df_data[\"mc_t\"].clip(lower=0)"
   ]
  },
  {
   "cell_type": "code",
   "execution_count": 59,
   "id": "e00ffb97",
   "metadata": {},
   "outputs": [],
   "source": [
    "# calculate walfare\n",
    "df_data[\"market_share_cf_delta_diff\"] = df_data[\"market_share_cf\"]*(df_data[\"quality_hat\"] - df_data[\"exante_rating\"])\n",
    "\n",
    "l=[]\n",
    "for i in (0,1,2):\n",
    "    \n",
    "    data = df_data[df_data[\"Market\"]==df[\"Market\"].unique()[i]]\n",
    "    diff = data.groupby([\"month\",\"year\"])[\"market_share_cf_delta_diff\"].sum().reset_index().rename(columns={\"market_share_cf_delta_diff\":\"diff_term\"})\n",
    "    temp = data.merge(diff,on=[\"month\",\"year\"], how=\"left\")\n",
    "    l.append(temp)\n",
    "    \n",
    "df_3 = pd.concat(l,axis=0)\n",
    "    \n"
   ]
  },
  {
   "cell_type": "code",
   "execution_count": 61,
   "id": "60516a5d",
   "metadata": {},
   "outputs": [],
   "source": [
    "df_3[\"r_greater_exante\"] = df_3[\"exante_rating\"]<df_3[\"quality_hat\"]\n",
    "\n",
    "#df_3[\"rating_diff_exante\"] =  df_3[\"Rating\"]-df_3[\"exante_rating\"]\n",
    "#df_3[\"market_share_percent_diff\"] = (df_3[\"market_share_cf\"] - df_3[\"market_share\"])/df_3[\"market_share\"]"
   ]
  },
  {
   "cell_type": "code",
   "execution_count": 62,
   "id": "9007a005",
   "metadata": {},
   "outputs": [],
   "source": [
    "df_3 =df_3[(df_3[\"year\"]==2016)]"
   ]
  },
  {
   "cell_type": "code",
   "execution_count": 63,
   "id": "7a642848",
   "metadata": {},
   "outputs": [],
   "source": [
    "df_cs = df_3[[\"Market\",\"year\",\"month\",\"Market Monthly Supply\",\"D_g_sum\",\"D_g_sum_cf\",\"diff_term\"]].drop_duplicates().reset_index()\n",
    "df_cs[\"cs\"] = (np.log(1+df_cs[\"D_g_sum\"]) - np.log(1+df_cs[\"D_g_sum_cf\"])-df_cs[\"diff_term\"])/alpha"
   ]
  },
  {
   "cell_type": "code",
   "execution_count": 64,
   "id": "2e3cafdb",
   "metadata": {},
   "outputs": [
    {
     "data": {
      "text/plain": [
       "'\\navg_rating = df_3.groupby([\"Market\",\"year\",\"month\"])[\"Rating\"].mean().reset_index()\\navg_exante_rating = df_3.groupby([\"Market\",\"year\",\"month\"])[\"exante_rating\"].mean().reset_index()\\navg_diff_rating = df_3.groupby([\"Market\",\"year\",\"month\"])[\"rating_diff_exante\"].mean().reset_index()\\nhotel_count = df_3.groupby([\"Market\",\"year\",\"month\"])[\"shareid\"].nunique().reset_index()\\nhotel_better_than_exp = df_3[df_3[\"r_greater_exante\"]==1].groupby([\"Market\",\"year\",\"month\"])[\"shareid\"].nunique().reset_index()\\nmarket_share_percent_diff = df_3.groupby([\"Market\",\"year\",\"month\"])[\"market_share_percent_diff\"].mean().reset_index()\\n\\ndf_cs = df_cs.merge(avg_diff_rating,            on=[\"Market\",\"year\",\"month\"]).merge(avg_rating,    on=[\"Market\",\"year\",\"month\"]).merge(avg_exante_rating,        on=[\"Market\",\"year\",\"month\"]).merge(hotel_count,    on=[\"Market\",\"year\",\"month\"]).merge(hotel_better_than_exp,        on=[\"Market\",\"year\",\"month\"]).merge(market_share_percent_diff, on=[\"Market\",\"year\",\"month\"])\\n#df_cs[\"% better than expected\"] = df_cs[\"shareid_y\"]/df_cs[\"shareid_x\"]\\ndf_cs\\n'"
      ]
     },
     "execution_count": 64,
     "metadata": {},
     "output_type": "execute_result"
    }
   ],
   "source": [
    "'''\n",
    "avg_rating = df_3.groupby([\"Market\",\"year\",\"month\"])[\"Rating\"].mean().reset_index()\n",
    "avg_exante_rating = df_3.groupby([\"Market\",\"year\",\"month\"])[\"exante_rating\"].mean().reset_index()\n",
    "avg_diff_rating = df_3.groupby([\"Market\",\"year\",\"month\"])[\"rating_diff_exante\"].mean().reset_index()\n",
    "hotel_count = df_3.groupby([\"Market\",\"year\",\"month\"])[\"shareid\"].nunique().reset_index()\n",
    "hotel_better_than_exp = df_3[df_3[\"r_greater_exante\"]==1].groupby([\"Market\",\"year\",\"month\"])[\"shareid\"].nunique().reset_index()\n",
    "market_share_percent_diff = df_3.groupby([\"Market\",\"year\",\"month\"])[\"market_share_percent_diff\"].mean().reset_index()\n",
    "\n",
    "df_cs = df_cs.merge(avg_diff_rating,\\\n",
    "            on=[\"Market\",\"year\",\"month\"]).merge(avg_rating,\\\n",
    "    on=[\"Market\",\"year\",\"month\"]).merge(avg_exante_rating,\\\n",
    "        on=[\"Market\",\"year\",\"month\"]).merge(hotel_count,\\\n",
    "    on=[\"Market\",\"year\",\"month\"]).merge(hotel_better_than_exp,\\\n",
    "        on=[\"Market\",\"year\",\"month\"]).merge(market_share_percent_diff, on=[\"Market\",\"year\",\"month\"])\n",
    "#df_cs[\"% better than expected\"] = df_cs[\"shareid_y\"]/df_cs[\"shareid_x\"]\n",
    "df_cs\n",
    "'''\n"
   ]
  },
  {
   "cell_type": "code",
   "execution_count": 65,
   "id": "4309157f",
   "metadata": {},
   "outputs": [
    {
     "data": {
      "text/html": [
       "<div>\n",
       "<style scoped>\n",
       "    .dataframe tbody tr th:only-of-type {\n",
       "        vertical-align: middle;\n",
       "    }\n",
       "\n",
       "    .dataframe tbody tr th {\n",
       "        vertical-align: top;\n",
       "    }\n",
       "\n",
       "    .dataframe thead th {\n",
       "        text-align: right;\n",
       "    }\n",
       "</style>\n",
       "<table border=\"1\" class=\"dataframe\">\n",
       "  <thead>\n",
       "    <tr style=\"text-align: right;\">\n",
       "      <th></th>\n",
       "      <th>Market</th>\n",
       "      <th>market_size</th>\n",
       "      <th>max_cs</th>\n",
       "      <th>min_cs</th>\n",
       "      <th>mean_cs</th>\n",
       "      <th>total_cs</th>\n",
       "    </tr>\n",
       "  </thead>\n",
       "  <tbody>\n",
       "    <tr>\n",
       "      <th>0</th>\n",
       "      <td>Chicago, IL</td>\n",
       "      <td>1210161.0</td>\n",
       "      <td>-0.025352</td>\n",
       "      <td>-0.051757</td>\n",
       "      <td>-0.042045</td>\n",
       "      <td>-0.610576</td>\n",
       "    </tr>\n",
       "    <tr>\n",
       "      <th>1</th>\n",
       "      <td>Houston, TX</td>\n",
       "      <td>1419322.0</td>\n",
       "      <td>-0.063850</td>\n",
       "      <td>-0.085210</td>\n",
       "      <td>-0.071662</td>\n",
       "      <td>-1.220529</td>\n",
       "    </tr>\n",
       "    <tr>\n",
       "      <th>2</th>\n",
       "      <td>Miami/Hialeah, FL</td>\n",
       "      <td>325922.6</td>\n",
       "      <td>-0.087778</td>\n",
       "      <td>-0.178552</td>\n",
       "      <td>-0.126694</td>\n",
       "      <td>-0.495509</td>\n",
       "    </tr>\n",
       "  </tbody>\n",
       "</table>\n",
       "</div>"
      ],
      "text/plain": [
       "              Market  market_size    max_cs    min_cs   mean_cs  total_cs\n",
       "0        Chicago, IL    1210161.0 -0.025352 -0.051757 -0.042045 -0.610576\n",
       "1        Houston, TX    1419322.0 -0.063850 -0.085210 -0.071662 -1.220529\n",
       "2  Miami/Hialeah, FL     325922.6 -0.087778 -0.178552 -0.126694 -0.495509"
      ]
     },
     "execution_count": 65,
     "metadata": {},
     "output_type": "execute_result"
    }
   ],
   "source": [
    "# Overall welfare\n",
    "market_size = df_data.groupby(\"Market\")[\"Market Monthly Supply\"].max().reset_index().rename(columns={\"Market Monthly Supply\":\"market_size\"})\n",
    "max_cs = df_cs.groupby(\"Market\")[\"cs\"].max().reset_index().rename(columns={\"cs\":\"max_cs\"})\n",
    "min_cs = df_cs.groupby(\"Market\")[\"cs\"].min().reset_index().rename(columns={\"cs\":\"min_cs\"})\n",
    "mean_cs = df_cs.groupby(\"Market\")[\"cs\"].mean().reset_index().rename(columns={\"cs\":\"mean_cs\"})\n",
    "#mean_rating_diff = df_cs.groupby(\"Market\")[\"rating_diff_exante\"].mean().reset_index()\n",
    "#mean_market_share_diff = df_cs.groupby(\"Market\")[\"market_share_percent_diff\"].mean().reset_index()\n",
    "\n",
    "\n",
    "cs = market_size.merge(max_cs,\\\n",
    "       on=\"Market\").merge(min_cs,\\\n",
    "      on=\"Market\").merge(mean_cs,on=\"Market\")\\\n",
    "#.merge(mean_rating_diff,on=\"Market\").merge(mean_market_share_diff,on=\"Market\")\n",
    "cs[\"total_cs\"] = cs[\"market_size\"]*cs[\"mean_cs\"]*12/1000000\n",
    "cs"
   ]
  },
  {
   "cell_type": "code",
   "execution_count": 66,
   "id": "384175b5",
   "metadata": {},
   "outputs": [],
   "source": [
    "df_3 = df_3.merge(df_cs, on=[\"Market\",\"year\",\"month\",\"Market Monthly Supply\",\"D_g_sum\",\"D_g_sum_cf\",\"diff_term\"])"
   ]
  },
  {
   "cell_type": "code",
   "execution_count": 67,
   "id": "07e46aa3",
   "metadata": {},
   "outputs": [
    {
     "data": {
      "text/plain": [
       "'\\nweights = df_3[[\"Market\",\"shareid\",\"month\",\"capacity\"]].drop_duplicates()\\nmarket_capacity = weights.groupby([\"Market\",\"month\"])[\"capacity\"].sum().reset_index().rename(columns={\"capacity\":\"capacity_market\"})\\nweights = weights.merge(market_capacity, on=[\"Market\",\"month\"], how=\"left\")\\nweights[\"weights\"] = weights[\"capacity\"]/weights[\"capacity_market\"]\\ndf_3 = df_3.merge(weights[[\"Market\",\"month\",\"shareid\",\"weights\"]], on=[\"Market\",\"month\",\"shareid\"], how=\"left\")\\n\\ndf_3[\"market_share_percent_diff\"] = (df_3[\"market_share\"] - df_3[\"market_share_cf\"])/df_3[\"market_share_cf\"]\\ndf_3[\"market_share_percent_diff_weighted\"] =df_3[\"market_share_percent_diff\"]*df_3[\"weights\"]\\nmarket_share_change = df_3.groupby([\"shareid\",\"Market\"])[\"market_share_percent_diff_weighted\"].sum().reset_index()\\nmarket_share_change.groupby([\"Market\"])[\"market_share_percent_diff_weighted\"].mean().reset_index()\\n'"
      ]
     },
     "execution_count": 67,
     "metadata": {},
     "output_type": "execute_result"
    }
   ],
   "source": [
    "# create weight\n",
    "'''\n",
    "weights = df_3[[\"Market\",\"shareid\",\"month\",\"capacity\"]].drop_duplicates()\n",
    "market_capacity = weights.groupby([\"Market\",\"month\"])[\"capacity\"].sum().reset_index().rename(columns={\"capacity\":\"capacity_market\"})\n",
    "weights = weights.merge(market_capacity, on=[\"Market\",\"month\"], how=\"left\")\n",
    "weights[\"weights\"] = weights[\"capacity\"]/weights[\"capacity_market\"]\n",
    "df_3 = df_3.merge(weights[[\"Market\",\"month\",\"shareid\",\"weights\"]], on=[\"Market\",\"month\",\"shareid\"], how=\"left\")\n",
    "\n",
    "df_3[\"market_share_percent_diff\"] = (df_3[\"market_share\"] - df_3[\"market_share_cf\"])/df_3[\"market_share_cf\"]\n",
    "df_3[\"market_share_percent_diff_weighted\"] =df_3[\"market_share_percent_diff\"]*df_3[\"weights\"]\n",
    "market_share_change = df_3.groupby([\"shareid\",\"Market\"])[\"market_share_percent_diff_weighted\"].sum().reset_index()\n",
    "market_share_change.groupby([\"Market\"])[\"market_share_percent_diff_weighted\"].mean().reset_index()\n",
    "'''"
   ]
  },
  {
   "cell_type": "code",
   "execution_count": 68,
   "id": "78180a15",
   "metadata": {},
   "outputs": [],
   "source": [
    "df_3 = df_3.merge(market_size, on=\"Market\")"
   ]
  },
  {
   "cell_type": "code",
   "execution_count": 69,
   "id": "7c0bfa28",
   "metadata": {},
   "outputs": [],
   "source": [
    "df_3[\"demand_cf\"] = df_3[\"market_share_cf\"]*df_3[\"market_size\"]"
   ]
  },
  {
   "cell_type": "code",
   "execution_count": 70,
   "id": "4a118ff5",
   "metadata": {},
   "outputs": [
    {
     "data": {
      "text/html": [
       "<div>\n",
       "<style scoped>\n",
       "    .dataframe tbody tr th:only-of-type {\n",
       "        vertical-align: middle;\n",
       "    }\n",
       "\n",
       "    .dataframe tbody tr th {\n",
       "        vertical-align: top;\n",
       "    }\n",
       "\n",
       "    .dataframe thead th {\n",
       "        text-align: right;\n",
       "    }\n",
       "</style>\n",
       "<table border=\"1\" class=\"dataframe\">\n",
       "  <thead>\n",
       "    <tr style=\"text-align: right;\">\n",
       "      <th></th>\n",
       "      <th>post_month</th>\n",
       "      <th>shareid</th>\n",
       "      <th>year_month</th>\n",
       "      <th>Supply</th>\n",
       "      <th>Demand</th>\n",
       "      <th>Revenue</th>\n",
       "      <th>Occ</th>\n",
       "      <th>ADR</th>\n",
       "      <th>RevPAR</th>\n",
       "      <th>Country</th>\n",
       "      <th>...</th>\n",
       "      <th>D_g_sigma</th>\n",
       "      <th>D_g_sum</th>\n",
       "      <th>mc_t</th>\n",
       "      <th>market_share_cf_delta_diff</th>\n",
       "      <th>diff_term</th>\n",
       "      <th>r_greater_exante</th>\n",
       "      <th>index</th>\n",
       "      <th>cs</th>\n",
       "      <th>market_size</th>\n",
       "      <th>demand_cf</th>\n",
       "    </tr>\n",
       "  </thead>\n",
       "  <tbody>\n",
       "    <tr>\n",
       "      <th>20</th>\n",
       "      <td>2016-08</td>\n",
       "      <td>102347</td>\n",
       "      <td>2016-08-01</td>\n",
       "      <td>7285.0</td>\n",
       "      <td>5991.0</td>\n",
       "      <td>722049.0</td>\n",
       "      <td>82.2374</td>\n",
       "      <td>120.522283</td>\n",
       "      <td>99.114482</td>\n",
       "      <td>United States</td>\n",
       "      <td>...</td>\n",
       "      <td>0.958029</td>\n",
       "      <td>2.542960</td>\n",
       "      <td>88.606538</td>\n",
       "      <td>-0.002187</td>\n",
       "      <td>0.002208</td>\n",
       "      <td>False</td>\n",
       "      <td>0</td>\n",
       "      <td>-0.113026</td>\n",
       "      <td>325922.6</td>\n",
       "      <td>7326.540716</td>\n",
       "    </tr>\n",
       "    <tr>\n",
       "      <th>36</th>\n",
       "      <td>2016-08</td>\n",
       "      <td>2896521</td>\n",
       "      <td>2016-08-01</td>\n",
       "      <td>2790.0</td>\n",
       "      <td>2393.0</td>\n",
       "      <td>349426.0</td>\n",
       "      <td>85.7706</td>\n",
       "      <td>146.020059</td>\n",
       "      <td>125.242294</td>\n",
       "      <td>United States</td>\n",
       "      <td>...</td>\n",
       "      <td>0.958029</td>\n",
       "      <td>2.542960</td>\n",
       "      <td>114.980933</td>\n",
       "      <td>-0.001014</td>\n",
       "      <td>0.002208</td>\n",
       "      <td>False</td>\n",
       "      <td>0</td>\n",
       "      <td>-0.113026</td>\n",
       "      <td>325922.6</td>\n",
       "      <td>3007.669431</td>\n",
       "    </tr>\n",
       "    <tr>\n",
       "      <th>56</th>\n",
       "      <td>2016-08</td>\n",
       "      <td>8025768</td>\n",
       "      <td>2016-08-01</td>\n",
       "      <td>3472.0</td>\n",
       "      <td>3239.0</td>\n",
       "      <td>494425.0</td>\n",
       "      <td>93.2891</td>\n",
       "      <td>152.647422</td>\n",
       "      <td>142.403514</td>\n",
       "      <td>United States</td>\n",
       "      <td>...</td>\n",
       "      <td>0.958029</td>\n",
       "      <td>2.542960</td>\n",
       "      <td>121.406534</td>\n",
       "      <td>-0.000458</td>\n",
       "      <td>0.002208</td>\n",
       "      <td>False</td>\n",
       "      <td>0</td>\n",
       "      <td>-0.113026</td>\n",
       "      <td>325922.6</td>\n",
       "      <td>3516.410700</td>\n",
       "    </tr>\n",
       "    <tr>\n",
       "      <th>220</th>\n",
       "      <td>2016-11</td>\n",
       "      <td>2896521</td>\n",
       "      <td>2016-11-01</td>\n",
       "      <td>2700.0</td>\n",
       "      <td>2168.0</td>\n",
       "      <td>357424.0</td>\n",
       "      <td>80.2962</td>\n",
       "      <td>164.863469</td>\n",
       "      <td>132.379259</td>\n",
       "      <td>United States</td>\n",
       "      <td>...</td>\n",
       "      <td>0.732410</td>\n",
       "      <td>2.067547</td>\n",
       "      <td>133.840643</td>\n",
       "      <td>-0.000965</td>\n",
       "      <td>0.002448</td>\n",
       "      <td>False</td>\n",
       "      <td>3</td>\n",
       "      <td>-0.096124</td>\n",
       "      <td>325922.6</td>\n",
       "      <td>2768.171947</td>\n",
       "    </tr>\n",
       "    <tr>\n",
       "      <th>318</th>\n",
       "      <td>2016-01</td>\n",
       "      <td>91080</td>\n",
       "      <td>2016-01-01</td>\n",
       "      <td>12896.0</td>\n",
       "      <td>11262.0</td>\n",
       "      <td>6505194.0</td>\n",
       "      <td>87.3294</td>\n",
       "      <td>577.623335</td>\n",
       "      <td>504.435019</td>\n",
       "      <td>United States</td>\n",
       "      <td>...</td>\n",
       "      <td>2.199718</td>\n",
       "      <td>3.422912</td>\n",
       "      <td>545.264315</td>\n",
       "      <td>-0.005453</td>\n",
       "      <td>-0.014811</td>\n",
       "      <td>False</td>\n",
       "      <td>17</td>\n",
       "      <td>-0.178552</td>\n",
       "      <td>325922.6</td>\n",
       "      <td>14181.123368</td>\n",
       "    </tr>\n",
       "    <tr>\n",
       "      <th>...</th>\n",
       "      <td>...</td>\n",
       "      <td>...</td>\n",
       "      <td>...</td>\n",
       "      <td>...</td>\n",
       "      <td>...</td>\n",
       "      <td>...</td>\n",
       "      <td>...</td>\n",
       "      <td>...</td>\n",
       "      <td>...</td>\n",
       "      <td>...</td>\n",
       "      <td>...</td>\n",
       "      <td>...</td>\n",
       "      <td>...</td>\n",
       "      <td>...</td>\n",
       "      <td>...</td>\n",
       "      <td>...</td>\n",
       "      <td>...</td>\n",
       "      <td>...</td>\n",
       "      <td>...</td>\n",
       "      <td>...</td>\n",
       "      <td>...</td>\n",
       "    </tr>\n",
       "    <tr>\n",
       "      <th>5159</th>\n",
       "      <td>2016-09</td>\n",
       "      <td>111343</td>\n",
       "      <td>2016-09-01</td>\n",
       "      <td>6750.0</td>\n",
       "      <td>6541.0</td>\n",
       "      <td>1127608.0</td>\n",
       "      <td>96.9037</td>\n",
       "      <td>172.390766</td>\n",
       "      <td>167.053037</td>\n",
       "      <td>United States</td>\n",
       "      <td>...</td>\n",
       "      <td>4.586095</td>\n",
       "      <td>4.827411</td>\n",
       "      <td>141.689808</td>\n",
       "      <td>-0.000114</td>\n",
       "      <td>0.001585</td>\n",
       "      <td>False</td>\n",
       "      <td>20</td>\n",
       "      <td>-0.050347</td>\n",
       "      <td>1210161.0</td>\n",
       "      <td>6907.179653</td>\n",
       "    </tr>\n",
       "    <tr>\n",
       "      <th>5231</th>\n",
       "      <td>2016-09</td>\n",
       "      <td>7228128</td>\n",
       "      <td>2016-09-01</td>\n",
       "      <td>13020.0</td>\n",
       "      <td>10905.0</td>\n",
       "      <td>3738672.0</td>\n",
       "      <td>83.7557</td>\n",
       "      <td>342.840165</td>\n",
       "      <td>287.148387</td>\n",
       "      <td>United States</td>\n",
       "      <td>...</td>\n",
       "      <td>0.653827</td>\n",
       "      <td>4.827411</td>\n",
       "      <td>310.926015</td>\n",
       "      <td>-0.001446</td>\n",
       "      <td>0.001585</td>\n",
       "      <td>False</td>\n",
       "      <td>20</td>\n",
       "      <td>-0.050347</td>\n",
       "      <td>1210161.0</td>\n",
       "      <td>14111.189521</td>\n",
       "    </tr>\n",
       "    <tr>\n",
       "      <th>5273</th>\n",
       "      <td>2016-10</td>\n",
       "      <td>111343</td>\n",
       "      <td>2016-10-01</td>\n",
       "      <td>6975.0</td>\n",
       "      <td>6686.0</td>\n",
       "      <td>1233261.0</td>\n",
       "      <td>95.8566</td>\n",
       "      <td>184.454233</td>\n",
       "      <td>176.811613</td>\n",
       "      <td>United States</td>\n",
       "      <td>...</td>\n",
       "      <td>5.458361</td>\n",
       "      <td>5.620897</td>\n",
       "      <td>153.751423</td>\n",
       "      <td>-0.000111</td>\n",
       "      <td>0.002361</td>\n",
       "      <td>False</td>\n",
       "      <td>21</td>\n",
       "      <td>-0.051757</td>\n",
       "      <td>1210161.0</td>\n",
       "      <td>7056.931456</td>\n",
       "    </tr>\n",
       "    <tr>\n",
       "      <th>5347</th>\n",
       "      <td>2016-10</td>\n",
       "      <td>7228128</td>\n",
       "      <td>2016-10-01</td>\n",
       "      <td>13454.0</td>\n",
       "      <td>11128.0</td>\n",
       "      <td>4158941.0</td>\n",
       "      <td>82.7114</td>\n",
       "      <td>373.736610</td>\n",
       "      <td>309.123012</td>\n",
       "      <td>United States</td>\n",
       "      <td>...</td>\n",
       "      <td>0.796082</td>\n",
       "      <td>5.620897</td>\n",
       "      <td>341.846633</td>\n",
       "      <td>-0.001464</td>\n",
       "      <td>0.002361</td>\n",
       "      <td>False</td>\n",
       "      <td>21</td>\n",
       "      <td>-0.051757</td>\n",
       "      <td>1210161.0</td>\n",
       "      <td>14398.866788</td>\n",
       "    </tr>\n",
       "    <tr>\n",
       "      <th>5353</th>\n",
       "      <td>2016-10</td>\n",
       "      <td>8116969</td>\n",
       "      <td>2016-10-01</td>\n",
       "      <td>7678.0</td>\n",
       "      <td>7501.0</td>\n",
       "      <td>1284279.0</td>\n",
       "      <td>97.6947</td>\n",
       "      <td>171.214371</td>\n",
       "      <td>167.267387</td>\n",
       "      <td>United States</td>\n",
       "      <td>...</td>\n",
       "      <td>5.458361</td>\n",
       "      <td>5.620897</td>\n",
       "      <td>140.484461</td>\n",
       "      <td>-0.000070</td>\n",
       "      <td>0.002361</td>\n",
       "      <td>False</td>\n",
       "      <td>21</td>\n",
       "      <td>-0.051757</td>\n",
       "      <td>1210161.0</td>\n",
       "      <td>7780.635205</td>\n",
       "    </tr>\n",
       "  </tbody>\n",
       "</table>\n",
       "<p>88 rows × 148 columns</p>\n",
       "</div>"
      ],
      "text/plain": [
       "     post_month  shareid  year_month   Supply   Demand    Revenue      Occ  \\\n",
       "20      2016-08   102347  2016-08-01   7285.0   5991.0   722049.0  82.2374   \n",
       "36      2016-08  2896521  2016-08-01   2790.0   2393.0   349426.0  85.7706   \n",
       "56      2016-08  8025768  2016-08-01   3472.0   3239.0   494425.0  93.2891   \n",
       "220     2016-11  2896521  2016-11-01   2700.0   2168.0   357424.0  80.2962   \n",
       "318     2016-01    91080  2016-01-01  12896.0  11262.0  6505194.0  87.3294   \n",
       "...         ...      ...         ...      ...      ...        ...      ...   \n",
       "5159    2016-09   111343  2016-09-01   6750.0   6541.0  1127608.0  96.9037   \n",
       "5231    2016-09  7228128  2016-09-01  13020.0  10905.0  3738672.0  83.7557   \n",
       "5273    2016-10   111343  2016-10-01   6975.0   6686.0  1233261.0  95.8566   \n",
       "5347    2016-10  7228128  2016-10-01  13454.0  11128.0  4158941.0  82.7114   \n",
       "5353    2016-10  8116969  2016-10-01   7678.0   7501.0  1284279.0  97.6947   \n",
       "\n",
       "             ADR      RevPAR        Country  ... D_g_sigma   D_g_sum  \\\n",
       "20    120.522283   99.114482  United States  ...  0.958029  2.542960   \n",
       "36    146.020059  125.242294  United States  ...  0.958029  2.542960   \n",
       "56    152.647422  142.403514  United States  ...  0.958029  2.542960   \n",
       "220   164.863469  132.379259  United States  ...  0.732410  2.067547   \n",
       "318   577.623335  504.435019  United States  ...  2.199718  3.422912   \n",
       "...          ...         ...            ...  ...       ...       ...   \n",
       "5159  172.390766  167.053037  United States  ...  4.586095  4.827411   \n",
       "5231  342.840165  287.148387  United States  ...  0.653827  4.827411   \n",
       "5273  184.454233  176.811613  United States  ...  5.458361  5.620897   \n",
       "5347  373.736610  309.123012  United States  ...  0.796082  5.620897   \n",
       "5353  171.214371  167.267387  United States  ...  5.458361  5.620897   \n",
       "\n",
       "            mc_t  market_share_cf_delta_diff  diff_term  r_greater_exante  \\\n",
       "20     88.606538                   -0.002187   0.002208             False   \n",
       "36    114.980933                   -0.001014   0.002208             False   \n",
       "56    121.406534                   -0.000458   0.002208             False   \n",
       "220   133.840643                   -0.000965   0.002448             False   \n",
       "318   545.264315                   -0.005453  -0.014811             False   \n",
       "...          ...                         ...        ...               ...   \n",
       "5159  141.689808                   -0.000114   0.001585             False   \n",
       "5231  310.926015                   -0.001446   0.001585             False   \n",
       "5273  153.751423                   -0.000111   0.002361             False   \n",
       "5347  341.846633                   -0.001464   0.002361             False   \n",
       "5353  140.484461                   -0.000070   0.002361             False   \n",
       "\n",
       "      index        cs  market_size     demand_cf  \n",
       "20        0 -0.113026     325922.6   7326.540716  \n",
       "36        0 -0.113026     325922.6   3007.669431  \n",
       "56        0 -0.113026     325922.6   3516.410700  \n",
       "220       3 -0.096124     325922.6   2768.171947  \n",
       "318      17 -0.178552     325922.6  14181.123368  \n",
       "...     ...       ...          ...           ...  \n",
       "5159     20 -0.050347    1210161.0   6907.179653  \n",
       "5231     20 -0.050347    1210161.0  14111.189521  \n",
       "5273     21 -0.051757    1210161.0   7056.931456  \n",
       "5347     21 -0.051757    1210161.0  14398.866788  \n",
       "5353     21 -0.051757    1210161.0   7780.635205  \n",
       "\n",
       "[88 rows x 148 columns]"
      ]
     },
     "execution_count": 70,
     "metadata": {},
     "output_type": "execute_result"
    }
   ],
   "source": [
    "df_3[df_3[\"demand_cf\"]>df_3[\"Supply\"]]"
   ]
  },
  {
   "cell_type": "code",
   "execution_count": 71,
   "id": "ec1308f8",
   "metadata": {},
   "outputs": [
    {
     "data": {
      "text/plain": [
       "Market\n",
       "Chicago, IL           0.259668\n",
       "Houston, TX         -14.847354\n",
       "Miami/Hialeah, FL     0.320313\n",
       "Name: revenue_diff, dtype: float64"
      ]
     },
     "execution_count": 71,
     "metadata": {},
     "output_type": "execute_result"
    }
   ],
   "source": [
    "df_3[\"Revenue_cf\"] = df_3[\"market_share_cf\"]*df_3[\"market_size\"]*df_3[\"ADR\"]\n",
    "#df_3[\"revenue_real\"] = df_3[\"market_share\"]*df_3[\"market_size\"]*df_3[\"ADR\"]\n",
    "df_3[\"revenue_diff\"] = (df_3[\"Revenue_cf\"] - df_3[\"Revenue\"])/1000000\n",
    "\n",
    "df_3.groupby([\"Market\"])[\"revenue_diff\"].sum()\n",
    "                                        "
   ]
  },
  {
   "cell_type": "code",
   "execution_count": 72,
   "id": "2ef859e6",
   "metadata": {},
   "outputs": [
    {
     "data": {
      "text/plain": [
       "Market             r_greater_exante\n",
       "Chicago, IL        False               42.795788\n",
       "                   True               -42.536120\n",
       "Houston, TX        False               24.989626\n",
       "                   True               -39.836980\n",
       "Miami/Hialeah, FL  False               29.979695\n",
       "                   True               -29.659382\n",
       "Name: revenue_diff, dtype: float64"
      ]
     },
     "execution_count": 72,
     "metadata": {},
     "output_type": "execute_result"
    }
   ],
   "source": [
    "df_3.groupby([\"Market\",\"r_greater_exante\"])[\"revenue_diff\"].sum()"
   ]
  },
  {
   "cell_type": "code",
   "execution_count": 73,
   "id": "650575ae",
   "metadata": {},
   "outputs": [
    {
     "data": {
      "text/plain": [
       "Market\n",
       "Chicago, IL         -0.001948\n",
       "Houston, TX          0.001002\n",
       "Miami/Hialeah, FL    0.010796\n",
       "Name: market_share_percent_diff, dtype: float64"
      ]
     },
     "execution_count": 73,
     "metadata": {},
     "output_type": "execute_result"
    }
   ],
   "source": [
    "df_3[\"market_share_percent_diff\"] = (df_3[\"market_share\"] - df_3[\"market_share_cf\"])/df_3[\"market_share_cf\"]\n",
    "df_3.groupby([\"Market\"])[\"market_share_percent_diff\"].mean()"
   ]
  },
  {
   "cell_type": "code",
   "execution_count": 74,
   "id": "a62a331f",
   "metadata": {},
   "outputs": [
    {
     "data": {
      "text/plain": [
       "Market\n",
       "Chicago, IL         -0.001948\n",
       "Houston, TX          0.001002\n",
       "Miami/Hialeah, FL    0.010796\n",
       "Name: market_share_percent_diff, dtype: float64"
      ]
     },
     "execution_count": 74,
     "metadata": {},
     "output_type": "execute_result"
    }
   ],
   "source": [
    "df_3.groupby([\"Market\"])[\"market_share_percent_diff\"].mean()"
   ]
  },
  {
   "cell_type": "code",
   "execution_count": 75,
   "id": "116d8c0b",
   "metadata": {},
   "outputs": [
    {
     "data": {
      "text/plain": [
       "Operation  r_greater_exante\n",
       "1          False              -0.063226\n",
       "           True                0.063502\n",
       "2          False              -0.041120\n",
       "           True                0.047450\n",
       "3          False              -0.047157\n",
       "           True                0.089029\n",
       "Name: market_share_percent_diff, dtype: float64"
      ]
     },
     "execution_count": 75,
     "metadata": {},
     "output_type": "execute_result"
    }
   ],
   "source": [
    "df_3.groupby([\"Operation\",\"r_greater_exante\"])[\"market_share_percent_diff\"].mean()"
   ]
  },
  {
   "cell_type": "code",
   "execution_count": 76,
   "id": "18ffec3f",
   "metadata": {},
   "outputs": [
    {
     "data": {
      "text/plain": [
       "Operation\n",
       "1   -0.008294\n",
       "2    0.002129\n",
       "3    0.019431\n",
       "Name: market_share_percent_diff, dtype: float64"
      ]
     },
     "execution_count": 76,
     "metadata": {},
     "output_type": "execute_result"
    }
   ],
   "source": [
    "df_3.groupby([\"Operation\"])[\"market_share_percent_diff\"].mean()"
   ]
  },
  {
   "cell_type": "code",
   "execution_count": 77,
   "id": "aadf40e7",
   "metadata": {},
   "outputs": [
    {
     "data": {
      "text/plain": [
       "Operation\n",
       "1    332.059231\n",
       "2    154.683631\n",
       "3    166.683095\n",
       "Name: capacity, dtype: float64"
      ]
     },
     "execution_count": 77,
     "metadata": {},
     "output_type": "execute_result"
    }
   ],
   "source": [
    "df_3.groupby([\"Operation\"])[\"capacity\"].mean()"
   ]
  },
  {
   "cell_type": "code",
   "execution_count": 451,
   "id": "400032f0",
   "metadata": {},
   "outputs": [
    {
     "data": {
      "text/plain": [
       "Operation\n",
       "1    125\n",
       "2    276\n",
       "3     70\n",
       "Name: shareid, dtype: int64"
      ]
     },
     "execution_count": 451,
     "metadata": {},
     "output_type": "execute_result"
    }
   ],
   "source": [
    "df_3.groupby(\"Operation\")[\"shareid\"].nunique()"
   ]
  },
  {
   "cell_type": "code",
   "execution_count": 452,
   "id": "7bdeba6d",
   "metadata": {},
   "outputs": [
    {
     "data": {
      "text/plain": [
       "Operation\n",
       "1   -0.000034\n",
       "2   -0.000136\n",
       "3   -0.001662\n",
       "Name: revenue_percent_diff, dtype: float64"
      ]
     },
     "execution_count": 452,
     "metadata": {},
     "output_type": "execute_result"
    }
   ],
   "source": [
    "df_3[\"revenue_percent_diff\"] = (df_3[\"Revenue\"] - df_3[\"Revenue_cf\"])/df_3[\"Revenue_cf\"]\n",
    "df_3.groupby([\"Operation\"])[\"revenue_percent_diff\"].mean()"
   ]
  },
  {
   "cell_type": "code",
   "execution_count": 396,
   "id": "2378cf19",
   "metadata": {},
   "outputs": [
    {
     "data": {
      "text/plain": [
       "Class Group\n",
       "economy_group    0.002756\n",
       "luxury_group    -0.000564\n",
       "upscale_group   -0.002963\n",
       "Name: revenue_percent_diff, dtype: float64"
      ]
     },
     "execution_count": 396,
     "metadata": {},
     "output_type": "execute_result"
    }
   ],
   "source": [
    "df_3.groupby([\"Class Group\"])[\"revenue_percent_diff\"].mean()"
   ]
  },
  {
   "cell_type": "code",
   "execution_count": 104,
   "id": "adc1dbcd",
   "metadata": {},
   "outputs": [
    {
     "data": {
      "text/plain": [
       "Market\n",
       "Chicago, IL         -0.008927\n",
       "Houston, TX         -0.008173\n",
       "Miami/Hialeah, FL   -0.009172\n",
       "Name: delta_diff, dtype: float64"
      ]
     },
     "execution_count": 104,
     "metadata": {},
     "output_type": "execute_result"
    }
   ],
   "source": [
    "df_3[\"delta_diff\"] = df_3[\"delta_cf\"] - df_3[\"delta\"]\n",
    "df_3.groupby([\"Market\"])[\"delta_diff\"].mean()"
   ]
  },
  {
   "cell_type": "code",
   "execution_count": 78,
   "id": "948588c5",
   "metadata": {},
   "outputs": [
    {
     "data": {
      "text/plain": [
       "Market\n",
       "Chicago, IL          0.000444\n",
       "Houston, TX          0.001425\n",
       "Miami/Hialeah, FL   -0.000025\n",
       "Name: s_0_diff, dtype: float64"
      ]
     },
     "execution_count": 78,
     "metadata": {},
     "output_type": "execute_result"
    }
   ],
   "source": [
    "#calculate counterfactual outside share\n",
    "\n",
    "market_share_sum = df_3.groupby([\"Market\",\"year\",\"month\",\"s_0\"])[\"market_share_cf\"].sum().reset_index().rename(columns={\"market_share_cf\":\"market_share_cf_sum\"})\n",
    "\n",
    "market_share_sum[\"s_0_cf\"] = 1-market_share_sum[\"market_share_cf_sum\"]\n",
    "\n",
    "market_share_sum[\"s_0_diff\"] = market_share_sum[\"s_0_cf\"]-market_share_sum[\"s_0\"]\n",
    "\n",
    "market_share_sum.groupby(\"Market\")[\"s_0_diff\"].mean()"
   ]
  },
  {
   "cell_type": "markdown",
   "id": "f5ac2023",
   "metadata": {},
   "source": [
    "# Don't run cells below!"
   ]
  },
  {
   "cell_type": "markdown",
   "id": "581cdcd5",
   "metadata": {},
   "source": [
    "# Reduced-form price"
   ]
  },
  {
   "cell_type": "code",
   "execution_count": 965,
   "id": "729abef4",
   "metadata": {},
   "outputs": [],
   "source": [
    "df[\"market_year_month_class\"] = df[\"market_year_month\"]+df[\"Class Group\"]"
   ]
  },
  {
   "cell_type": "code",
   "execution_count": 966,
   "id": "4b4bcc10",
   "metadata": {},
   "outputs": [],
   "source": [
    "# Encode dummy variables -- year_month and hotel\n",
    "\n",
    "OH = OneHotEncoder(handle_unknown='ignore')\n",
    "\n",
    "fe_var= [\"shareid\",\"market_year_month_class\",\"Class Group\"]\n",
    "\n",
    "x_fe = OH.fit_transform(df[fe_var]).toarray()\n",
    "fe_var_cols = OH.fit(df[fe_var]).get_feature_names_out().tolist()\n",
    "\n",
    "fe_var_df_3 = pd.DataFrame(x_fe, columns=fe_var_cols)\n",
    "fe_var_df_3 = fe_var_df_3.rename(columns = {\"Class Group_economy_group\":\"Economy Class\",\\\n",
    "                                           \"Class Group_luxury_group\":\"Luxury Class\",\\\n",
    "                                           \"Class Group_upscale_group\":\"Upscale Class\"})\n",
    "\n",
    "con_var_list = [\"Rating\",\"is_reviewed\"]\n",
    "con_var_df = df[con_var_list]\n",
    "\n",
    "x_temp = pd.concat([con_var_df,fe_var_df_3], axis=1).astype(float)\n",
    "x_temp[\"Economy_Rating\"] = x_temp[\"Economy Class\"]*x_temp[\"Rating\"]\n",
    "x_temp[\"Upscale_Rating\"] = x_temp[\"Upscale Class\"]*x_temp[\"Rating\"]\n",
    "x_temp[\"Luxury_Rating\"] = x_temp[\"Luxury Class\"]*x_temp[\"Rating\"]\n",
    "\n",
    "con_var_df = x_temp[[\"Economy_Rating\",\"Upscale_Rating\",\"Luxury_Rating\",\"is_reviewed\"]]\n",
    "\n",
    "x_3 = pd.concat([con_var_df,fe_var_df_3], axis=1)\n",
    "x_3 = sm.add_constant(x_3)"
   ]
  },
  {
   "cell_type": "code",
   "execution_count": 967,
   "id": "b31a6a5a",
   "metadata": {},
   "outputs": [],
   "source": [
    "model_1_price = sm.OLS(df[\"ln_ADR\"], x_3)\n",
    "#model_1_price = statsmodels.regression.linear_model.WLS((df[\"ADR\"], x_3,)\n",
    "results_1_price = model_1_price.fit(cov_type=\"cluster\",cov_kwds={\"groups\":df[\"shareid\"]})"
   ]
  },
  {
   "cell_type": "code",
   "execution_count": 968,
   "id": "ae7e50ff",
   "metadata": {},
   "outputs": [],
   "source": [
    "# Get residuals\n",
    "residuals = results_1_price.resid\n"
   ]
  },
  {
   "cell_type": "code",
   "execution_count": 969,
   "id": "8b795496",
   "metadata": {},
   "outputs": [
    {
     "data": {
      "text/plain": [
       "count    73518.000000\n",
       "mean         0.000528\n",
       "std          0.105615\n",
       "min         -1.040014\n",
       "25%         -0.059880\n",
       "50%          0.002374\n",
       "75%          0.061922\n",
       "max          0.925044\n",
       "dtype: float64"
      ]
     },
     "execution_count": 969,
     "metadata": {},
     "output_type": "execute_result"
    }
   ],
   "source": [
    "residuals.describe()"
   ]
  },
  {
   "cell_type": "code",
   "execution_count": 970,
   "id": "a6a16b08",
   "metadata": {},
   "outputs": [],
   "source": [
    "# Get weights for WLS\n",
    "model_1_price_weights = sm.OLS(np.sqrt(abs(residuals)), x_3)\n",
    "price_weights = model_1_price_weights.fit(cov_type=\"cluster\",cov_kwds={\"groups\":df[\"shareid\"]}).fittedvalues\n"
   ]
  },
  {
   "cell_type": "code",
   "execution_count": 971,
   "id": "a64d0199",
   "metadata": {},
   "outputs": [],
   "source": [
    "# WLS\n",
    "model_wls_price = statsmodels.regression.linear_model.WLS(df[\"ln_ADR\"], x_3, weights = price_weights,hasconst = True)\n",
    "#results_wls_price = model_wls_price.fit_regularized(method='sqrt_lasso',profile_scale = True,start_params=results_1_price.params,maxiter=1000)\n",
    "\n"
   ]
  },
  {
   "cell_type": "code",
   "execution_count": 972,
   "id": "d5a506f5",
   "metadata": {},
   "outputs": [],
   "source": [
    "results_wls_price = model_wls_price.fit_regularized(method='sqrt_lasso',profile_scale = True,start_params=results_1_price.params,maxiter=1000)\n",
    "\n"
   ]
  },
  {
   "cell_type": "code",
   "execution_count": 973,
   "id": "433e75ea",
   "metadata": {},
   "outputs": [],
   "source": [
    "## Encode dummy variables -- year_month and hotel\n",
    "\n",
    "OH = OneHotEncoder(handle_unknown='ignore')\n",
    "\n",
    "fe_var= [\"shareid\",\"market_year_month_class\",\"Class Group\"]\n",
    "\n",
    "x_fe = OH.fit_transform(df[fe_var]).toarray()\n",
    "fe_var_cols = OH.fit(df[fe_var]).get_feature_names_out().tolist()\n",
    "\n",
    "fe_var_df_3 = pd.DataFrame(x_fe, columns=fe_var_cols)\n",
    "fe_var_df_3 = fe_var_df_3.rename(columns = {\"Class Group_economy_group\":\"Economy Class\",\\\n",
    "                                           \"Class Group_luxury_group\":\"Luxury Class\",\\\n",
    "                                           \"Class Group_upscale_group\":\"Upscale Class\"})\n",
    "\n",
    "con_var_list = [\"exante_rating\",\"is_reviewed\"]\n",
    "con_var_df = df[con_var_list]\n",
    "\n",
    "x_temp = pd.concat([con_var_df,fe_var_df_3], axis=1).astype(float)\n",
    "x_temp[\"Economy_Rating\"] = x_temp[\"Economy Class\"]*x_temp[\"exante_rating\"]\n",
    "x_temp[\"Upscale_Rating\"] = x_temp[\"Upscale Class\"]*x_temp[\"exante_rating\"]\n",
    "x_temp[\"Luxury_Rating\"] = x_temp[\"Luxury Class\"]*x_temp[\"exante_rating\"]\n",
    "\n",
    "con_var_df = x_temp[[\"Economy_Rating\",\"Upscale_Rating\",\"Luxury_Rating\",\"is_reviewed\"]]\n",
    "\n",
    "x_pred = pd.concat([con_var_df,fe_var_df_3], axis=1)\n",
    "x_pred = sm.add_constant(x_pred)"
   ]
  },
  {
   "cell_type": "code",
   "execution_count": 974,
   "id": "935a9321",
   "metadata": {},
   "outputs": [],
   "source": [
    "\n",
    "df[\"price_without_review\"] = results_wls_price.predict(x_pred)\n",
    "df[\"price_without_review\"] = np.exp(df[\"price_without_review\"])"
   ]
  },
  {
   "cell_type": "code",
   "execution_count": 975,
   "id": "a1c891a2",
   "metadata": {},
   "outputs": [
    {
     "data": {
      "text/plain": [
       "Text(0, 0.5, 'Counterfactual Price - reduced form')"
      ]
     },
     "execution_count": 975,
     "metadata": {},
     "output_type": "execute_result"
    },
    {
     "data": {
      "image/png": "[encoded data removed]",
      "text/plain": [
       "<Figure size 432x288 with 1 Axes>"
      ]
     },
     "metadata": {
      "needs_background": "light"
     },
     "output_type": "display_data"
    }
   ],
   "source": [
    "plt.scatter(df[\"ADR\"],df[\"price_without_review\"])\n",
    "plt.xlabel(\"True Price\")\n",
    "plt.ylabel(\"Counterfactual Price - reduced form\")"
   ]
  },
  {
   "cell_type": "code",
   "execution_count": 976,
   "id": "48e12aeb",
   "metadata": {},
   "outputs": [
    {
     "data": {
      "text/plain": [
       "count    73518.000000\n",
       "mean       123.688993\n",
       "std         86.200556\n",
       "min         23.167017\n",
       "25%         73.857393\n",
       "50%        106.983400\n",
       "75%        149.753473\n",
       "max       1559.417913\n",
       "Name: price_without_review, dtype: float64"
      ]
     },
     "execution_count": 976,
     "metadata": {},
     "output_type": "execute_result"
    }
   ],
   "source": [
    "df[\"price_without_review\"].describe()"
   ]
  },
  {
   "cell_type": "code",
   "execution_count": 977,
   "id": "a1a88984",
   "metadata": {},
   "outputs": [
    {
     "data": {
      "text/plain": [
       "count    73518.000000\n",
       "mean       124.742188\n",
       "std         88.614213\n",
       "min         19.046893\n",
       "25%         72.827336\n",
       "50%        108.106922\n",
       "75%        150.928150\n",
       "max       1763.682008\n",
       "Name: ADR, dtype: float64"
      ]
     },
     "execution_count": 977,
     "metadata": {},
     "output_type": "execute_result"
    }
   ],
   "source": [
    "df[\"ADR\"].describe()"
   ]
  },
  {
   "cell_type": "markdown",
   "id": "97a0a617",
   "metadata": {},
   "source": [
    "## compare real price vs. counterfactual price"
   ]
  },
  {
   "cell_type": "code",
   "execution_count": 1044,
   "id": "47174f04",
   "metadata": {},
   "outputs": [],
   "source": [
    "df = pd.read_csv(\\\n",
    "    r\"/Users/juju/Library/Mobile Documents/com~apple~CloudDocs/ta_project/data/welfare_data_reduced_form_price.csv\")"
   ]
  },
  {
   "cell_type": "code",
   "execution_count": 1045,
   "id": "48d961fb",
   "metadata": {},
   "outputs": [
    {
     "data": {
      "text/plain": [
       "count    73518.000000\n",
       "mean         1.053195\n",
       "std         16.439219\n",
       "min       -329.311527\n",
       "25%         -5.514378\n",
       "50%          0.440926\n",
       "75%          7.014855\n",
       "max        603.706591\n",
       "dtype: float64"
      ]
     },
     "execution_count": 1045,
     "metadata": {},
     "output_type": "execute_result"
    }
   ],
   "source": [
    "(df[\"ADR\"]-df[\"price_without_review\"]).describe()"
   ]
  },
  {
   "cell_type": "code",
   "execution_count": 1046,
   "id": "96cad129",
   "metadata": {},
   "outputs": [],
   "source": [
    "price_cf = df.groupby([\"Market\",\"Class Group\"])[\"price_without_review\"].mean().reset_index()"
   ]
  },
  {
   "cell_type": "code",
   "execution_count": 1047,
   "id": "5821f8c0",
   "metadata": {},
   "outputs": [],
   "source": [
    "price_real = df.groupby([\"Market\",\"Class Group\"])[\"ADR\"].mean().reset_index()"
   ]
  },
  {
   "cell_type": "code",
   "execution_count": 1048,
   "id": "9942dd0a",
   "metadata": {},
   "outputs": [],
   "source": [
    "price = price_real.merge(price_cf, on=[\"Market\",\"Class Group\"]).rename(columns={\"price_without_review\":\"ADR_without_review\"})"
   ]
  },
  {
   "cell_type": "code",
   "execution_count": 1051,
   "id": "6e90e44c",
   "metadata": {},
   "outputs": [],
   "source": [
    "df[\"delta_cf\"] = df[\"delta\"] - rating_param*(df[\"Rating\"] - df[\"exante_rating\"])-alpha*(df[\"ADR\"]-df[\"price_without_review\"])\n",
    "df[\"exp_delta_cf_over_1-sigma\"] = np.exp(df[\"delta_cf\"]/(1-sigma))\n",
    "\n",
    "\n",
    "#calculate counterfactual market share\n",
    "\n",
    "l=[]\n",
    "for i in (0,1,2):\n",
    "    \n",
    "    data = df[df[\"Market\"]==df[\"Market\"].unique()[i]]\n",
    "    D_g = data.groupby([\"month\",\"year\",\"Class Group\"])[\"exp_delta_cf_over_1-sigma\"].sum().reset_index().rename(columns={\"exp_delta_cf_over_1-sigma\":\"D_g_cf\"})\n",
    "    D_g[\"D_g_1-sigma_cf\"] = D_g[\"D_g_cf\"]**(1-sigma)\n",
    "    D_g[\"D_g_sigma_cf\"] = D_g[\"D_g_cf\"]**(sigma)\n",
    "    D_g_sum = D_g.groupby([\"month\",\"year\"])[\"D_g_1-sigma_cf\"].sum().reset_index().rename(columns={\"D_g_1-sigma_cf\":\"D_g_sum_cf\"})\n",
    "    df_temp = data.merge(D_g, on=[\"month\",\"year\",\"Class Group\"], how=\"left\").\\\n",
    "         merge(D_g_sum, on=[\"month\",\"year\"], how=\"left\")\n",
    "    df_temp[\"market_share_cf\"] = df_temp[\"exp_delta_cf_over_1-sigma\"]/(df_temp[\"D_g_sigma_cf\"]*(df_temp[\"D_g_sum_cf\"]+1))\n",
    "    l.append(df_temp)\n",
    "\n",
    "df_data = pd.concat(l,axis=0) \n",
    "\n",
    "\n",
    "l=[]\n",
    "for i in (0,1,2):\n",
    "    \n",
    "    data = df_data[df_data[\"Market\"]==df[\"Market\"].unique()[i]]\n",
    "    D_g = data.groupby([\"month\",\"year\",\"Class Group\"])[\"exp_delta_over_1-sigma\"].sum().reset_index().rename(columns={\"exp_delta_over_1-sigma\":\"D_g\"})\n",
    "    D_g[\"D_g_1-sigma\"] = D_g[\"D_g\"]**(1-sigma)\n",
    "    D_g[\"D_g_sigma\"] = D_g[\"D_g\"]**(sigma)\n",
    "    D_g_sum = D_g.groupby([\"month\",\"year\"])[\"D_g_1-sigma\"].sum().reset_index().rename(columns={\"D_g_1-sigma\":\"D_g_sum\"})\n",
    "    df_temp = data.merge(D_g, on=[\"month\",\"year\",\"Class Group\"], how=\"left\").\\\n",
    "         merge(D_g_sum, on=[\"month\",\"year\"], how=\"left\")\n",
    "\n",
    "    l.append(df_temp)\n",
    "\n",
    "df_data = pd.concat(l,axis=0) \n"
   ]
  },
  {
   "cell_type": "code",
   "execution_count": 1052,
   "id": "65d8d5b5",
   "metadata": {},
   "outputs": [],
   "source": [
    "df_data = df_data.merge(market_size, on=\"Market\",how=\"left\")\n",
    "df_data[\"Demand_cf\"] = df_data[\"market_share_cf\"]*df_data[\"market_size\"]\n",
    "df_data = df_data.rename(columns={\"market_share_cf\":\"market_share_cf_unconstrained\"})"
   ]
  },
  {
   "cell_type": "markdown",
   "id": "267f9ed5",
   "metadata": {},
   "source": [
    "### Refit counterfactual market share"
   ]
  },
  {
   "cell_type": "code",
   "execution_count": 1053,
   "id": "24a77bcb",
   "metadata": {},
   "outputs": [],
   "source": [
    "df_data[\"Demand_cf\"] = df_data[['Demand_cf','Supply']].min(axis=1)\n",
    "df_data[\"market_share_cf\"] = df_data[\"Demand_cf\"]/df_data[\"market_size\"]"
   ]
  },
  {
   "cell_type": "code",
   "execution_count": 1060,
   "id": "23c1adcc",
   "metadata": {},
   "outputs": [
    {
     "data": {
      "text/plain": [
       "Text(0.5, 1.0, 'Constrained vs. Un-constrained Market Share')"
      ]
     },
     "execution_count": 1060,
     "metadata": {},
     "output_type": "execute_result"
    },
    {
     "data": {
      "image/png": "[encoded data removed]",
      "text/plain": [
       "<Figure size 432x288 with 1 Axes>"
      ]
     },
     "metadata": {
      "needs_background": "light"
     },
     "output_type": "display_data"
    }
   ],
   "source": [
    "plt.scatter(df_data[\"market_share_cf\"],df_data[\"market_share_cf_unconstrained\"])\n",
    "plt.xlabel(\"Counterfactual market share - constrained\")\n",
    "plt.ylabel(\"Counterfactual market share - unconstrained\")\n",
    "plt.title(\"Constrained vs. Un-constrained Market Share\")"
   ]
  },
  {
   "cell_type": "code",
   "execution_count": null,
   "id": "ce4e3940",
   "metadata": {},
   "outputs": [],
   "source": []
  },
  {
   "cell_type": "markdown",
   "id": "cfca6999",
   "metadata": {},
   "source": [
    "### Refit counterfactual delta"
   ]
  },
  {
   "cell_type": "code",
   "execution_count": 1031,
   "id": "b36b8f3c",
   "metadata": {},
   "outputs": [],
   "source": [
    "# calculate counterfactual within-group market share\n",
    "\n",
    "l=[]\n",
    "for i in (0,1,2):\n",
    "    \n",
    "    data = df_data[df_data[\"Market\"]==df_data[\"Market\"].unique()[i]]\n",
    "    \n",
    "    test_1 = data.groupby([\"month\",\"year\"])[\"Demand_cf\"].sum().reset_index().rename(columns={\"Demand_cf\":\"Market Monthly Demand_cf\"})\n",
    "    test_2 = data.groupby([\"month\",\"year\",\"Class Group\"])[\"Demand_cf\"].sum().reset_index().rename(columns={\"Demand_cf\":\"Group Monthly Demand_cf\"})\n",
    "    \n",
    "    test = test_2.merge(test_1, on=[\"month\",\"year\"], how=\"left\")\n",
    "    \n",
    "    temp = data.merge(test, on=[\"year\",\"month\",\"Class Group\"], how=\"left\")\n",
    "    temp[\"group_share_cf\"] = temp[\"Demand_cf\"]/temp[\"Group Monthly Demand_cf\"]\n",
    "    temp[\"s_0_cf\"] = 1- temp[\"Market Monthly Demand_cf\"]/temp[\"market_size\"]\n",
    "    \n",
    "\n",
    "    l.append(temp)\n",
    "\n",
    "df = pd.concat(l,axis=0).fillna(0).reset_index()    \n"
   ]
  },
  {
   "cell_type": "code",
   "execution_count": 1032,
   "id": "e25dd2ea",
   "metadata": {},
   "outputs": [],
   "source": [
    "df = df.drop(['D_g_cf','D_g_1-sigma_cf','D_g_sigma_cf','D_g_sum_cf'],axis=1)"
   ]
  },
  {
   "cell_type": "code",
   "execution_count": 1033,
   "id": "bf6312fc",
   "metadata": {},
   "outputs": [],
   "source": [
    "df[\"delta_cf\"] = np.log(df[\"market_share_cf\"])-np.log(df[\"s_0_cf\"])-sigma*np.log(df[\"group_share_cf\"])\n",
    "df[\"exp_delta_cf_over_1-sigma\"] = np.exp(df[\"delta_cf\"]/(1-sigma))\n",
    "\n",
    "\n",
    "#calculate counterfactual market share\n",
    "\n",
    "l=[]\n",
    "for i in (0,1,2):\n",
    "    \n",
    "    data = df[df[\"Market\"]==df[\"Market\"].unique()[i]]\n",
    "    D_g = data.groupby([\"month\",\"year\",\"Class Group\"])[\"exp_delta_cf_over_1-sigma\"].sum().reset_index().rename(columns={\"exp_delta_cf_over_1-sigma\":\"D_g_cf\"})\n",
    "    D_g[\"D_g_1-sigma_cf\"] = D_g[\"D_g_cf\"]**(1-sigma)\n",
    "    D_g[\"D_g_sigma_cf\"] = D_g[\"D_g_cf\"]**(sigma)\n",
    "    D_g_sum = D_g.groupby([\"month\",\"year\"])[\"D_g_1-sigma_cf\"].sum().reset_index().rename(columns={\"D_g_1-sigma_cf\":\"D_g_sum_cf\"})\n",
    "    df_temp = data.merge(D_g, on=[\"month\",\"year\",\"Class Group\"], how=\"left\").\\\n",
    "         merge(D_g_sum, on=[\"month\",\"year\"], how=\"left\")\n",
    "    l.append(df_temp)\n",
    "\n",
    "df_data = pd.concat(l,axis=0) \n"
   ]
  },
  {
   "cell_type": "code",
   "execution_count": 1034,
   "id": "df57bc68",
   "metadata": {},
   "outputs": [],
   "source": [
    "# calculate walfare\n",
    "df_data[\"market_share_cf_delta_diff\"] = df_data[\"market_share_cf\"]*(rating_param*(df_data[\"Rating\"] - df_data[\"exante_rating\"])+alpha*(df_data[\"ADR\"]-df_data[\"price_without_review\"]))\n",
    "#df_data[\"market_share_cf_delta_diff\"] = df_data[\"market_share_cf\"]*(df_data[\"quality\"] - df_data[\"quality_without_review_fixed_price\"])\n",
    "\n",
    "\n",
    "l=[]\n",
    "for i in (0,1,2):\n",
    "    \n",
    "    data = df_data[df_data[\"Market\"]==df[\"Market\"].unique()[i]]\n",
    "    diff = data.groupby([\"month\",\"year\"])[\"market_share_cf_delta_diff\"].sum().reset_index().rename(columns={\"market_share_cf_delta_diff\":\"diff_term\"})\n",
    "    temp = data.merge(diff,on=[\"month\",\"year\"], how=\"left\")\n",
    "    l.append(temp)\n",
    "    \n",
    "df_3 = pd.concat(l,axis=0)\n",
    "    "
   ]
  },
  {
   "cell_type": "code",
   "execution_count": 1035,
   "id": "1c8feff5",
   "metadata": {},
   "outputs": [],
   "source": [
    "df_cs = df_3[[\"Market\",\"year\",\"month\",\"Market Monthly Supply\",\"D_g_sum\",\"D_g_sum_cf\",\"diff_term\"]].drop_duplicates()\n",
    "\n",
    "df_cs[\"cs\"] = (np.log(1+df_cs[\"D_g_sum\"]) - np.log(1+df_cs[\"D_g_sum_cf\"])-df_cs[\"diff_term\"])/alpha"
   ]
  },
  {
   "cell_type": "code",
   "execution_count": 1036,
   "id": "5647d82a",
   "metadata": {},
   "outputs": [
    {
     "data": {
      "text/html": [
       "<div>\n",
       "<style scoped>\n",
       "    .dataframe tbody tr th:only-of-type {\n",
       "        vertical-align: middle;\n",
       "    }\n",
       "\n",
       "    .dataframe tbody tr th {\n",
       "        vertical-align: top;\n",
       "    }\n",
       "\n",
       "    .dataframe thead th {\n",
       "        text-align: right;\n",
       "    }\n",
       "</style>\n",
       "<table border=\"1\" class=\"dataframe\">\n",
       "  <thead>\n",
       "    <tr style=\"text-align: right;\">\n",
       "      <th></th>\n",
       "      <th>Market</th>\n",
       "      <th>market_size</th>\n",
       "      <th>max_cs</th>\n",
       "      <th>min_cs</th>\n",
       "      <th>mean_cs</th>\n",
       "      <th>total_cs</th>\n",
       "    </tr>\n",
       "  </thead>\n",
       "  <tbody>\n",
       "    <tr>\n",
       "      <th>0</th>\n",
       "      <td>Chicago, IL</td>\n",
       "      <td>1210161.0</td>\n",
       "      <td>-0.736853</td>\n",
       "      <td>-63.337502</td>\n",
       "      <td>-10.944935</td>\n",
       "      <td>-1.324513e+07</td>\n",
       "    </tr>\n",
       "    <tr>\n",
       "      <th>1</th>\n",
       "      <td>Houston, TX</td>\n",
       "      <td>1436018.0</td>\n",
       "      <td>-0.348396</td>\n",
       "      <td>-45.552293</td>\n",
       "      <td>-3.999360</td>\n",
       "      <td>-5.743153e+06</td>\n",
       "    </tr>\n",
       "    <tr>\n",
       "      <th>2</th>\n",
       "      <td>Miami/Hialeah, FL</td>\n",
       "      <td>325922.6</td>\n",
       "      <td>-0.409539</td>\n",
       "      <td>-118.124400</td>\n",
       "      <td>-23.335251</td>\n",
       "      <td>-7.605486e+06</td>\n",
       "    </tr>\n",
       "  </tbody>\n",
       "</table>\n",
       "</div>"
      ],
      "text/plain": [
       "              Market  market_size    max_cs      min_cs    mean_cs  \\\n",
       "0        Chicago, IL    1210161.0 -0.736853  -63.337502 -10.944935   \n",
       "1        Houston, TX    1436018.0 -0.348396  -45.552293  -3.999360   \n",
       "2  Miami/Hialeah, FL     325922.6 -0.409539 -118.124400 -23.335251   \n",
       "\n",
       "       total_cs  \n",
       "0 -1.324513e+07  \n",
       "1 -5.743153e+06  \n",
       "2 -7.605486e+06  "
      ]
     },
     "execution_count": 1036,
     "metadata": {},
     "output_type": "execute_result"
    }
   ],
   "source": [
    "market_size = df_cs.groupby(\"Market\")[\"Market Monthly Supply\"].max().reset_index().rename(columns={\"Market Monthly Supply\":\"market_size\"})\n",
    "max_cs = df_cs.groupby(\"Market\")[\"cs\"].max().reset_index().rename(columns={\"cs\":\"max_cs\"})\n",
    "min_cs = df_cs.groupby(\"Market\")[\"cs\"].min().reset_index().rename(columns={\"cs\":\"min_cs\"})\n",
    "mean_cs = df_cs.groupby(\"Market\")[\"cs\"].mean().reset_index().rename(columns={\"cs\":\"mean_cs\"})\n",
    "\n",
    "cs = market_size.merge(max_cs, on=\"Market\").merge(min_cs, on=\"Market\").merge(mean_cs,on=\"Market\")\n",
    "cs[\"total_cs\"] = cs[\"market_size\"]*cs[\"mean_cs\"]\n",
    "cs"
   ]
  },
  {
   "cell_type": "code",
   "execution_count": 1039,
   "id": "2793adf6",
   "metadata": {},
   "outputs": [
    {
     "data": {
      "text/html": [
       "<div>\n",
       "<style scoped>\n",
       "    .dataframe tbody tr th:only-of-type {\n",
       "        vertical-align: middle;\n",
       "    }\n",
       "\n",
       "    .dataframe tbody tr th {\n",
       "        vertical-align: top;\n",
       "    }\n",
       "\n",
       "    .dataframe thead th {\n",
       "        text-align: right;\n",
       "    }\n",
       "</style>\n",
       "<table border=\"1\" class=\"dataframe\">\n",
       "  <thead>\n",
       "    <tr style=\"text-align: right;\">\n",
       "      <th></th>\n",
       "      <th>Operation</th>\n",
       "      <th>count</th>\n",
       "      <th>mean</th>\n",
       "      <th>std</th>\n",
       "      <th>min</th>\n",
       "      <th>25%</th>\n",
       "      <th>50%</th>\n",
       "      <th>75%</th>\n",
       "      <th>max</th>\n",
       "    </tr>\n",
       "  </thead>\n",
       "  <tbody>\n",
       "    <tr>\n",
       "      <th>0</th>\n",
       "      <td>1</td>\n",
       "      <td>23624.0</td>\n",
       "      <td>-0.052123</td>\n",
       "      <td>0.299527</td>\n",
       "      <td>-0.999999</td>\n",
       "      <td>-0.213350</td>\n",
       "      <td>-0.041102</td>\n",
       "      <td>0.108720</td>\n",
       "      <td>6.036252</td>\n",
       "    </tr>\n",
       "    <tr>\n",
       "      <th>1</th>\n",
       "      <td>2</td>\n",
       "      <td>39990.0</td>\n",
       "      <td>-0.037016</td>\n",
       "      <td>0.304679</td>\n",
       "      <td>-0.999154</td>\n",
       "      <td>-0.230517</td>\n",
       "      <td>-0.049853</td>\n",
       "      <td>0.136260</td>\n",
       "      <td>4.317324</td>\n",
       "    </tr>\n",
       "    <tr>\n",
       "      <th>2</th>\n",
       "      <td>3</td>\n",
       "      <td>9904.0</td>\n",
       "      <td>-0.146156</td>\n",
       "      <td>0.516816</td>\n",
       "      <td>-1.000000</td>\n",
       "      <td>-0.463609</td>\n",
       "      <td>-0.177234</td>\n",
       "      <td>0.132188</td>\n",
       "      <td>8.185185</td>\n",
       "    </tr>\n",
       "  </tbody>\n",
       "</table>\n",
       "</div>"
      ],
      "text/plain": [
       "   Operation    count      mean       std       min       25%       50%  \\\n",
       "0          1  23624.0 -0.052123  0.299527 -0.999999 -0.213350 -0.041102   \n",
       "1          2  39990.0 -0.037016  0.304679 -0.999154 -0.230517 -0.049853   \n",
       "2          3   9904.0 -0.146156  0.516816 -1.000000 -0.463609 -0.177234   \n",
       "\n",
       "        75%       max  \n",
       "0  0.108720  6.036252  \n",
       "1  0.136260  4.317324  \n",
       "2  0.132188  8.185185  "
      ]
     },
     "execution_count": 1039,
     "metadata": {},
     "output_type": "execute_result"
    }
   ],
   "source": [
    "df_3[\"market_share_percent_diff\"] = (df_3[\"market_share_cf\"] - df_3[\"market_share\"])/df_3[\"market_share\"]\n",
    "df_3.groupby([\"Operation\"])[\"market_share_percent_diff\"].describe().reset_index()"
   ]
  },
  {
   "cell_type": "code",
   "execution_count": 1041,
   "id": "72abc7fd",
   "metadata": {
    "scrolled": true
   },
   "outputs": [
    {
     "data": {
      "text/html": [
       "<div>\n",
       "<style scoped>\n",
       "    .dataframe tbody tr th:only-of-type {\n",
       "        vertical-align: middle;\n",
       "    }\n",
       "\n",
       "    .dataframe tbody tr th {\n",
       "        vertical-align: top;\n",
       "    }\n",
       "\n",
       "    .dataframe thead th {\n",
       "        text-align: right;\n",
       "    }\n",
       "</style>\n",
       "<table border=\"1\" class=\"dataframe\">\n",
       "  <thead>\n",
       "    <tr style=\"text-align: right;\">\n",
       "      <th></th>\n",
       "      <th>Operation</th>\n",
       "      <th>revenue_percent_diff</th>\n",
       "    </tr>\n",
       "  </thead>\n",
       "  <tbody>\n",
       "    <tr>\n",
       "      <th>0</th>\n",
       "      <td>1</td>\n",
       "      <td>-0.033590</td>\n",
       "    </tr>\n",
       "    <tr>\n",
       "      <th>1</th>\n",
       "      <td>2</td>\n",
       "      <td>-0.052114</td>\n",
       "    </tr>\n",
       "    <tr>\n",
       "      <th>2</th>\n",
       "      <td>3</td>\n",
       "      <td>-0.161139</td>\n",
       "    </tr>\n",
       "  </tbody>\n",
       "</table>\n",
       "</div>"
      ],
      "text/plain": [
       "   Operation  revenue_percent_diff\n",
       "0          1             -0.033590\n",
       "1          2             -0.052114\n",
       "2          3             -0.161139"
      ]
     },
     "execution_count": 1041,
     "metadata": {},
     "output_type": "execute_result"
    }
   ],
   "source": [
    "df_3[\"Revenue_cf\"] = df_3[\"market_share_cf\"]*df_3[\"market_size\"]*df_3[\"price_without_review\"]\n",
    "df_3[\"revenue_percent_diff\"] = (df_3[\"Revenue_cf\"] - df_3[\"Revenue\"])/df_3[\"Revenue\"]\n",
    "df_3.groupby(\"Operation\")[\"revenue_percent_diff\"].median().reset_index()"
   ]
  },
  {
   "cell_type": "code",
   "execution_count": 1042,
   "id": "34311e7c",
   "metadata": {},
   "outputs": [
    {
     "data": {
      "text/plain": [
       "rating_int\n",
       "0.0   -0.016938\n",
       "1.0    0.052161\n",
       "2.0    0.010917\n",
       "3.0   -0.049015\n",
       "4.0   -0.086339\n",
       "5.0   -0.111864\n",
       "Name: market_share_percent_diff, dtype: float64"
      ]
     },
     "execution_count": 1042,
     "metadata": {},
     "output_type": "execute_result"
    }
   ],
   "source": [
    "df_3[\"rating_int\"] = df_3[\"accum_rating\"].round(0)\n",
    "df_3.groupby([\"rating_int\"])[\"market_share_percent_diff\"].mean()"
   ]
  },
  {
   "cell_type": "code",
   "execution_count": 1043,
   "id": "024568e5",
   "metadata": {},
   "outputs": [
    {
     "data": {
      "text/plain": [
       "rating_int\n",
       "0.0   -0.039104\n",
       "1.0    0.056196\n",
       "2.0   -0.020128\n",
       "3.0   -0.072740\n",
       "4.0   -0.114522\n",
       "5.0   -0.140224\n",
       "Name: revenue_percent_diff, dtype: float64"
      ]
     },
     "execution_count": 1043,
     "metadata": {},
     "output_type": "execute_result"
    }
   ],
   "source": [
    "df_3.groupby([\"rating_int\"])[\"revenue_percent_diff\"].mean()"
   ]
  },
  {
   "cell_type": "code",
   "execution_count": null,
   "id": "e82c2d32",
   "metadata": {},
   "outputs": [],
   "source": []
  }
 ],
 "metadata": {
  "kernelspec": {
   "display_name": "Python 3 (ipykernel)",
   "language": "python",
   "name": "python3"
  },
  "language_info": {
   "codemirror_mode": {
    "name": "ipython",
    "version": 3
   },
   "file_extension": ".py",
   "mimetype": "text/x-python",
   "name": "python",
   "nbconvert_exporter": "python",
   "pygments_lexer": "ipython3",
   "version": "3.7.13"
  },
  "toc": {
   "base_numbering": 1,
   "nav_menu": {},
   "number_sections": true,
   "sideBar": true,
   "skip_h1_title": false,
   "title_cell": "Table of Contents",
   "title_sidebar": "Contents",
   "toc_cell": false,
   "toc_position": {},
   "toc_section_display": true,
   "toc_window_display": true
  }
 },
 "nbformat": 4,
 "nbformat_minor": 5
}
