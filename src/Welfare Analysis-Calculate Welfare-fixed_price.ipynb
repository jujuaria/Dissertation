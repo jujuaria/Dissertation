{
 "cells": [
  {
   "cell_type": "code",
   "execution_count": 2,
   "id": "30926bac",
   "metadata": {},
   "outputs": [],
   "source": [
    "import pandas as pd\n",
    "import numpy as np\n",
    "import os\n",
    "import matplotlib.pyplot as plt\n",
    "import statsmodels.api as sm\n",
    "import statsmodels\n",
    "from sklearn.preprocessing import OneHotEncoder\n",
    "from sklearn import preprocessing\n",
    "import seaborn as sns\n",
    "from scipy import optimize\n",
    "import time\n",
    "import functools\n",
    "from multiprocessing import Pool\n",
    "#from cyipopt import minimize_ipopt\n",
    "from numpy.polynomial.polynomial import polyfit\n",
    "import matplotlib.pyplot as plt\n",
    "import random\n",
    "\n",
    "import warnings\n",
    "warnings.filterwarnings(\"ignore\")\n",
    "\n",
    "random.seed(10)\n"
   ]
  },
  {
   "cell_type": "code",
   "execution_count": 3,
   "id": "41ead0db",
   "metadata": {},
   "outputs": [],
   "source": [
    "input_dir = r\"/Users/juju/Library/Mobile Documents/com~apple~CloudDocs/ta_project/output/welfare/fixed_price\"\n",
    "input_dir_eq = r\"/Users/juju/Library/Mobile Documents/com~apple~CloudDocs/ta_project/src\""
   ]
  },
  {
   "cell_type": "code",
   "execution_count": 4,
   "id": "b1ac145e",
   "metadata": {},
   "outputs": [],
   "source": [
    "data = pd.read_csv(os.path.join(input_dir,r\"welfare_fixed_price_result_const_new.csv\"))\n",
    "\n",
    "data_eq = pd.read_csv(os.path.join(input_dir_eq,r\"df_ne.csv\"))"
   ]
  },
  {
   "cell_type": "code",
   "execution_count": 5,
   "id": "7f5b2920",
   "metadata": {},
   "outputs": [
    {
     "data": {
      "text/plain": [
       "['index',\n",
       " 'post_month',\n",
       " 'shareid',\n",
       " 'year_month',\n",
       " 'Supply',\n",
       " 'Demand',\n",
       " 'Revenue',\n",
       " 'Occ',\n",
       " 'ADR',\n",
       " 'RevPAR',\n",
       " 'Country',\n",
       " 'Market',\n",
       " 'Chain',\n",
       " 'Owner',\n",
       " 'Mgmt',\n",
       " 'ParentCompany',\n",
       " 'Operation',\n",
       " 'Scale',\n",
       " 'Class',\n",
       " 'Location',\n",
       " 'OpenDate',\n",
       " 'SizeCode',\n",
       " 'max_str_month',\n",
       " 'max_review_month',\n",
       " 'min_review_month',\n",
       " 'on_ta',\n",
       " 'monthly_rating_mean',\n",
       " 'monthly_review_count',\n",
       " 'monthly_one_star_count',\n",
       " 'monthly_two_star_count',\n",
       " 'monthly_three_star_count',\n",
       " 'monthly_four_star_count',\n",
       " 'monthly_five_star_count',\n",
       " 'monthly_hotel_response_count',\n",
       " 'monthly_partnership_reviews_count',\n",
       " 'cleanliness_count',\n",
       " 'cleanliness_mean',\n",
       " 'location_count',\n",
       " 'location_mean',\n",
       " 'sleep_quality_count',\n",
       " 'sleep_quality_mean',\n",
       " 'room_quality_count',\n",
       " 'room_quality_mean',\n",
       " 'service_count',\n",
       " 'service_mean',\n",
       " 'value_count',\n",
       " 'value_mean',\n",
       " 'renovate',\n",
       " 'solo_count',\n",
       " 'couple_count',\n",
       " 'family_count',\n",
       " 'business_count',\n",
       " 'month_with_reviews',\n",
       " 'num_of_reviews',\n",
       " 'total_one_star',\n",
       " 'total_two_star',\n",
       " 'total_three_star',\n",
       " 'total_four_star',\n",
       " 'total_five_star',\n",
       " 'accum_rating',\n",
       " 'total_one_star_%',\n",
       " 'total_two_star_%',\n",
       " 'total_three_star_%',\n",
       " 'total_four_star_%',\n",
       " 'total_five_star_%',\n",
       " 'is_reviewed',\n",
       " 'ln_revenue',\n",
       " 'ln_revpar',\n",
       " 'ln_accum_rating',\n",
       " 'ln_num_of_reviews',\n",
       " 'ln_revenue_next_1m',\n",
       " 'ln_revpar_next_1m',\n",
       " 'ln_revenue_next_2m',\n",
       " 'ln_revpar_next_2m',\n",
       " 'ln_revenue_next_3m',\n",
       " 'ln_revpar_next_3m',\n",
       " 'ln_revenue_next_4m',\n",
       " 'ln_revpar_next_4m',\n",
       " 'ln_revenue_next_5m',\n",
       " 'ln_revpar_next_5m',\n",
       " 'ln_revenue_next_6m',\n",
       " 'ln_revpar_next_6m',\n",
       " 'ln_revenue_next_3m_avg',\n",
       " 'ln_revpar_next_3m_avg',\n",
       " 'ln_revenue_next_6m_avg',\n",
       " 'ln_revpar_next_6m_avg',\n",
       " 'year',\n",
       " 'month',\n",
       " 'displayed_rating',\n",
       " 'round_up',\n",
       " 'Class Group',\n",
       " 'hotel_age',\n",
       " 'high_season',\n",
       " 'alpha',\n",
       " 'avg_price',\n",
       " 'avg_demand',\n",
       " 'price_elasticity',\n",
       " 'Group Monthly Demand',\n",
       " 'hotel_count_in_group_chain',\n",
       " 'hotel_count_in_group_franchised',\n",
       " 'hotel_count_in_group_independent',\n",
       " '1_size',\n",
       " '2_size',\n",
       " '3_size',\n",
       " '4_size',\n",
       " '5_size',\n",
       " 'Group Avg Age',\n",
       " 'Market Monthly Supply',\n",
       " 'Market Monthly Demand',\n",
       " 'hotel_count_in_market',\n",
       " 'market_share',\n",
       " 'group_share',\n",
       " 's_0',\n",
       " 'ln_group_share',\n",
       " 'quality',\n",
       " 'Rating',\n",
       " 'ReviewCount_Reviewed',\n",
       " 'Rating_ReviewCount_Reviewed',\n",
       " 'market_year_month',\n",
       " 'ln_ADR',\n",
       " 'quality_hat',\n",
       " 'exante_rating_baseline',\n",
       " 'exante_rating_random',\n",
       " 'exante_rating_obs',\n",
       " 'exante_rating_const',\n",
       " 'exante_rating',\n",
       " 'market_size',\n",
       " 'max_group_price',\n",
       " 'mc_t',\n",
       " 'q_upper',\n",
       " 'excess_demand',\n",
       " 'max_supply_year',\n",
       " 'capacity',\n",
       " 'class_group_capacity',\n",
       " 'competitor_capacity',\n",
       " 'hotel_fixed_effect_id',\n",
       " 'market_time_fixed_effect_id',\n",
       " 'hotel_fixed_effect',\n",
       " 'market_time_fixed_effect',\n",
       " 'price_ne',\n",
       " 'delta',\n",
       " 'delta_ne',\n",
       " 'D_g_sum_ne',\n",
       " 'market_share_ne',\n",
       " 'demand_ne',\n",
       " 'group_share_ne',\n",
       " 'market_share_sum_ne',\n",
       " 's_0_ne']"
      ]
     },
     "execution_count": 5,
     "metadata": {},
     "output_type": "execute_result"
    }
   ],
   "source": [
    "list(data_eq.columns)"
   ]
  },
  {
   "cell_type": "code",
   "execution_count": 8,
   "id": "cb9d11af",
   "metadata": {},
   "outputs": [
    {
     "data": {
      "text/plain": [
       "65054.53479452054"
      ]
     },
     "execution_count": 8,
     "metadata": {},
     "output_type": "execute_result"
    }
   ],
   "source": [
    "data[\"Supply\"].sum()"
   ]
  },
  {
   "cell_type": "code",
   "execution_count": 90,
   "id": "e6c37967",
   "metadata": {},
   "outputs": [],
   "source": [
    "\n",
    "alpha = -0.012\n",
    "sigma = 0.5396\n",
    "rating_param = 0.073\n",
    "\n",
    "occ_upper= 88\n"
   ]
  },
  {
   "cell_type": "code",
   "execution_count": 91,
   "id": "6dbd1cba",
   "metadata": {},
   "outputs": [],
   "source": [
    "\n",
    "data = data.merge(data_eq[[\"q_upper\",\"hotel_fixed_effect\",\"market_time_fixed_effect\",\\\n",
    "                          \"shareid\",\"year\",\"month\",\"max_group_price\",\"market_size\"]], on=[\"shareid\",\"year\",\"month\"])\n"
   ]
  },
  {
   "cell_type": "code",
   "execution_count": 92,
   "id": "aa3e5a99",
   "metadata": {},
   "outputs": [],
   "source": [
    "supply_max = data.groupby([\"shareid\",\"year\"])[\"Supply\"].max().reset_index().rename(columns={\"Supply\":\"max_supply_year\"})\n",
    "data= data.merge(supply_max, on=[\"shareid\",\"year\"], how=\"left\")\n",
    "data[\"capacity\"] = data[\"max_supply_year\"]/30"
   ]
  },
  {
   "cell_type": "markdown",
   "id": "976af9df",
   "metadata": {},
   "source": [
    "# Calculate marginal cost and total cost"
   ]
  },
  {
   "cell_type": "code",
   "execution_count": 93,
   "id": "5f41588d",
   "metadata": {},
   "outputs": [],
   "source": [
    "data_lower = data[data[\"Demand\"]<=data[\"q_upper\"]]\n",
    "\n",
    "data_upper = data[data[\"Demand\"]>data[\"q_upper\"]]\n",
    "\n",
    "data_lower[\"excess_demand\"] = 0\n",
    "data_lower[\"cost_ne\"] = (192.39814102368837+data_lower[\"hotel_fixed_effect\"]+data_lower[\"market_time_fixed_effect\"])*\\\n",
    "                           data_lower[\"Demand\"]\n",
    "data_upper[\"excess_demand\"] = data_upper[\"Demand\"]-data_upper[\"q_upper\"]\n",
    "data_upper[\"cost_ne\"] = (192.39814102368837+data_upper[\"hotel_fixed_effect\"]+data_upper[\"market_time_fixed_effect\"])*\\\n",
    "                           data_upper[\"q_upper\"]+0.5*0.043841100663268406*(data_upper[\"excess_demand\"]**2)\n",
    "\n",
    "\n",
    "data= pd.concat([data_lower,data_upper],axis=0)\n",
    "\n",
    "data = data.fillna(0)\n",
    "\n"
   ]
  },
  {
   "cell_type": "code",
   "execution_count": 94,
   "id": "78fea74e",
   "metadata": {},
   "outputs": [
    {
     "data": {
      "text/html": [
       "<div>\n",
       "<style scoped>\n",
       "    .dataframe tbody tr th:only-of-type {\n",
       "        vertical-align: middle;\n",
       "    }\n",
       "\n",
       "    .dataframe tbody tr th {\n",
       "        vertical-align: top;\n",
       "    }\n",
       "\n",
       "    .dataframe thead th {\n",
       "        text-align: right;\n",
       "    }\n",
       "</style>\n",
       "<table border=\"1\" class=\"dataframe\">\n",
       "  <thead>\n",
       "    <tr style=\"text-align: right;\">\n",
       "      <th></th>\n",
       "      <th>level_0</th>\n",
       "      <th>index</th>\n",
       "      <th>post_month</th>\n",
       "      <th>shareid</th>\n",
       "      <th>year_month</th>\n",
       "      <th>Supply</th>\n",
       "      <th>Demand</th>\n",
       "      <th>Revenue</th>\n",
       "      <th>Occ</th>\n",
       "      <th>ADR</th>\n",
       "      <th>...</th>\n",
       "      <th>D_g_sum</th>\n",
       "      <th>q_upper</th>\n",
       "      <th>hotel_fixed_effect</th>\n",
       "      <th>market_time_fixed_effect</th>\n",
       "      <th>max_group_price</th>\n",
       "      <th>market_size</th>\n",
       "      <th>max_supply_year</th>\n",
       "      <th>capacity</th>\n",
       "      <th>excess_demand</th>\n",
       "      <th>cost_ne</th>\n",
       "    </tr>\n",
       "  </thead>\n",
       "  <tbody>\n",
       "    <tr>\n",
       "      <th>0</th>\n",
       "      <td>0</td>\n",
       "      <td>0</td>\n",
       "      <td>2016-08</td>\n",
       "      <td>75909</td>\n",
       "      <td>2016-08-01</td>\n",
       "      <td>2170.0</td>\n",
       "      <td>1464.0</td>\n",
       "      <td>209160.0</td>\n",
       "      <td>67.4654</td>\n",
       "      <td>142.868852</td>\n",
       "      <td>...</td>\n",
       "      <td>2.542960</td>\n",
       "      <td>1909.60</td>\n",
       "      <td>0.000000</td>\n",
       "      <td>-119.170953</td>\n",
       "      <td>142.868852</td>\n",
       "      <td>325922.6</td>\n",
       "      <td>2170.0</td>\n",
       "      <td>72.333333</td>\n",
       "      <td>0.0</td>\n",
       "      <td>1.072046e+05</td>\n",
       "    </tr>\n",
       "    <tr>\n",
       "      <th>1</th>\n",
       "      <td>1</td>\n",
       "      <td>1</td>\n",
       "      <td>2016-09</td>\n",
       "      <td>75909</td>\n",
       "      <td>2016-09-01</td>\n",
       "      <td>2100.0</td>\n",
       "      <td>700.0</td>\n",
       "      <td>75000.0</td>\n",
       "      <td>33.3333</td>\n",
       "      <td>107.142857</td>\n",
       "      <td>...</td>\n",
       "      <td>1.565520</td>\n",
       "      <td>1848.00</td>\n",
       "      <td>0.000000</td>\n",
       "      <td>-126.749510</td>\n",
       "      <td>148.049200</td>\n",
       "      <td>325922.6</td>\n",
       "      <td>2170.0</td>\n",
       "      <td>72.333333</td>\n",
       "      <td>0.0</td>\n",
       "      <td>4.595404e+04</td>\n",
       "    </tr>\n",
       "    <tr>\n",
       "      <th>2</th>\n",
       "      <td>2</td>\n",
       "      <td>2</td>\n",
       "      <td>2016-10</td>\n",
       "      <td>75909</td>\n",
       "      <td>2016-10-01</td>\n",
       "      <td>2170.0</td>\n",
       "      <td>1123.0</td>\n",
       "      <td>123965.0</td>\n",
       "      <td>51.7511</td>\n",
       "      <td>110.387355</td>\n",
       "      <td>...</td>\n",
       "      <td>1.649075</td>\n",
       "      <td>1909.60</td>\n",
       "      <td>0.000000</td>\n",
       "      <td>-103.913689</td>\n",
       "      <td>162.612529</td>\n",
       "      <td>325922.6</td>\n",
       "      <td>2170.0</td>\n",
       "      <td>72.333333</td>\n",
       "      <td>0.0</td>\n",
       "      <td>9.936804e+04</td>\n",
       "    </tr>\n",
       "    <tr>\n",
       "      <th>3</th>\n",
       "      <td>3</td>\n",
       "      <td>3</td>\n",
       "      <td>2016-11</td>\n",
       "      <td>75909</td>\n",
       "      <td>2016-11-01</td>\n",
       "      <td>1956.0</td>\n",
       "      <td>1282.0</td>\n",
       "      <td>201327.0</td>\n",
       "      <td>65.5419</td>\n",
       "      <td>157.041342</td>\n",
       "      <td>...</td>\n",
       "      <td>2.067547</td>\n",
       "      <td>1721.28</td>\n",
       "      <td>0.000000</td>\n",
       "      <td>-74.653972</td>\n",
       "      <td>166.673548</td>\n",
       "      <td>325922.6</td>\n",
       "      <td>2170.0</td>\n",
       "      <td>72.333333</td>\n",
       "      <td>0.0</td>\n",
       "      <td>1.509480e+05</td>\n",
       "    </tr>\n",
       "    <tr>\n",
       "      <th>4</th>\n",
       "      <td>4</td>\n",
       "      <td>4</td>\n",
       "      <td>2016-12</td>\n",
       "      <td>75909</td>\n",
       "      <td>2016-12-01</td>\n",
       "      <td>2003.0</td>\n",
       "      <td>1020.0</td>\n",
       "      <td>199453.0</td>\n",
       "      <td>50.9236</td>\n",
       "      <td>195.542157</td>\n",
       "      <td>...</td>\n",
       "      <td>2.220051</td>\n",
       "      <td>1762.64</td>\n",
       "      <td>0.000000</td>\n",
       "      <td>13.083626</td>\n",
       "      <td>212.543127</td>\n",
       "      <td>325922.6</td>\n",
       "      <td>2170.0</td>\n",
       "      <td>72.333333</td>\n",
       "      <td>0.0</td>\n",
       "      <td>2.095914e+05</td>\n",
       "    </tr>\n",
       "    <tr>\n",
       "      <th>...</th>\n",
       "      <td>...</td>\n",
       "      <td>...</td>\n",
       "      <td>...</td>\n",
       "      <td>...</td>\n",
       "      <td>...</td>\n",
       "      <td>...</td>\n",
       "      <td>...</td>\n",
       "      <td>...</td>\n",
       "      <td>...</td>\n",
       "      <td>...</td>\n",
       "      <td>...</td>\n",
       "      <td>...</td>\n",
       "      <td>...</td>\n",
       "      <td>...</td>\n",
       "      <td>...</td>\n",
       "      <td>...</td>\n",
       "      <td>...</td>\n",
       "      <td>...</td>\n",
       "      <td>...</td>\n",
       "      <td>...</td>\n",
       "      <td>...</td>\n",
       "    </tr>\n",
       "    <tr>\n",
       "      <th>5588</th>\n",
       "      <td>73087</td>\n",
       "      <td>17671</td>\n",
       "      <td>2016-06</td>\n",
       "      <td>9990853</td>\n",
       "      <td>2016-06-01</td>\n",
       "      <td>12450.0</td>\n",
       "      <td>11596.0</td>\n",
       "      <td>3328976.0</td>\n",
       "      <td>93.1405</td>\n",
       "      <td>287.079683</td>\n",
       "      <td>...</td>\n",
       "      <td>5.716251</td>\n",
       "      <td>10956.00</td>\n",
       "      <td>-95.081347</td>\n",
       "      <td>100.209591</td>\n",
       "      <td>514.487154</td>\n",
       "      <td>1210161.0</td>\n",
       "      <td>12865.0</td>\n",
       "      <td>428.833333</td>\n",
       "      <td>640.0</td>\n",
       "      <td>2.173078e+06</td>\n",
       "    </tr>\n",
       "    <tr>\n",
       "      <th>5589</th>\n",
       "      <td>73088</td>\n",
       "      <td>17672</td>\n",
       "      <td>2016-07</td>\n",
       "      <td>9990853</td>\n",
       "      <td>2016-07-01</td>\n",
       "      <td>12865.0</td>\n",
       "      <td>11963.0</td>\n",
       "      <td>2738027.0</td>\n",
       "      <td>92.9887</td>\n",
       "      <td>228.874613</td>\n",
       "      <td>...</td>\n",
       "      <td>6.719439</td>\n",
       "      <td>11321.20</td>\n",
       "      <td>-95.081347</td>\n",
       "      <td>69.794834</td>\n",
       "      <td>460.997903</td>\n",
       "      <td>1210161.0</td>\n",
       "      <td>12865.0</td>\n",
       "      <td>428.833333</td>\n",
       "      <td>641.8</td>\n",
       "      <td>1.900933e+06</td>\n",
       "    </tr>\n",
       "    <tr>\n",
       "      <th>5590</th>\n",
       "      <td>73089</td>\n",
       "      <td>17673</td>\n",
       "      <td>2016-08</td>\n",
       "      <td>9990853</td>\n",
       "      <td>2016-08-01</td>\n",
       "      <td>12865.0</td>\n",
       "      <td>11545.0</td>\n",
       "      <td>2432220.0</td>\n",
       "      <td>89.7396</td>\n",
       "      <td>210.673019</td>\n",
       "      <td>...</td>\n",
       "      <td>4.997755</td>\n",
       "      <td>11321.20</td>\n",
       "      <td>-95.081347</td>\n",
       "      <td>57.166410</td>\n",
       "      <td>433.492404</td>\n",
       "      <td>1210161.0</td>\n",
       "      <td>12865.0</td>\n",
       "      <td>428.833333</td>\n",
       "      <td>223.8</td>\n",
       "      <td>1.750033e+06</td>\n",
       "    </tr>\n",
       "    <tr>\n",
       "      <th>5591</th>\n",
       "      <td>73090</td>\n",
       "      <td>17674</td>\n",
       "      <td>2016-09</td>\n",
       "      <td>9990853</td>\n",
       "      <td>2016-09-01</td>\n",
       "      <td>12450.0</td>\n",
       "      <td>11283.0</td>\n",
       "      <td>2880734.0</td>\n",
       "      <td>90.6265</td>\n",
       "      <td>255.316317</td>\n",
       "      <td>...</td>\n",
       "      <td>4.827411</td>\n",
       "      <td>10956.00</td>\n",
       "      <td>-95.081347</td>\n",
       "      <td>96.538286</td>\n",
       "      <td>503.537241</td>\n",
       "      <td>1210161.0</td>\n",
       "      <td>12865.0</td>\n",
       "      <td>428.833333</td>\n",
       "      <td>327.0</td>\n",
       "      <td>2.126220e+06</td>\n",
       "    </tr>\n",
       "    <tr>\n",
       "      <th>5592</th>\n",
       "      <td>73091</td>\n",
       "      <td>17675</td>\n",
       "      <td>2016-10</td>\n",
       "      <td>9990853</td>\n",
       "      <td>2016-10-01</td>\n",
       "      <td>12865.0</td>\n",
       "      <td>12529.0</td>\n",
       "      <td>3048074.0</td>\n",
       "      <td>97.3882</td>\n",
       "      <td>243.281507</td>\n",
       "      <td>...</td>\n",
       "      <td>5.620897</td>\n",
       "      <td>11321.20</td>\n",
       "      <td>-95.081347</td>\n",
       "      <td>101.408458</td>\n",
       "      <td>518.428249</td>\n",
       "      <td>1210161.0</td>\n",
       "      <td>12865.0</td>\n",
       "      <td>428.833333</td>\n",
       "      <td>1207.8</td>\n",
       "      <td>2.281786e+06</td>\n",
       "    </tr>\n",
       "  </tbody>\n",
       "</table>\n",
       "<p>5597 rows × 157 columns</p>\n",
       "</div>"
      ],
      "text/plain": [
       "      level_0  index post_month  shareid  year_month   Supply   Demand  \\\n",
       "0           0      0    2016-08    75909  2016-08-01   2170.0   1464.0   \n",
       "1           1      1    2016-09    75909  2016-09-01   2100.0    700.0   \n",
       "2           2      2    2016-10    75909  2016-10-01   2170.0   1123.0   \n",
       "3           3      3    2016-11    75909  2016-11-01   1956.0   1282.0   \n",
       "4           4      4    2016-12    75909  2016-12-01   2003.0   1020.0   \n",
       "...       ...    ...        ...      ...         ...      ...      ...   \n",
       "5588    73087  17671    2016-06  9990853  2016-06-01  12450.0  11596.0   \n",
       "5589    73088  17672    2016-07  9990853  2016-07-01  12865.0  11963.0   \n",
       "5590    73089  17673    2016-08  9990853  2016-08-01  12865.0  11545.0   \n",
       "5591    73090  17674    2016-09  9990853  2016-09-01  12450.0  11283.0   \n",
       "5592    73091  17675    2016-10  9990853  2016-10-01  12865.0  12529.0   \n",
       "\n",
       "        Revenue      Occ         ADR  ...   D_g_sum   q_upper  \\\n",
       "0      209160.0  67.4654  142.868852  ...  2.542960   1909.60   \n",
       "1       75000.0  33.3333  107.142857  ...  1.565520   1848.00   \n",
       "2      123965.0  51.7511  110.387355  ...  1.649075   1909.60   \n",
       "3      201327.0  65.5419  157.041342  ...  2.067547   1721.28   \n",
       "4      199453.0  50.9236  195.542157  ...  2.220051   1762.64   \n",
       "...         ...      ...         ...  ...       ...       ...   \n",
       "5588  3328976.0  93.1405  287.079683  ...  5.716251  10956.00   \n",
       "5589  2738027.0  92.9887  228.874613  ...  6.719439  11321.20   \n",
       "5590  2432220.0  89.7396  210.673019  ...  4.997755  11321.20   \n",
       "5591  2880734.0  90.6265  255.316317  ...  4.827411  10956.00   \n",
       "5592  3048074.0  97.3882  243.281507  ...  5.620897  11321.20   \n",
       "\n",
       "     hotel_fixed_effect  market_time_fixed_effect  max_group_price  \\\n",
       "0              0.000000               -119.170953       142.868852   \n",
       "1              0.000000               -126.749510       148.049200   \n",
       "2              0.000000               -103.913689       162.612529   \n",
       "3              0.000000                -74.653972       166.673548   \n",
       "4              0.000000                 13.083626       212.543127   \n",
       "...                 ...                       ...              ...   \n",
       "5588         -95.081347                100.209591       514.487154   \n",
       "5589         -95.081347                 69.794834       460.997903   \n",
       "5590         -95.081347                 57.166410       433.492404   \n",
       "5591         -95.081347                 96.538286       503.537241   \n",
       "5592         -95.081347                101.408458       518.428249   \n",
       "\n",
       "      market_size  max_supply_year    capacity  excess_demand       cost_ne  \n",
       "0        325922.6           2170.0   72.333333            0.0  1.072046e+05  \n",
       "1        325922.6           2170.0   72.333333            0.0  4.595404e+04  \n",
       "2        325922.6           2170.0   72.333333            0.0  9.936804e+04  \n",
       "3        325922.6           2170.0   72.333333            0.0  1.509480e+05  \n",
       "4        325922.6           2170.0   72.333333            0.0  2.095914e+05  \n",
       "...           ...              ...         ...            ...           ...  \n",
       "5588    1210161.0          12865.0  428.833333          640.0  2.173078e+06  \n",
       "5589    1210161.0          12865.0  428.833333          641.8  1.900933e+06  \n",
       "5590    1210161.0          12865.0  428.833333          223.8  1.750033e+06  \n",
       "5591    1210161.0          12865.0  428.833333          327.0  2.126220e+06  \n",
       "5592    1210161.0          12865.0  428.833333         1207.8  2.281786e+06  \n",
       "\n",
       "[5597 rows x 157 columns]"
      ]
     },
     "execution_count": 94,
     "metadata": {},
     "output_type": "execute_result"
    }
   ],
   "source": [
    "data"
   ]
  },
  {
   "cell_type": "code",
   "execution_count": 95,
   "id": "1444a8d6",
   "metadata": {},
   "outputs": [],
   "source": [
    "# Counterfactual marginal cost\n",
    "\n",
    "data[\"demand_cf\"] = data[\"market_share_cf\"]*data[\"market_size\"]\n",
    "\n",
    "data_lower = data[data[\"demand_cf\"]<=data[\"q_upper\"]]\n",
    "data_upper = data[data[\"demand_cf\"]>data[\"q_upper\"]]\n",
    "\n",
    "data_lower[\"excess_demand\"] = 0\n",
    "data_lower[\"cost_cf\"] = (192.39814102368837+data_lower[\"hotel_fixed_effect\"]+data_lower[\"market_time_fixed_effect\"])*\\\n",
    "                           data_lower[\"demand_cf\"]\n",
    "data_upper[\"excess_demand\"] = data_upper[\"demand_cf\"]-data_upper[\"q_upper\"]\n",
    "data_upper[\"cost_cf\"] = (192.39814102368837+data_upper[\"hotel_fixed_effect\"]+data_upper[\"market_time_fixed_effect\"])*\\\n",
    "                           data_upper[\"q_upper\"]+0.5*0.043841100663268406*(data_upper[\"excess_demand\"]**2)\n",
    "\n",
    "data = pd.concat([data_lower,data_upper],axis=0)\n",
    "\n"
   ]
  },
  {
   "cell_type": "markdown",
   "id": "872979c7",
   "metadata": {},
   "source": [
    "# Calculate Consumer Surplus"
   ]
  },
  {
   "cell_type": "code",
   "execution_count": 96,
   "id": "88417a3c",
   "metadata": {},
   "outputs": [],
   "source": [
    "# calculate walfare\n",
    "data[\"market_share_cf_delta_diff\"] = data[\"market_share_cf\"]*rating_param*(data[\"Rating\"] - data[\"exante_rating\"])\n",
    "\n",
    "l=[]\n",
    "for i in (0,1,2):\n",
    "    \n",
    "    df = data[data[\"Market\"]==data[\"Market\"].unique()[i]]\n",
    "    diff = df.groupby([\"month\",\"year\"])[\"market_share_cf_delta_diff\"].sum().reset_index().rename(columns={\"market_share_cf_delta_diff\":\"diff_term\"})\n",
    "    temp = df.merge(diff,on=[\"month\",\"year\"], how=\"left\")\n",
    "    l.append(temp)\n",
    "    \n",
    "df = pd.concat(l,axis=0)\n"
   ]
  },
  {
   "cell_type": "code",
   "execution_count": 97,
   "id": "cc497142",
   "metadata": {},
   "outputs": [],
   "source": [
    "df[\"r_greater_exante\"] = df[\"exante_rating\"]<df[\"Rating\"]\n",
    "\n",
    "#df[\"market_share_percent_diff\"] = (df[\"market_share_cf\"] - df[\"market_share\"])/df[\"market_share\"]\n"
   ]
  },
  {
   "cell_type": "code",
   "execution_count": 98,
   "id": "1ead6365",
   "metadata": {},
   "outputs": [],
   "source": [
    "df_cs = df[[\"Market\",\"year\",\"month\",\"Market Monthly Supply\",\"D_g_sum\",\"D_g_sum_cf\",\"diff_term\",\"market_size\"]].drop_duplicates()\n",
    "\n",
    "df_cs[\"cs\"] = (np.log(1+df_cs[\"D_g_sum\"]) - np.log(1+df_cs[\"D_g_sum_cf\"])-df_cs[\"diff_term\"])/alpha\n",
    "\n"
   ]
  },
  {
   "cell_type": "code",
   "execution_count": 99,
   "id": "b6daba72",
   "metadata": {},
   "outputs": [
    {
     "data": {
      "text/html": [
       "<div>\n",
       "<style scoped>\n",
       "    .dataframe tbody tr th:only-of-type {\n",
       "        vertical-align: middle;\n",
       "    }\n",
       "\n",
       "    .dataframe tbody tr th {\n",
       "        vertical-align: top;\n",
       "    }\n",
       "\n",
       "    .dataframe thead th {\n",
       "        text-align: right;\n",
       "    }\n",
       "</style>\n",
       "<table border=\"1\" class=\"dataframe\">\n",
       "  <thead>\n",
       "    <tr style=\"text-align: right;\">\n",
       "      <th></th>\n",
       "      <th>0</th>\n",
       "      <th>1</th>\n",
       "      <th>2</th>\n",
       "    </tr>\n",
       "  </thead>\n",
       "  <tbody>\n",
       "    <tr>\n",
       "      <th>Market</th>\n",
       "      <td>Chicago, IL</td>\n",
       "      <td>Houston, TX</td>\n",
       "      <td>Miami/Hialeah, FL</td>\n",
       "    </tr>\n",
       "    <tr>\n",
       "      <th>month_cs</th>\n",
       "      <td>-0.570724</td>\n",
       "      <td>-1.882986</td>\n",
       "      <td>-0.202125</td>\n",
       "    </tr>\n",
       "  </tbody>\n",
       "</table>\n",
       "</div>"
      ],
      "text/plain": [
       "                    0            1                  2\n",
       "Market    Chicago, IL  Houston, TX  Miami/Hialeah, FL\n",
       "month_cs    -0.570724    -1.882986          -0.202125"
      ]
     },
     "execution_count": 99,
     "metadata": {},
     "output_type": "execute_result"
    }
   ],
   "source": [
    "df_cs[\"month_cs\"] = df_cs[\"cs\"]*df_cs[\"market_size\"]\n",
    "\n",
    "cs_result = df_cs.groupby(\"Market\")[\"month_cs\"].sum()/1000000\n",
    "cs_result = cs_result.reset_index(\"Market\")\n",
    "cs_result.transpose()\n"
   ]
  },
  {
   "cell_type": "markdown",
   "id": "edae54db",
   "metadata": {},
   "source": [
    "# Calculate Revenue, Profit, Marginal Cost"
   ]
  },
  {
   "cell_type": "code",
   "execution_count": 100,
   "id": "be307f94",
   "metadata": {},
   "outputs": [
    {
     "data": {
      "text/html": [
       "<div>\n",
       "<style scoped>\n",
       "    .dataframe tbody tr th:only-of-type {\n",
       "        vertical-align: middle;\n",
       "    }\n",
       "\n",
       "    .dataframe tbody tr th {\n",
       "        vertical-align: top;\n",
       "    }\n",
       "\n",
       "    .dataframe thead th {\n",
       "        text-align: right;\n",
       "    }\n",
       "</style>\n",
       "<table border=\"1\" class=\"dataframe\">\n",
       "  <thead>\n",
       "    <tr style=\"text-align: right;\">\n",
       "      <th></th>\n",
       "      <th>0</th>\n",
       "      <th>1</th>\n",
       "      <th>2</th>\n",
       "    </tr>\n",
       "  </thead>\n",
       "  <tbody>\n",
       "    <tr>\n",
       "      <th>Market</th>\n",
       "      <td>Chicago, IL</td>\n",
       "      <td>Houston, TX</td>\n",
       "      <td>Miami/Hialeah, FL</td>\n",
       "    </tr>\n",
       "    <tr>\n",
       "      <th>revenue_diff</th>\n",
       "      <td>-24.038875</td>\n",
       "      <td>-21.781828</td>\n",
       "      <td>-12.253758</td>\n",
       "    </tr>\n",
       "  </tbody>\n",
       "</table>\n",
       "</div>"
      ],
      "text/plain": [
       "                        0            1                  2\n",
       "Market        Chicago, IL  Houston, TX  Miami/Hialeah, FL\n",
       "revenue_diff   -24.038875   -21.781828         -12.253758"
      ]
     },
     "execution_count": 100,
     "metadata": {},
     "output_type": "execute_result"
    }
   ],
   "source": [
    "df[\"Revenue_cf\"] = df[\"market_share_cf\"]*df[\"market_size\"]*df[\"ADR\"]\n",
    "df[\"revenue_diff\"] = df[\"Revenue_cf\"] - df[\"Revenue\"]\n",
    "revenue_result = df.groupby(\"Market\")[\"revenue_diff\"].sum()/1000000\n",
    "revenue_result = revenue_result.reset_index(\"Market\")\n",
    "revenue_result.transpose()\n"
   ]
  },
  {
   "cell_type": "code",
   "execution_count": 101,
   "id": "7fa135ff",
   "metadata": {},
   "outputs": [
    {
     "data": {
      "text/plain": [
       "-58.07446032758657"
      ]
     },
     "execution_count": 101,
     "metadata": {},
     "output_type": "execute_result"
    }
   ],
   "source": [
    "revenue_result[\"revenue_diff\"].sum()"
   ]
  },
  {
   "cell_type": "code",
   "execution_count": 102,
   "id": "8beaf6fd",
   "metadata": {},
   "outputs": [
    {
     "data": {
      "text/html": [
       "<div>\n",
       "<style scoped>\n",
       "    .dataframe tbody tr th:only-of-type {\n",
       "        vertical-align: middle;\n",
       "    }\n",
       "\n",
       "    .dataframe tbody tr th {\n",
       "        vertical-align: top;\n",
       "    }\n",
       "\n",
       "    .dataframe thead th {\n",
       "        text-align: right;\n",
       "    }\n",
       "</style>\n",
       "<table border=\"1\" class=\"dataframe\">\n",
       "  <thead>\n",
       "    <tr style=\"text-align: right;\">\n",
       "      <th></th>\n",
       "      <th>0</th>\n",
       "      <th>1</th>\n",
       "      <th>2</th>\n",
       "      <th>3</th>\n",
       "      <th>4</th>\n",
       "      <th>5</th>\n",
       "    </tr>\n",
       "  </thead>\n",
       "  <tbody>\n",
       "    <tr>\n",
       "      <th>Market</th>\n",
       "      <td>Chicago, IL</td>\n",
       "      <td>Chicago, IL</td>\n",
       "      <td>Houston, TX</td>\n",
       "      <td>Houston, TX</td>\n",
       "      <td>Miami/Hialeah, FL</td>\n",
       "      <td>Miami/Hialeah, FL</td>\n",
       "    </tr>\n",
       "    <tr>\n",
       "      <th>r_greater_exante</th>\n",
       "      <td>False</td>\n",
       "      <td>True</td>\n",
       "      <td>False</td>\n",
       "      <td>True</td>\n",
       "      <td>False</td>\n",
       "      <td>True</td>\n",
       "    </tr>\n",
       "    <tr>\n",
       "      <th>revenue_diff</th>\n",
       "      <td>17.61694</td>\n",
       "      <td>-41.655815</td>\n",
       "      <td>19.792079</td>\n",
       "      <td>-41.573907</td>\n",
       "      <td>8.911319</td>\n",
       "      <td>-21.165077</td>\n",
       "    </tr>\n",
       "  </tbody>\n",
       "</table>\n",
       "</div>"
      ],
      "text/plain": [
       "                            0            1            2            3  \\\n",
       "Market            Chicago, IL  Chicago, IL  Houston, TX  Houston, TX   \n",
       "r_greater_exante        False         True        False         True   \n",
       "revenue_diff         17.61694   -41.655815    19.792079   -41.573907   \n",
       "\n",
       "                                  4                  5  \n",
       "Market            Miami/Hialeah, FL  Miami/Hialeah, FL  \n",
       "r_greater_exante              False               True  \n",
       "revenue_diff               8.911319         -21.165077  "
      ]
     },
     "execution_count": 102,
     "metadata": {},
     "output_type": "execute_result"
    }
   ],
   "source": [
    "revenue_breakdown_result = df.groupby([\"Market\",\"r_greater_exante\"])[\"revenue_diff\"].sum()/1000000\n",
    "revenue_breakdown_result.reset_index().transpose()                                      "
   ]
  },
  {
   "cell_type": "code",
   "execution_count": 103,
   "id": "0196f2f9",
   "metadata": {},
   "outputs": [
    {
     "data": {
      "text/plain": [
       "r_greater_exante\n",
       "False     46.320338\n",
       "True    -104.394798\n",
       "Name: revenue_diff, dtype: float64"
      ]
     },
     "execution_count": 103,
     "metadata": {},
     "output_type": "execute_result"
    }
   ],
   "source": [
    "df.groupby([\"r_greater_exante\"])[\"revenue_diff\"].sum()/1000000"
   ]
  },
  {
   "cell_type": "code",
   "execution_count": 104,
   "id": "9778446d",
   "metadata": {},
   "outputs": [
    {
     "data": {
      "text/plain": [
       "Market\n",
       "Chicago, IL         -1.493540\n",
       "Houston, TX         -1.721582\n",
       "Miami/Hialeah, FL    1.651945\n",
       "Name: ps_diff, dtype: float64"
      ]
     },
     "execution_count": 104,
     "metadata": {},
     "output_type": "execute_result"
    }
   ],
   "source": [
    "df[\"ps_cf\"] = df[\"Revenue_cf\"]-df[\"cost_cf\"]\n",
    "df[\"ps_ne\"] = df[\"Revenue\"]-df[\"cost_ne\"]\n",
    "df[\"ps_diff\"] = df[\"ps_cf\"] - df[\"ps_ne\"]\n",
    "df.groupby(\"Market\")[\"ps_diff\"].sum()/1000000"
   ]
  },
  {
   "cell_type": "code",
   "execution_count": 105,
   "id": "b43e2c78",
   "metadata": {},
   "outputs": [
    {
     "data": {
      "text/plain": [
       "-1.5631767309705102"
      ]
     },
     "execution_count": 105,
     "metadata": {},
     "output_type": "execute_result"
    }
   ],
   "source": [
    "df[\"ps_diff\"].sum()/1000000"
   ]
  },
  {
   "cell_type": "code",
   "execution_count": 106,
   "id": "3d16679d",
   "metadata": {},
   "outputs": [
    {
     "data": {
      "text/plain": [
       "r_greater_exante\n",
       "False    21.365039\n",
       "True    -22.928216\n",
       "Name: ps_diff, dtype: float64"
      ]
     },
     "execution_count": 106,
     "metadata": {},
     "output_type": "execute_result"
    }
   ],
   "source": [
    "df.groupby([\"r_greater_exante\"])[\"ps_diff\"].sum()/1000000"
   ]
  },
  {
   "cell_type": "code",
   "execution_count": 107,
   "id": "3d6a0b14",
   "metadata": {
    "scrolled": true
   },
   "outputs": [
    {
     "data": {
      "text/plain": [
       "-56.51128359661606"
      ]
     },
     "execution_count": 107,
     "metadata": {},
     "output_type": "execute_result"
    }
   ],
   "source": [
    "df[\"cost_diff\"] = df[\"cost_cf\"] - df[\"cost_ne\"]\n",
    "df[\"cost_diff\"].sum()/1000000\n",
    "\n"
   ]
  },
  {
   "cell_type": "code",
   "execution_count": 108,
   "id": "9b02235c",
   "metadata": {},
   "outputs": [
    {
     "data": {
      "text/plain": [
       "r_greater_exante\n",
       "False    24.955299\n",
       "True    -81.466583\n",
       "Name: cost_diff, dtype: float64"
      ]
     },
     "execution_count": 108,
     "metadata": {},
     "output_type": "execute_result"
    }
   ],
   "source": [
    "df.groupby([\"r_greater_exante\"])[\"cost_diff\"].sum()/1000000"
   ]
  },
  {
   "cell_type": "code",
   "execution_count": 109,
   "id": "258eaca4",
   "metadata": {},
   "outputs": [
    {
     "data": {
      "text/plain": [
       "Market\n",
       "Chicago, IL         -22.545335\n",
       "Houston, TX         -20.060245\n",
       "Miami/Hialeah, FL   -13.905703\n",
       "Name: cost_diff, dtype: float64"
      ]
     },
     "execution_count": 109,
     "metadata": {},
     "output_type": "execute_result"
    }
   ],
   "source": [
    "df.groupby(\"Market\")[\"cost_diff\"].sum()/1000000"
   ]
  },
  {
   "cell_type": "code",
   "execution_count": 110,
   "id": "29ca8320",
   "metadata": {},
   "outputs": [],
   "source": [
    "total_market_share = df.groupby([\"Market\",\"year\",\"month\"])[\"market_share\"].sum().reset_index().rename(columns={\"market_share\":\"market_share_sum\"})\n",
    "total_market_share_cf = df.groupby([\"Market\",\"year\",\"month\"])[\"market_share_cf\"].sum().reset_index().rename(columns={\"market_share_cf\":\"market_share_sum_cf\"})\n",
    "\n",
    "df_2 = df.merge(total_market_share, on=[\"Market\",\"year\",\"month\"]).merge(total_market_share_cf, on=[\"Market\",\"year\",\"month\"])\n",
    "                                                                                                           \n",
    "\n"
   ]
  },
  {
   "cell_type": "code",
   "execution_count": 111,
   "id": "05a07b7f",
   "metadata": {},
   "outputs": [
    {
     "data": {
      "text/plain": [
       "-0.30804645290566524"
      ]
     },
     "execution_count": 111,
     "metadata": {},
     "output_type": "execute_result"
    }
   ],
   "source": [
    "df_2[\"market_share_sum_diff\"] = df_2[\"market_share_sum_cf\"] - df_2[\"market_share_sum\"]\n",
    "\n",
    "total_market_share = df_2[[\"Market\",\"year\",\"month\",\"market_share_sum_diff\",\"market_size\"]].drop_duplicates()\n",
    "\n",
    "total_market_share[\"market_share_sum_diff\"].mean()*100"
   ]
  },
  {
   "cell_type": "code",
   "execution_count": 112,
   "id": "a7f024c3",
   "metadata": {},
   "outputs": [
    {
     "data": {
      "text/plain": [
       "Market\n",
       "Chicago, IL         -0.438947\n",
       "Houston, TX         -0.104045\n",
       "Miami/Hialeah, FL   -0.381148\n",
       "Name: market_share_sum_diff, dtype: float64"
      ]
     },
     "execution_count": 112,
     "metadata": {},
     "output_type": "execute_result"
    }
   ],
   "source": [
    "\n",
    "total_market_share.groupby(\"Market\")[\"market_share_sum_diff\"].mean()*100"
   ]
  },
  {
   "cell_type": "code",
   "execution_count": 113,
   "id": "9a84e347",
   "metadata": {},
   "outputs": [
    {
     "data": {
      "text/plain": [
       "Market\n",
       "Chicago, IL          [1210161.0]\n",
       "Houston, TX          [1419322.0]\n",
       "Miami/Hialeah, FL     [325922.6]\n",
       "Name: market_size, dtype: object"
      ]
     },
     "execution_count": 113,
     "metadata": {},
     "output_type": "execute_result"
    }
   ],
   "source": [
    "df_2.groupby(\"Market\")[\"market_size\"].unique()"
   ]
  },
  {
   "cell_type": "code",
   "execution_count": 1,
   "id": "a46b88e1",
   "metadata": {},
   "outputs": [
    {
     "data": {
      "text/plain": [
       "35464872"
      ]
     },
     "execution_count": 1,
     "metadata": {},
     "output_type": "execute_result"
    }
   ],
   "source": [
    "(325923+1419322+1210161)*12"
   ]
  },
  {
   "cell_type": "code",
   "execution_count": 211,
   "id": "1275d444",
   "metadata": {},
   "outputs": [
    {
     "data": {
      "text/plain": [
       "<pandas.core.groupby.generic.SeriesGroupBy object at 0x7fc55889da10>"
      ]
     },
     "execution_count": 211,
     "metadata": {},
     "output_type": "execute_result"
    }
   ],
   "source": [
    "df.groupby([\"Market\",\"Operation\"])[\"capacity\"]"
   ]
  },
  {
   "cell_type": "code",
   "execution_count": null,
   "id": "2ec79e52",
   "metadata": {},
   "outputs": [],
   "source": []
  }
 ],
 "metadata": {
  "kernelspec": {
   "display_name": "Python 3 (ipykernel)",
   "language": "python",
   "name": "python3"
  },
  "language_info": {
   "codemirror_mode": {
    "name": "ipython",
    "version": 3
   },
   "file_extension": ".py",
   "mimetype": "text/x-python",
   "name": "python",
   "nbconvert_exporter": "python",
   "pygments_lexer": "ipython3",
   "version": "3.7.13"
  },
  "toc": {
   "base_numbering": 1,
   "nav_menu": {},
   "number_sections": true,
   "sideBar": true,
   "skip_h1_title": false,
   "title_cell": "Table of Contents",
   "title_sidebar": "Contents",
   "toc_cell": false,
   "toc_position": {},
   "toc_section_display": true,
   "toc_window_display": true
  }
 },
 "nbformat": 4,
 "nbformat_minor": 5
}
