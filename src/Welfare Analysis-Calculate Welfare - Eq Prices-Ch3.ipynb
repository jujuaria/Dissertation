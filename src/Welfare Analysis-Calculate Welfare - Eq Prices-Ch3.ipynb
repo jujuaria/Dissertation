{
 "cells": [
  {
   "cell_type": "code",
   "execution_count": 182,
   "id": "1a72d183",
   "metadata": {},
   "outputs": [],
   "source": [
    "import pandas as pd\n",
    "import numpy as np\n",
    "import os\n",
    "import matplotlib.pyplot as plt\n",
    "import statsmodels.api as sm\n",
    "import statsmodels\n",
    "from sklearn.preprocessing import OneHotEncoder\n",
    "from sklearn import preprocessing\n",
    "import seaborn as sns\n",
    "from scipy import optimize\n",
    "import time\n",
    "import functools\n",
    "from multiprocessing import Pool\n",
    "#from cyipopt import minimize_ipopt\n",
    "from numpy.polynomial.polynomial import polyfit\n",
    "import matplotlib.pyplot as plt\n",
    "import random\n",
    "\n",
    "import warnings\n",
    "warnings.filterwarnings(\"ignore\")\n",
    "\n",
    "random.seed(10)\n"
   ]
  },
  {
   "cell_type": "code",
   "execution_count": 183,
   "id": "1381dd89",
   "metadata": {},
   "outputs": [],
   "source": [
    "input_dir = r\"/Users/juju/Library/Mobile Documents/com~apple~CloudDocs/ta_project/output/welfare/eq_price_new\"\n",
    "# = r\"/Users/juju/Library/Mobile Documents/com~apple~CloudDocs/ta_project/output/welfare/eq_price_ch3\""
   ]
  },
  {
   "cell_type": "code",
   "execution_count": 184,
   "id": "ec474e69",
   "metadata": {},
   "outputs": [],
   "source": [
    "data = pd.read_csv(os.path.join(input_dir,r\"welfare_eq_result_update_baseline_ch3.csv\"))"
   ]
  },
  {
   "cell_type": "code",
   "execution_count": 185,
   "id": "35785641",
   "metadata": {},
   "outputs": [
    {
     "data": {
      "text/plain": [
       "['level_0',\n",
       " 'post_month',\n",
       " 'shareid',\n",
       " 'year_month',\n",
       " 'Supply',\n",
       " 'Demand',\n",
       " 'Revenue',\n",
       " 'Occ',\n",
       " 'ADR',\n",
       " 'RevPAR',\n",
       " 'Country',\n",
       " 'Market',\n",
       " 'Chain',\n",
       " 'Owner',\n",
       " 'Mgmt',\n",
       " 'ParentCompany',\n",
       " 'Operation',\n",
       " 'Scale',\n",
       " 'Class',\n",
       " 'Location',\n",
       " 'OpenDate',\n",
       " 'SizeCode',\n",
       " 'max_str_month',\n",
       " 'max_review_month',\n",
       " 'min_review_month',\n",
       " 'on_ta',\n",
       " 'monthly_rating_mean',\n",
       " 'monthly_review_count',\n",
       " 'monthly_one_star_count',\n",
       " 'monthly_two_star_count',\n",
       " 'monthly_three_star_count',\n",
       " 'monthly_four_star_count',\n",
       " 'monthly_five_star_count',\n",
       " 'monthly_hotel_response_count',\n",
       " 'monthly_partnership_reviews_count',\n",
       " 'cleanliness_count',\n",
       " 'cleanliness_mean',\n",
       " 'location_count',\n",
       " 'location_mean',\n",
       " 'sleep_quality_count',\n",
       " 'sleep_quality_mean',\n",
       " 'room_quality_count',\n",
       " 'room_quality_mean',\n",
       " 'service_count',\n",
       " 'service_mean',\n",
       " 'value_count',\n",
       " 'value_mean',\n",
       " 'renovate',\n",
       " 'solo_count',\n",
       " 'couple_count',\n",
       " 'family_count',\n",
       " 'business_count',\n",
       " 'month_with_reviews',\n",
       " 'num_of_reviews',\n",
       " 'total_one_star',\n",
       " 'total_two_star',\n",
       " 'total_three_star',\n",
       " 'total_four_star',\n",
       " 'total_five_star',\n",
       " 'accum_rating',\n",
       " 'total_one_star_%',\n",
       " 'total_two_star_%',\n",
       " 'total_three_star_%',\n",
       " 'total_four_star_%',\n",
       " 'total_five_star_%',\n",
       " 'is_reviewed',\n",
       " 'ln_revenue',\n",
       " 'ln_revpar',\n",
       " 'ln_accum_rating',\n",
       " 'ln_num_of_reviews',\n",
       " 'ln_revenue_next_1m',\n",
       " 'ln_revpar_next_1m',\n",
       " 'ln_revenue_next_2m',\n",
       " 'ln_revpar_next_2m',\n",
       " 'ln_revenue_next_3m',\n",
       " 'ln_revpar_next_3m',\n",
       " 'ln_revenue_next_4m',\n",
       " 'ln_revpar_next_4m',\n",
       " 'ln_revenue_next_5m',\n",
       " 'ln_revpar_next_5m',\n",
       " 'ln_revenue_next_6m',\n",
       " 'ln_revpar_next_6m',\n",
       " 'ln_revenue_next_3m_avg',\n",
       " 'ln_revpar_next_3m_avg',\n",
       " 'ln_revenue_next_6m_avg',\n",
       " 'ln_revpar_next_6m_avg',\n",
       " 'year',\n",
       " 'month',\n",
       " 'displayed_rating',\n",
       " 'round_up',\n",
       " 'Class Group',\n",
       " 'hotel_age',\n",
       " 'high_season',\n",
       " 'alpha',\n",
       " 'avg_price',\n",
       " 'avg_demand',\n",
       " 'price_elasticity',\n",
       " 'Group Monthly Demand',\n",
       " 'hotel_count_in_group_chain',\n",
       " 'hotel_count_in_group_franchised',\n",
       " 'hotel_count_in_group_independent',\n",
       " '1_size',\n",
       " '2_size',\n",
       " '3_size',\n",
       " '4_size',\n",
       " '5_size',\n",
       " 'Group Avg Age',\n",
       " 'Market Monthly Supply',\n",
       " 'Market Monthly Demand',\n",
       " 'hotel_count_in_market',\n",
       " 'market_share',\n",
       " 'group_share',\n",
       " 's_0',\n",
       " 'ln_group_share',\n",
       " 'quality',\n",
       " 'Rating',\n",
       " 'ReviewCount_Reviewed',\n",
       " 'Rating_ReviewCount_Reviewed',\n",
       " 'market_year_month',\n",
       " 'ln_ADR',\n",
       " 'quality_hat',\n",
       " 'market_size',\n",
       " 'max_group_price',\n",
       " 'mc_t',\n",
       " 'q_upper',\n",
       " 'excess_demand',\n",
       " 'max_supply_year',\n",
       " 'capacity',\n",
       " 'class_group_capacity',\n",
       " 'competitor_capacity',\n",
       " 'hotel_fixed_effect_id',\n",
       " 'market_time_fixed_effect_id',\n",
       " 'hotel_fixed_effect',\n",
       " 'market_time_fixed_effect',\n",
       " 'price_ne',\n",
       " 'delta',\n",
       " 'delta_ne',\n",
       " 'D_g_sum_ne',\n",
       " 'market_share_ne',\n",
       " 'demand_ne',\n",
       " 'group_share_ne',\n",
       " 'market_share_sum_ne',\n",
       " 's_0_ne',\n",
       " 'operation',\n",
       " 'exante_rating_baseline',\n",
       " 'exante_rating_obs_less',\n",
       " 'exante_rating_obs_less_brand',\n",
       " 'exante_rating',\n",
       " 'delta_cf_ne_temp',\n",
       " 'price_cf',\n",
       " 'delta_cf_temp',\n",
       " 'delta_cf',\n",
       " 'D_g_sum_cf',\n",
       " 'market_share_cf',\n",
       " 'demand_cf',\n",
       " 'group_share_cf',\n",
       " 'market_share_sum_cf',\n",
       " 's_0_cf']"
      ]
     },
     "execution_count": 185,
     "metadata": {},
     "output_type": "execute_result"
    }
   ],
   "source": [
    "list(data.columns)"
   ]
  },
  {
   "cell_type": "code",
   "execution_count": 186,
   "id": "fe261d60",
   "metadata": {},
   "outputs": [
    {
     "data": {
      "text/plain": [
       "Text(0.5, 1.0, 'Actual prices vs. Status Quo Equiligirum Prices')"
      ]
     },
     "execution_count": 186,
     "metadata": {},
     "output_type": "execute_result"
    },
    {
     "data": {
      "image/png": "[encoded data removed]",
      "text/plain": [
       "<Figure size 432x288 with 1 Axes>"
      ]
     },
     "metadata": {
      "needs_background": "light"
     },
     "output_type": "display_data"
    }
   ],
   "source": [
    "plt.scatter(data[\"ADR\"],data[\"price_ne\"])\n",
    "plt.xlabel(\"Actual Price (ADR) $\")\n",
    "plt.ylabel(\"Equilibrium price (ADR)- Status Quo $\")\n",
    "plt.title(\"Actual prices vs. Status Quo Equiligirum Prices\")"
   ]
  },
  {
   "cell_type": "code",
   "execution_count": 187,
   "id": "23fcc812",
   "metadata": {},
   "outputs": [
    {
     "data": {
      "text/html": [
       "<div>\n",
       "<style scoped>\n",
       "    .dataframe tbody tr th:only-of-type {\n",
       "        vertical-align: middle;\n",
       "    }\n",
       "\n",
       "    .dataframe tbody tr th {\n",
       "        vertical-align: top;\n",
       "    }\n",
       "\n",
       "    .dataframe thead th {\n",
       "        text-align: right;\n",
       "    }\n",
       "</style>\n",
       "<table border=\"1\" class=\"dataframe\">\n",
       "  <thead>\n",
       "    <tr style=\"text-align: right;\">\n",
       "      <th></th>\n",
       "      <th>ADR</th>\n",
       "      <th>price_ne</th>\n",
       "    </tr>\n",
       "  </thead>\n",
       "  <tbody>\n",
       "    <tr>\n",
       "      <th>count</th>\n",
       "      <td>5597.000000</td>\n",
       "      <td>5597.000000</td>\n",
       "    </tr>\n",
       "    <tr>\n",
       "      <th>mean</th>\n",
       "      <td>141.570217</td>\n",
       "      <td>141.918005</td>\n",
       "    </tr>\n",
       "    <tr>\n",
       "      <th>std</th>\n",
       "      <td>96.118163</td>\n",
       "      <td>95.217815</td>\n",
       "    </tr>\n",
       "    <tr>\n",
       "      <th>min</th>\n",
       "      <td>34.083241</td>\n",
       "      <td>7.304442</td>\n",
       "    </tr>\n",
       "    <tr>\n",
       "      <th>25%</th>\n",
       "      <td>85.236818</td>\n",
       "      <td>85.532135</td>\n",
       "    </tr>\n",
       "    <tr>\n",
       "      <th>50%</th>\n",
       "      <td>119.546934</td>\n",
       "      <td>120.224608</td>\n",
       "    </tr>\n",
       "    <tr>\n",
       "      <th>75%</th>\n",
       "      <td>170.744239</td>\n",
       "      <td>170.809152</td>\n",
       "    </tr>\n",
       "    <tr>\n",
       "      <th>max</th>\n",
       "      <td>1563.839872</td>\n",
       "      <td>1516.132598</td>\n",
       "    </tr>\n",
       "  </tbody>\n",
       "</table>\n",
       "</div>"
      ],
      "text/plain": [
       "               ADR     price_ne\n",
       "count  5597.000000  5597.000000\n",
       "mean    141.570217   141.918005\n",
       "std      96.118163    95.217815\n",
       "min      34.083241     7.304442\n",
       "25%      85.236818    85.532135\n",
       "50%     119.546934   120.224608\n",
       "75%     170.744239   170.809152\n",
       "max    1563.839872  1516.132598"
      ]
     },
     "execution_count": 187,
     "metadata": {},
     "output_type": "execute_result"
    }
   ],
   "source": [
    "data[[\"ADR\",\"price_ne\"]].describe()"
   ]
  },
  {
   "cell_type": "code",
   "execution_count": 188,
   "id": "1db58745",
   "metadata": {},
   "outputs": [],
   "source": [
    "\n",
    "\n",
    "alpha = -0.012\n",
    "sigma = 0.5396\n",
    "rating_param_chain = 0.075-0.016\n",
    "rating_param_ind = 0.075\n",
    "\n",
    "occ_upper= 88"
   ]
  },
  {
   "cell_type": "code",
   "execution_count": 189,
   "id": "5937ed0b",
   "metadata": {},
   "outputs": [],
   "source": [
    "miami = data[data[\"Market\"]==\"Miami/Hialeah, FL\"]"
   ]
  },
  {
   "cell_type": "code",
   "execution_count": 190,
   "id": "654dabbe",
   "metadata": {},
   "outputs": [
    {
     "data": {
      "text/plain": [
       "count    734.000000\n",
       "mean       0.000017\n",
       "std        0.004771\n",
       "min       -0.043162\n",
       "25%       -0.000824\n",
       "50%       -0.000075\n",
       "75%        0.000606\n",
       "max        0.032691\n",
       "dtype: float64"
      ]
     },
     "execution_count": 190,
     "metadata": {},
     "output_type": "execute_result"
    }
   ],
   "source": [
    "(miami[\"market_share_ne\"]-miami[\"market_share_cf\"]).describe()"
   ]
  },
  {
   "cell_type": "markdown",
   "id": "b61fae3c",
   "metadata": {},
   "source": [
    "# Calculate marginal cost and total cost"
   ]
  },
  {
   "cell_type": "code",
   "execution_count": 191,
   "id": "07397420",
   "metadata": {},
   "outputs": [],
   "source": [
    "# Status Quo marginal cost\n",
    "\n",
    "#data[\"occ_ne\"] = (data[\"demand_ne\"]*100/30)/data[\"capacity\"]\n",
    "\n",
    "data_lower = data[data[\"demand_ne\"]<=data[\"q_upper\"]]\n",
    "\n",
    "data_upper = data[data[\"demand_ne\"]>data[\"q_upper\"]]\n",
    "\n",
    "data_lower[\"excess_demand\"] = 0\n",
    "data_lower[\"cost_ne\"] = (192.39814102368837+data_lower[\"hotel_fixed_effect\"]+data_lower[\"market_time_fixed_effect\"])*\\\n",
    "                           data_lower[\"demand_ne\"]\n",
    "data_upper[\"excess_demand\"] = data_upper[\"demand_ne\"]-data_upper[\"q_upper\"]\n",
    "data_upper[\"cost_ne\"] = (192.39814102368837+data_upper[\"hotel_fixed_effect\"]+data_upper[\"market_time_fixed_effect\"])*\\\n",
    "                           data_upper[\"q_upper\"]+0.5*0.043841100663268406*(data_upper[\"excess_demand\"]**2)\n",
    "\n",
    "\n",
    "data= pd.concat([data_lower,data_upper],axis=0)\n",
    "\n",
    "data = data.fillna(0)\n",
    "\n"
   ]
  },
  {
   "cell_type": "code",
   "execution_count": 192,
   "id": "f6b4bd0b",
   "metadata": {},
   "outputs": [],
   "source": [
    "\n",
    "\n",
    "\n",
    "data_lower = data[data[\"demand_cf\"]<=data[\"q_upper\"]]\n",
    "data_upper = data[data[\"demand_cf\"]>data[\"q_upper\"]]\n",
    "\n",
    "data_lower[\"excess_demand\"] = 0\n",
    "data_lower[\"cost_cf\"] = (192.39814102368837+data_lower[\"hotel_fixed_effect\"]+data_lower[\"market_time_fixed_effect\"])*\\\n",
    "                           data_lower[\"demand_cf\"]\n",
    "data_upper[\"excess_demand\"] = data_upper[\"demand_cf\"]-data_upper[\"q_upper\"]\n",
    "data_upper[\"cost_cf\"] = (192.39814102368837+data_upper[\"hotel_fixed_effect\"]+data_upper[\"market_time_fixed_effect\"])*\\\n",
    "                           data_upper[\"q_upper\"]+0.5*0.043841100663268406*(data_upper[\"excess_demand\"]**2)\n",
    "\n",
    "data = pd.concat([data_lower,data_upper],axis=0)\n",
    "\n"
   ]
  },
  {
   "cell_type": "markdown",
   "id": "f1873e5c",
   "metadata": {},
   "source": [
    "# Calculate Consumer Surplus"
   ]
  },
  {
   "cell_type": "code",
   "execution_count": 193,
   "id": "10099f2e",
   "metadata": {},
   "outputs": [],
   "source": [
    "data[\"r_greater_exante\"] = data[\"exante_rating\"]<data[\"Rating\"]\n",
    "\n",
    "#df[\"market_share_percent_diff\"] = (df[\"market_share_cf\"] - df[\"market_share\"])/df[\"market_share\"]\n"
   ]
  },
  {
   "cell_type": "code",
   "execution_count": 194,
   "id": "78032d65",
   "metadata": {},
   "outputs": [],
   "source": [
    "# calculate walfare\n",
    "\n",
    "    \n",
    "data_chain = data[data[\"operation\"]=='Chain_affiliated'].reset_index().drop([\"index\"],axis=1)\n",
    "data_ind = data[data[\"operation\"]=='Independent'].reset_index().drop([\"index\"],axis=1)\n",
    "\n",
    "data_chain[\"market_share_cf_delta_diff\"] = data_chain[\"market_share_cf\"]*(rating_param_chain*(data_chain[\"Rating\"] - data_chain[\"exante_rating\"])+alpha*(data_chain[\"price_ne\"]-data_chain[\"price_cf\"]))\n",
    "data_ind[\"market_share_cf_delta_diff\"] = data_ind[\"market_share_cf\"]*(rating_param_ind*(data_ind[\"Rating\"] - data_ind[\"exante_rating\"])+alpha*(data_ind[\"price_ne\"]-data_ind[\"price_cf\"]))\n",
    " \n",
    "    \n",
    "data = pd.concat([data_chain, data_ind],axis=0).reset_index().drop([\"index\"],axis=1)\n",
    "    \n",
    "l=[]\n",
    "for i in (0,1,2):\n",
    "    \n",
    "    df_temp = data[data[\"Market\"]==data[\"Market\"].unique()[i]]\n",
    "    diff = df_temp.groupby([\"month\",\"year\"])[\"market_share_cf_delta_diff\"].sum().reset_index().rename(columns={\"market_share_cf_delta_diff\":\"diff_term\"})\n",
    "    temp = df_temp.merge(diff,on=[\"month\",\"year\"], how=\"left\")\n",
    "    l.append(temp)\n",
    "    \n",
    "df = pd.concat(l,axis=0)\n"
   ]
  },
  {
   "cell_type": "code",
   "execution_count": 195,
   "id": "8cf7e061",
   "metadata": {},
   "outputs": [],
   "source": [
    "df_cs = df[[\"Market\",\"year\",\"month\",\"Market Monthly Supply\",\"D_g_sum_ne\",\"D_g_sum_cf\",\"diff_term\",\"market_size\"]].drop_duplicates()\n",
    "\n",
    "df_cs[\"cs\"] = (np.log(1+df_cs[\"D_g_sum_ne\"]) - np.log(1+df_cs[\"D_g_sum_cf\"])-df_cs[\"diff_term\"])/alpha\n"
   ]
  },
  {
   "cell_type": "code",
   "execution_count": 196,
   "id": "d8b0c0cf",
   "metadata": {},
   "outputs": [
    {
     "data": {
      "text/html": [
       "<div>\n",
       "<style scoped>\n",
       "    .dataframe tbody tr th:only-of-type {\n",
       "        vertical-align: middle;\n",
       "    }\n",
       "\n",
       "    .dataframe tbody tr th {\n",
       "        vertical-align: top;\n",
       "    }\n",
       "\n",
       "    .dataframe thead th {\n",
       "        text-align: right;\n",
       "    }\n",
       "</style>\n",
       "<table border=\"1\" class=\"dataframe\">\n",
       "  <thead>\n",
       "    <tr style=\"text-align: right;\">\n",
       "      <th></th>\n",
       "      <th>0</th>\n",
       "      <th>1</th>\n",
       "      <th>2</th>\n",
       "    </tr>\n",
       "  </thead>\n",
       "  <tbody>\n",
       "    <tr>\n",
       "      <th>Market</th>\n",
       "      <td>Chicago, IL</td>\n",
       "      <td>Houston, TX</td>\n",
       "      <td>Miami/Hialeah, FL</td>\n",
       "    </tr>\n",
       "    <tr>\n",
       "      <th>month_cs</th>\n",
       "      <td>-2.429544</td>\n",
       "      <td>-4.658473</td>\n",
       "      <td>-4.702643</td>\n",
       "    </tr>\n",
       "  </tbody>\n",
       "</table>\n",
       "</div>"
      ],
      "text/plain": [
       "                    0            1                  2\n",
       "Market    Chicago, IL  Houston, TX  Miami/Hialeah, FL\n",
       "month_cs    -2.429544    -4.658473          -4.702643"
      ]
     },
     "execution_count": 196,
     "metadata": {},
     "output_type": "execute_result"
    }
   ],
   "source": [
    "df_cs[\"month_cs\"] = df_cs[\"cs\"]*df_cs[\"market_size\"]\n",
    "\n",
    "cs_result = df_cs.groupby(\"Market\")[\"month_cs\"].sum()/1000000\n",
    "cs_result = cs_result.reset_index(\"Market\")\n",
    "cs_result.transpose()\n"
   ]
  },
  {
   "cell_type": "markdown",
   "id": "55b193e7",
   "metadata": {},
   "source": [
    "# Calculate Revenue, Profit, Marginal Cost"
   ]
  },
  {
   "cell_type": "code",
   "execution_count": 197,
   "id": "327cb279",
   "metadata": {},
   "outputs": [],
   "source": [
    "df = data"
   ]
  },
  {
   "cell_type": "code",
   "execution_count": 198,
   "id": "2e774773",
   "metadata": {},
   "outputs": [
    {
     "data": {
      "text/plain": [
       "Market\n",
       "Chicago, IL           6.324924\n",
       "Houston, TX          11.080796\n",
       "Miami/Hialeah, FL   -32.008186\n",
       "Name: revenue_diff, dtype: float64"
      ]
     },
     "execution_count": 198,
     "metadata": {},
     "output_type": "execute_result"
    }
   ],
   "source": [
    "df[\"Revenue_cf\"] = df[\"market_share_cf\"]*df[\"market_size\"]*df[\"price_cf\"]\n",
    "df[\"Revenue_ne\"] = df[\"market_share_ne\"]*df[\"market_size\"]*df[\"price_ne\"]\n",
    "df[\"revenue_diff\"] = df[\"Revenue_cf\"] - df[\"Revenue_ne\"]\n",
    "df.groupby(\"Market\")[\"revenue_diff\"].sum()/1000000"
   ]
  },
  {
   "cell_type": "code",
   "execution_count": 199,
   "id": "6e3bbfca",
   "metadata": {},
   "outputs": [],
   "source": [
    "#miami = df[df[\"Market\"]==\"Miami/Hialeah, FL\"]\n",
    "df[\"price_diff\"] = df[\"price_cf\"]-df[\"price_ne\"]\n",
    "df[\"market_share_diff\"] = df[\"market_share_cf\"]-df[\"market_share_ne\"]"
   ]
  },
  {
   "cell_type": "code",
   "execution_count": 200,
   "id": "7005113d",
   "metadata": {},
   "outputs": [
    {
     "data": {
      "text/plain": [
       "Market             r_greater_exante\n",
       "Chicago, IL        False               21274.454038\n",
       "                   True               -17123.906320\n",
       "Houston, TX        False                9554.066707\n",
       "                   True                -6806.755799\n",
       "Miami/Hialeah, FL  False              -35253.988647\n",
       "                   True               -59586.361324\n",
       "Name: revenue_diff, dtype: float64"
      ]
     },
     "execution_count": 200,
     "metadata": {},
     "output_type": "execute_result"
    }
   ],
   "source": [
    "df.groupby([\"Market\",\"r_greater_exante\"])[\"revenue_diff\"].mean()"
   ]
  },
  {
   "cell_type": "code",
   "execution_count": 201,
   "id": "0239b8f5",
   "metadata": {},
   "outputs": [
    {
     "data": {
      "text/plain": [
       "Market             r_greater_exante\n",
       "Chicago, IL        False               0.007201\n",
       "                   True               -0.010609\n",
       "Houston, TX        False               0.003103\n",
       "                   True               -0.007528\n",
       "Miami/Hialeah, FL  False              -0.010727\n",
       "                   True                0.015568\n",
       "Name: market_share_diff, dtype: float64"
      ]
     },
     "execution_count": 201,
     "metadata": {},
     "output_type": "execute_result"
    }
   ],
   "source": [
    "df.groupby([\"Market\",\"r_greater_exante\"])[\"market_share_diff\"].mean()*100"
   ]
  },
  {
   "cell_type": "code",
   "execution_count": 202,
   "id": "b5d41ae1",
   "metadata": {},
   "outputs": [
    {
     "data": {
      "text/html": [
       "<div>\n",
       "<style scoped>\n",
       "    .dataframe tbody tr th:only-of-type {\n",
       "        vertical-align: middle;\n",
       "    }\n",
       "\n",
       "    .dataframe tbody tr th {\n",
       "        vertical-align: top;\n",
       "    }\n",
       "\n",
       "    .dataframe thead th {\n",
       "        text-align: right;\n",
       "    }\n",
       "</style>\n",
       "<table border=\"1\" class=\"dataframe\">\n",
       "  <thead>\n",
       "    <tr style=\"text-align: right;\">\n",
       "      <th></th>\n",
       "      <th>count</th>\n",
       "      <th>mean</th>\n",
       "      <th>std</th>\n",
       "      <th>min</th>\n",
       "      <th>25%</th>\n",
       "      <th>50%</th>\n",
       "      <th>75%</th>\n",
       "      <th>max</th>\n",
       "    </tr>\n",
       "    <tr>\n",
       "      <th>Market</th>\n",
       "      <th></th>\n",
       "      <th></th>\n",
       "      <th></th>\n",
       "      <th></th>\n",
       "      <th></th>\n",
       "      <th></th>\n",
       "      <th></th>\n",
       "      <th></th>\n",
       "    </tr>\n",
       "  </thead>\n",
       "  <tbody>\n",
       "    <tr>\n",
       "      <th>Chicago, IL</th>\n",
       "      <td>1364.0</td>\n",
       "      <td>-0.000005</td>\n",
       "      <td>0.000762</td>\n",
       "      <td>-0.008057</td>\n",
       "      <td>-0.000109</td>\n",
       "      <td>0.000017</td>\n",
       "      <td>0.000172</td>\n",
       "      <td>0.005164</td>\n",
       "    </tr>\n",
       "    <tr>\n",
       "      <th>Houston, TX</th>\n",
       "      <td>3499.0</td>\n",
       "      <td>-0.000010</td>\n",
       "      <td>0.000444</td>\n",
       "      <td>-0.005132</td>\n",
       "      <td>-0.000090</td>\n",
       "      <td>-0.000005</td>\n",
       "      <td>0.000066</td>\n",
       "      <td>0.004404</td>\n",
       "    </tr>\n",
       "    <tr>\n",
       "      <th>Miami/Hialeah, FL</th>\n",
       "      <td>734.0</td>\n",
       "      <td>-0.000017</td>\n",
       "      <td>0.004771</td>\n",
       "      <td>-0.032691</td>\n",
       "      <td>-0.000606</td>\n",
       "      <td>0.000075</td>\n",
       "      <td>0.000824</td>\n",
       "      <td>0.043162</td>\n",
       "    </tr>\n",
       "  </tbody>\n",
       "</table>\n",
       "</div>"
      ],
      "text/plain": [
       "                    count      mean       std       min       25%       50%  \\\n",
       "Market                                                                        \n",
       "Chicago, IL        1364.0 -0.000005  0.000762 -0.008057 -0.000109  0.000017   \n",
       "Houston, TX        3499.0 -0.000010  0.000444 -0.005132 -0.000090 -0.000005   \n",
       "Miami/Hialeah, FL   734.0 -0.000017  0.004771 -0.032691 -0.000606  0.000075   \n",
       "\n",
       "                        75%       max  \n",
       "Market                                 \n",
       "Chicago, IL        0.000172  0.005164  \n",
       "Houston, TX        0.000066  0.004404  \n",
       "Miami/Hialeah, FL  0.000824  0.043162  "
      ]
     },
     "execution_count": 202,
     "metadata": {},
     "output_type": "execute_result"
    }
   ],
   "source": [
    "df.groupby([\"Market\"])[\"market_share_diff\"].describe()"
   ]
  },
  {
   "cell_type": "code",
   "execution_count": 203,
   "id": "74a5ef37",
   "metadata": {},
   "outputs": [
    {
     "data": {
      "text/html": [
       "<div>\n",
       "<style scoped>\n",
       "    .dataframe tbody tr th:only-of-type {\n",
       "        vertical-align: middle;\n",
       "    }\n",
       "\n",
       "    .dataframe tbody tr th {\n",
       "        vertical-align: top;\n",
       "    }\n",
       "\n",
       "    .dataframe thead th {\n",
       "        text-align: right;\n",
       "    }\n",
       "</style>\n",
       "<table border=\"1\" class=\"dataframe\">\n",
       "  <thead>\n",
       "    <tr style=\"text-align: right;\">\n",
       "      <th></th>\n",
       "      <th>count</th>\n",
       "      <th>mean</th>\n",
       "      <th>std</th>\n",
       "      <th>min</th>\n",
       "      <th>25%</th>\n",
       "      <th>50%</th>\n",
       "      <th>75%</th>\n",
       "      <th>max</th>\n",
       "    </tr>\n",
       "    <tr>\n",
       "      <th>Market</th>\n",
       "      <th></th>\n",
       "      <th></th>\n",
       "      <th></th>\n",
       "      <th></th>\n",
       "      <th></th>\n",
       "      <th></th>\n",
       "      <th></th>\n",
       "      <th></th>\n",
       "    </tr>\n",
       "  </thead>\n",
       "  <tbody>\n",
       "    <tr>\n",
       "      <th>Chicago, IL</th>\n",
       "      <td>1364.0</td>\n",
       "      <td>0.404525</td>\n",
       "      <td>5.163495</td>\n",
       "      <td>-40.139272</td>\n",
       "      <td>-0.640805</td>\n",
       "      <td>-0.012491</td>\n",
       "      <td>1.140347</td>\n",
       "      <td>46.026339</td>\n",
       "    </tr>\n",
       "    <tr>\n",
       "      <th>Houston, TX</th>\n",
       "      <td>3499.0</td>\n",
       "      <td>1.264811</td>\n",
       "      <td>5.039737</td>\n",
       "      <td>-42.508798</td>\n",
       "      <td>-0.626376</td>\n",
       "      <td>1.109420</td>\n",
       "      <td>2.813192</td>\n",
       "      <td>48.990902</td>\n",
       "    </tr>\n",
       "    <tr>\n",
       "      <th>Miami/Hialeah, FL</th>\n",
       "      <td>734.0</td>\n",
       "      <td>0.526315</td>\n",
       "      <td>10.959932</td>\n",
       "      <td>-45.925124</td>\n",
       "      <td>-3.604913</td>\n",
       "      <td>-0.228103</td>\n",
       "      <td>3.674253</td>\n",
       "      <td>73.589986</td>\n",
       "    </tr>\n",
       "  </tbody>\n",
       "</table>\n",
       "</div>"
      ],
      "text/plain": [
       "                    count      mean        std        min       25%       50%  \\\n",
       "Market                                                                          \n",
       "Chicago, IL        1364.0  0.404525   5.163495 -40.139272 -0.640805 -0.012491   \n",
       "Houston, TX        3499.0  1.264811   5.039737 -42.508798 -0.626376  1.109420   \n",
       "Miami/Hialeah, FL   734.0  0.526315  10.959932 -45.925124 -3.604913 -0.228103   \n",
       "\n",
       "                        75%        max  \n",
       "Market                                  \n",
       "Chicago, IL        1.140347  46.026339  \n",
       "Houston, TX        2.813192  48.990902  \n",
       "Miami/Hialeah, FL  3.674253  73.589986  "
      ]
     },
     "execution_count": 203,
     "metadata": {},
     "output_type": "execute_result"
    }
   ],
   "source": [
    "df.groupby([\"Market\"])[\"price_diff\"].describe()"
   ]
  },
  {
   "cell_type": "code",
   "execution_count": 204,
   "id": "868f5b0c",
   "metadata": {},
   "outputs": [
    {
     "data": {
      "text/plain": [
       "Market             r_greater_exante\n",
       "Chicago, IL        False                773\n",
       "                   True                 591\n",
       "Houston, TX        False               2133\n",
       "                   True                1366\n",
       "Miami/Hialeah, FL  False                482\n",
       "                   True                 252\n",
       "dtype: int64"
      ]
     },
     "execution_count": 204,
     "metadata": {},
     "output_type": "execute_result"
    }
   ],
   "source": [
    "df.groupby([\"Market\",\"r_greater_exante\"]).size()"
   ]
  },
  {
   "cell_type": "code",
   "execution_count": 205,
   "id": "f6f31006",
   "metadata": {},
   "outputs": [
    {
     "data": {
      "text/plain": [
       "-14.602465381055685"
      ]
     },
     "execution_count": 205,
     "metadata": {},
     "output_type": "execute_result"
    }
   ],
   "source": [
    "df[\"revenue_diff\"].sum()/1000000"
   ]
  },
  {
   "cell_type": "code",
   "execution_count": 206,
   "id": "a70e5eb8",
   "metadata": {},
   "outputs": [
    {
     "data": {
      "text/plain": [
       "r_greater_exante\n",
       "False    19.831555\n",
       "True    -34.434020\n",
       "Name: revenue_diff, dtype: float64"
      ]
     },
     "execution_count": 206,
     "metadata": {},
     "output_type": "execute_result"
    }
   ],
   "source": [
    "\n",
    "\n",
    "df.groupby([\"r_greater_exante\"])[\"revenue_diff\"].sum()/1000000\n",
    "                                        "
   ]
  },
  {
   "cell_type": "code",
   "execution_count": 207,
   "id": "12c2ecad",
   "metadata": {},
   "outputs": [
    {
     "data": {
      "text/plain": [
       "Market\n",
       "Chicago, IL          -4.813694\n",
       "Houston, TX          12.027355\n",
       "Miami/Hialeah, FL   -27.969254\n",
       "Name: ps_diff, dtype: float64"
      ]
     },
     "execution_count": 207,
     "metadata": {},
     "output_type": "execute_result"
    }
   ],
   "source": [
    "df[\"ps_cf\"] = df[\"Revenue_cf\"]-df[\"cost_cf\"]\n",
    "df[\"ps_ne\"] = df[\"Revenue_ne\"]-df[\"cost_ne\"]\n",
    "df[\"ps_diff\"] = df[\"ps_cf\"] - df[\"ps_ne\"]\n",
    "df.groupby(\"Market\")[\"ps_diff\"].sum()/1000000"
   ]
  },
  {
   "cell_type": "code",
   "execution_count": 208,
   "id": "fa3dc65c",
   "metadata": {},
   "outputs": [
    {
     "data": {
      "text/plain": [
       "-20.75559364807471"
      ]
     },
     "execution_count": 208,
     "metadata": {},
     "output_type": "execute_result"
    }
   ],
   "source": [
    "df[\"ps_diff\"].sum()/1000000"
   ]
  },
  {
   "cell_type": "code",
   "execution_count": 209,
   "id": "56f81512",
   "metadata": {},
   "outputs": [
    {
     "data": {
      "text/plain": [
       "r_greater_exante\n",
       "False    11.194527\n",
       "True    -31.950121\n",
       "Name: ps_diff, dtype: float64"
      ]
     },
     "execution_count": 209,
     "metadata": {},
     "output_type": "execute_result"
    }
   ],
   "source": [
    "df.groupby([\"r_greater_exante\"])[\"ps_diff\"].sum()/1000000"
   ]
  },
  {
   "cell_type": "code",
   "execution_count": 210,
   "id": "fba37b47",
   "metadata": {},
   "outputs": [
    {
     "data": {
      "text/plain": [
       "6.153128267019037"
      ]
     },
     "execution_count": 210,
     "metadata": {},
     "output_type": "execute_result"
    }
   ],
   "source": [
    "df[\"cost_diff\"] = df[\"cost_cf\"] - df[\"cost_ne\"]\n",
    "df[\"cost_diff\"].sum()/1000000\n"
   ]
  },
  {
   "cell_type": "code",
   "execution_count": 211,
   "id": "85b76ed5",
   "metadata": {},
   "outputs": [
    {
     "data": {
      "text/plain": [
       "r_greater_exante\n",
       "False    8.637028\n",
       "True    -2.483899\n",
       "Name: cost_diff, dtype: float64"
      ]
     },
     "execution_count": 211,
     "metadata": {},
     "output_type": "execute_result"
    }
   ],
   "source": [
    "df.groupby([\"r_greater_exante\"])[\"cost_diff\"].sum()/1000000"
   ]
  },
  {
   "cell_type": "code",
   "execution_count": 212,
   "id": "5470b750",
   "metadata": {},
   "outputs": [
    {
     "data": {
      "text/plain": [
       "Market\n",
       "Chicago, IL          11.138619\n",
       "Houston, TX          -0.946559\n",
       "Miami/Hialeah, FL    -4.038931\n",
       "Name: cost_diff, dtype: float64"
      ]
     },
     "execution_count": 212,
     "metadata": {},
     "output_type": "execute_result"
    }
   ],
   "source": [
    "df.groupby(\"Market\")[\"cost_diff\"].sum()/1000000"
   ]
  },
  {
   "cell_type": "code",
   "execution_count": 213,
   "id": "bfcd1c5e",
   "metadata": {},
   "outputs": [
    {
     "data": {
      "text/plain": [
       "-0.15597745121660594"
      ]
     },
     "execution_count": 213,
     "metadata": {},
     "output_type": "execute_result"
    }
   ],
   "source": [
    "df[\"market_share_sum_diff\"] = df[\"market_share_sum_cf\"] - df[\"market_share_sum_ne\"]\n",
    "\n",
    "total_market_share = df[[\"Market\",\"year\",\"month\",\"market_share_sum_diff\",\"market_size\"]].drop_duplicates()\n",
    "\n",
    "total_market_share[\"market_share_sum_diff\"].mean()*100"
   ]
  },
  {
   "cell_type": "code",
   "execution_count": 214,
   "id": "8a4d37ea",
   "metadata": {},
   "outputs": [
    {
     "data": {
      "text/plain": [
       "Market\n",
       "Chicago, IL         -0.058629\n",
       "Houston, TX         -0.305346\n",
       "Miami/Hialeah, FL   -0.103957\n",
       "Name: market_share_sum_diff, dtype: float64"
      ]
     },
     "execution_count": 214,
     "metadata": {},
     "output_type": "execute_result"
    }
   ],
   "source": [
    "\n",
    "total_market_share.groupby(\"Market\")[\"market_share_sum_diff\"].mean()*100"
   ]
  },
  {
   "cell_type": "code",
   "execution_count": 215,
   "id": "254f8a36",
   "metadata": {},
   "outputs": [
    {
     "data": {
      "text/plain": [
       "operation\n",
       "Chain_affiliated     5.841941\n",
       "Independent        -26.597534\n",
       "Name: ps_diff, dtype: float64"
      ]
     },
     "execution_count": 215,
     "metadata": {},
     "output_type": "execute_result"
    }
   ],
   "source": [
    "df.groupby(\"operation\")[\"ps_diff\"].sum()/1000000"
   ]
  },
  {
   "cell_type": "code",
   "execution_count": 216,
   "id": "16c62d1d",
   "metadata": {},
   "outputs": [
    {
     "data": {
      "text/plain": [
       "r_greater_exante  operation       \n",
       "False             Chain_affiliated    17.246853\n",
       "                  Independent         -6.052326\n",
       "True              Chain_affiliated   -11.404912\n",
       "                  Independent        -20.545209\n",
       "Name: ps_diff, dtype: float64"
      ]
     },
     "execution_count": 216,
     "metadata": {},
     "output_type": "execute_result"
    }
   ],
   "source": [
    "df.groupby([\"r_greater_exante\",\"operation\"])[\"ps_diff\"].sum()/1000000"
   ]
  },
  {
   "cell_type": "code",
   "execution_count": 217,
   "id": "05c7d08c",
   "metadata": {},
   "outputs": [
    {
     "data": {
      "text/plain": [
       "operation\n",
       "Chain_affiliated    20.377873\n",
       "Independent        -34.980338\n",
       "Name: revenue_diff, dtype: float64"
      ]
     },
     "execution_count": 217,
     "metadata": {},
     "output_type": "execute_result"
    }
   ],
   "source": [
    "df.groupby(\"operation\")[\"revenue_diff\"].sum()/1000000"
   ]
  },
  {
   "cell_type": "code",
   "execution_count": 218,
   "id": "bb1e7a84",
   "metadata": {},
   "outputs": [
    {
     "data": {
      "text/plain": [
       "r_greater_exante  operation       \n",
       "False             Chain_affiliated    41.460305\n",
       "                  Independent        -21.628750\n",
       "True              Chain_affiliated   -21.082432\n",
       "                  Independent        -13.351588\n",
       "Name: revenue_diff, dtype: float64"
      ]
     },
     "execution_count": 218,
     "metadata": {},
     "output_type": "execute_result"
    }
   ],
   "source": [
    "df.groupby([\"r_greater_exante\",\"operation\"])[\"revenue_diff\"].sum()/1000000"
   ]
  },
  {
   "cell_type": "code",
   "execution_count": 219,
   "id": "43ff417a",
   "metadata": {},
   "outputs": [
    {
     "data": {
      "text/plain": [
       "operation\n",
       "Chain_affiliated    14.535932\n",
       "Independent         -8.382804\n",
       "Name: cost_diff, dtype: float64"
      ]
     },
     "execution_count": 219,
     "metadata": {},
     "output_type": "execute_result"
    }
   ],
   "source": [
    "df.groupby(\"operation\")[\"cost_diff\"].sum()/1000000"
   ]
  },
  {
   "cell_type": "code",
   "execution_count": 220,
   "id": "043976b9",
   "metadata": {},
   "outputs": [
    {
     "data": {
      "text/plain": [
       "r_greater_exante  operation       \n",
       "False             Chain_affiliated    24.213452\n",
       "                  Independent        -15.576425\n",
       "True              Chain_affiliated    -9.677520\n",
       "                  Independent          7.193621\n",
       "Name: cost_diff, dtype: float64"
      ]
     },
     "execution_count": 220,
     "metadata": {},
     "output_type": "execute_result"
    }
   ],
   "source": [
    "df.groupby([\"r_greater_exante\",\"operation\"])[\"cost_diff\"].sum()/1000000"
   ]
  },
  {
   "cell_type": "code",
   "execution_count": 221,
   "id": "b61a3813",
   "metadata": {},
   "outputs": [
    {
     "data": {
      "text/plain": [
       "operation         r_greater_exante\n",
       "Chain_affiliated  False               2939\n",
       "                  True                1889\n",
       "Independent       False                449\n",
       "                  True                 320\n",
       "dtype: int64"
      ]
     },
     "execution_count": 221,
     "metadata": {},
     "output_type": "execute_result"
    }
   ],
   "source": [
    "df.groupby([\"operation\",\"r_greater_exante\"]).size()"
   ]
  },
  {
   "cell_type": "code",
   "execution_count": 222,
   "id": "c560d79c",
   "metadata": {},
   "outputs": [
    {
     "data": {
      "text/plain": [
       "r_greater_exante\n",
       "False    3388\n",
       "True     2209\n",
       "dtype: int64"
      ]
     },
     "execution_count": 222,
     "metadata": {},
     "output_type": "execute_result"
    }
   ],
   "source": [
    "df.groupby([\"r_greater_exante\"]).size()"
   ]
  },
  {
   "cell_type": "code",
   "execution_count": 223,
   "id": "f83e3cf6",
   "metadata": {},
   "outputs": [
    {
     "data": {
      "text/plain": [
       "['level_0',\n",
       " 'post_month',\n",
       " 'shareid',\n",
       " 'year_month',\n",
       " 'Supply',\n",
       " 'Demand',\n",
       " 'Revenue',\n",
       " 'Occ',\n",
       " 'ADR',\n",
       " 'RevPAR',\n",
       " 'Country',\n",
       " 'Market',\n",
       " 'Chain',\n",
       " 'Owner',\n",
       " 'Mgmt',\n",
       " 'ParentCompany',\n",
       " 'Operation',\n",
       " 'Scale',\n",
       " 'Class',\n",
       " 'Location',\n",
       " 'OpenDate',\n",
       " 'SizeCode',\n",
       " 'max_str_month',\n",
       " 'max_review_month',\n",
       " 'min_review_month',\n",
       " 'on_ta',\n",
       " 'monthly_rating_mean',\n",
       " 'monthly_review_count',\n",
       " 'monthly_one_star_count',\n",
       " 'monthly_two_star_count',\n",
       " 'monthly_three_star_count',\n",
       " 'monthly_four_star_count',\n",
       " 'monthly_five_star_count',\n",
       " 'monthly_hotel_response_count',\n",
       " 'monthly_partnership_reviews_count',\n",
       " 'cleanliness_count',\n",
       " 'cleanliness_mean',\n",
       " 'location_count',\n",
       " 'location_mean',\n",
       " 'sleep_quality_count',\n",
       " 'sleep_quality_mean',\n",
       " 'room_quality_count',\n",
       " 'room_quality_mean',\n",
       " 'service_count',\n",
       " 'service_mean',\n",
       " 'value_count',\n",
       " 'value_mean',\n",
       " 'renovate',\n",
       " 'solo_count',\n",
       " 'couple_count',\n",
       " 'family_count',\n",
       " 'business_count',\n",
       " 'month_with_reviews',\n",
       " 'num_of_reviews',\n",
       " 'total_one_star',\n",
       " 'total_two_star',\n",
       " 'total_three_star',\n",
       " 'total_four_star',\n",
       " 'total_five_star',\n",
       " 'accum_rating',\n",
       " 'total_one_star_%',\n",
       " 'total_two_star_%',\n",
       " 'total_three_star_%',\n",
       " 'total_four_star_%',\n",
       " 'total_five_star_%',\n",
       " 'is_reviewed',\n",
       " 'ln_revenue',\n",
       " 'ln_revpar',\n",
       " 'ln_accum_rating',\n",
       " 'ln_num_of_reviews',\n",
       " 'ln_revenue_next_1m',\n",
       " 'ln_revpar_next_1m',\n",
       " 'ln_revenue_next_2m',\n",
       " 'ln_revpar_next_2m',\n",
       " 'ln_revenue_next_3m',\n",
       " 'ln_revpar_next_3m',\n",
       " 'ln_revenue_next_4m',\n",
       " 'ln_revpar_next_4m',\n",
       " 'ln_revenue_next_5m',\n",
       " 'ln_revpar_next_5m',\n",
       " 'ln_revenue_next_6m',\n",
       " 'ln_revpar_next_6m',\n",
       " 'ln_revenue_next_3m_avg',\n",
       " 'ln_revpar_next_3m_avg',\n",
       " 'ln_revenue_next_6m_avg',\n",
       " 'ln_revpar_next_6m_avg',\n",
       " 'year',\n",
       " 'month',\n",
       " 'displayed_rating',\n",
       " 'round_up',\n",
       " 'Class Group',\n",
       " 'hotel_age',\n",
       " 'high_season',\n",
       " 'alpha',\n",
       " 'avg_price',\n",
       " 'avg_demand',\n",
       " 'price_elasticity',\n",
       " 'Group Monthly Demand',\n",
       " 'hotel_count_in_group_chain',\n",
       " 'hotel_count_in_group_franchised',\n",
       " 'hotel_count_in_group_independent',\n",
       " '1_size',\n",
       " '2_size',\n",
       " '3_size',\n",
       " '4_size',\n",
       " '5_size',\n",
       " 'Group Avg Age',\n",
       " 'Market Monthly Supply',\n",
       " 'Market Monthly Demand',\n",
       " 'hotel_count_in_market',\n",
       " 'market_share',\n",
       " 'group_share',\n",
       " 's_0',\n",
       " 'ln_group_share',\n",
       " 'quality',\n",
       " 'Rating',\n",
       " 'ReviewCount_Reviewed',\n",
       " 'Rating_ReviewCount_Reviewed',\n",
       " 'market_year_month',\n",
       " 'ln_ADR',\n",
       " 'quality_hat',\n",
       " 'market_size',\n",
       " 'max_group_price',\n",
       " 'mc_t',\n",
       " 'q_upper',\n",
       " 'excess_demand',\n",
       " 'max_supply_year',\n",
       " 'capacity',\n",
       " 'class_group_capacity',\n",
       " 'competitor_capacity',\n",
       " 'hotel_fixed_effect_id',\n",
       " 'market_time_fixed_effect_id',\n",
       " 'hotel_fixed_effect',\n",
       " 'market_time_fixed_effect',\n",
       " 'price_ne',\n",
       " 'delta',\n",
       " 'delta_ne',\n",
       " 'D_g_sum_ne',\n",
       " 'market_share_ne',\n",
       " 'demand_ne',\n",
       " 'group_share_ne',\n",
       " 'market_share_sum_ne',\n",
       " 's_0_ne',\n",
       " 'operation',\n",
       " 'exante_rating_baseline',\n",
       " 'exante_rating_obs_less',\n",
       " 'exante_rating_obs_less_brand',\n",
       " 'exante_rating',\n",
       " 'delta_cf_ne_temp',\n",
       " 'price_cf',\n",
       " 'delta_cf_temp',\n",
       " 'delta_cf',\n",
       " 'D_g_sum_cf',\n",
       " 'market_share_cf',\n",
       " 'demand_cf',\n",
       " 'group_share_cf',\n",
       " 'market_share_sum_cf',\n",
       " 's_0_cf',\n",
       " 'cost_ne',\n",
       " 'cost_cf',\n",
       " 'r_greater_exante',\n",
       " 'market_share_cf_delta_diff',\n",
       " 'Revenue_cf',\n",
       " 'Revenue_ne',\n",
       " 'revenue_diff',\n",
       " 'price_diff',\n",
       " 'market_share_diff',\n",
       " 'ps_cf',\n",
       " 'ps_ne',\n",
       " 'ps_diff',\n",
       " 'cost_diff',\n",
       " 'market_share_sum_diff']"
      ]
     },
     "execution_count": 223,
     "metadata": {},
     "output_type": "execute_result"
    }
   ],
   "source": [
    "list(df.columns)"
   ]
  },
  {
   "cell_type": "code",
   "execution_count": 224,
   "id": "06121910",
   "metadata": {},
   "outputs": [],
   "source": [
    "total_market_share = df.groupby([\"operation\",\"year\",\"month\"])[\"market_share_ne\"].sum().reset_index().rename(columns={\"market_share_ne\":\"market_share_sum\"})\n",
    "total_market_share_cf = df.groupby([\"operation\",\"year\",\"month\"])[\"market_share_cf\"].sum().reset_index().rename(columns={\"market_share_cf\":\"market_share_sum_cf\"})\n",
    "\n",
    "df_3 = df.merge(total_market_share, on=[\"operation\",\"year\",\"month\"]).merge(total_market_share_cf, on=[\"operation\",\"year\",\"month\"])\n",
    "\n",
    "df_3[\"market_share_sum_diff\"] = df_3[\"market_share_sum_cf_y\"] - df_3[\"market_share_sum\"]\n",
    "\n",
    "total_market_share = df_3[[\"operation\",\"year\",\"month\",\"market_share_sum_diff\",\"market_size\"]].drop_duplicates()\n",
    "\n",
    "        "
   ]
  },
  {
   "cell_type": "code",
   "execution_count": 225,
   "id": "9b5525ee",
   "metadata": {},
   "outputs": [
    {
     "data": {
      "text/plain": [
       "operation\n",
       "Chain_affiliated    0.352339\n",
       "Independent        -0.820271\n",
       "Name: market_share_sum_diff, dtype: float64"
      ]
     },
     "execution_count": 225,
     "metadata": {},
     "output_type": "execute_result"
    }
   ],
   "source": [
    "total_market_share.groupby(\"operation\")[\"market_share_sum_diff\"].mean()*100"
   ]
  },
  {
   "cell_type": "code",
   "execution_count": 181,
   "id": "fa1d3e0e",
   "metadata": {},
   "outputs": [
    {
     "data": {
      "text/html": [
       "<div>\n",
       "<style scoped>\n",
       "    .dataframe tbody tr th:only-of-type {\n",
       "        vertical-align: middle;\n",
       "    }\n",
       "\n",
       "    .dataframe tbody tr th {\n",
       "        vertical-align: top;\n",
       "    }\n",
       "\n",
       "    .dataframe thead th {\n",
       "        text-align: right;\n",
       "    }\n",
       "</style>\n",
       "<table border=\"1\" class=\"dataframe\">\n",
       "  <thead>\n",
       "    <tr style=\"text-align: right;\">\n",
       "      <th></th>\n",
       "      <th>level_0</th>\n",
       "      <th>post_month</th>\n",
       "      <th>shareid</th>\n",
       "      <th>year_month</th>\n",
       "      <th>Supply</th>\n",
       "      <th>Demand</th>\n",
       "      <th>Revenue</th>\n",
       "      <th>Occ</th>\n",
       "      <th>ADR</th>\n",
       "      <th>RevPAR</th>\n",
       "      <th>...</th>\n",
       "      <th>revenue_diff</th>\n",
       "      <th>price_diff</th>\n",
       "      <th>market_share_diff</th>\n",
       "      <th>ps_cf</th>\n",
       "      <th>ps_ne</th>\n",
       "      <th>ps_diff</th>\n",
       "      <th>cost_diff</th>\n",
       "      <th>market_share_sum_diff</th>\n",
       "      <th>market_share_sum</th>\n",
       "      <th>market_share_sum_cf_y</th>\n",
       "    </tr>\n",
       "  </thead>\n",
       "  <tbody>\n",
       "    <tr>\n",
       "      <th>0</th>\n",
       "      <td>1</td>\n",
       "      <td>2016-01</td>\n",
       "      <td>88362</td>\n",
       "      <td>2016-01-01</td>\n",
       "      <td>10509.0</td>\n",
       "      <td>4055.0</td>\n",
       "      <td>1248453.00</td>\n",
       "      <td>38.5859</td>\n",
       "      <td>307.879901</td>\n",
       "      <td>118.798458</td>\n",
       "      <td>...</td>\n",
       "      <td>-42739.605791</td>\n",
       "      <td>2.043685</td>\n",
       "      <td>-0.000131</td>\n",
       "      <td>43696.911316</td>\n",
       "      <td>38464.722516</td>\n",
       "      <td>5232.188800</td>\n",
       "      <td>-47971.794591</td>\n",
       "      <td>0.009272</td>\n",
       "      <td>1.325468</td>\n",
       "      <td>1.33474</td>\n",
       "    </tr>\n",
       "    <tr>\n",
       "      <th>1</th>\n",
       "      <td>3</td>\n",
       "      <td>2016-01</td>\n",
       "      <td>94226</td>\n",
       "      <td>2016-01-01</td>\n",
       "      <td>5859.0</td>\n",
       "      <td>2274.0</td>\n",
       "      <td>743277.99</td>\n",
       "      <td>38.8120</td>\n",
       "      <td>326.859274</td>\n",
       "      <td>126.860896</td>\n",
       "      <td>...</td>\n",
       "      <td>621265.688669</td>\n",
       "      <td>-29.486814</td>\n",
       "      <td>0.001833</td>\n",
       "      <td>-99838.774617</td>\n",
       "      <td>9730.393344</td>\n",
       "      <td>-109569.167960</td>\n",
       "      <td>730834.856629</td>\n",
       "      <td>0.009272</td>\n",
       "      <td>1.325468</td>\n",
       "      <td>1.33474</td>\n",
       "    </tr>\n",
       "    <tr>\n",
       "      <th>2</th>\n",
       "      <td>4</td>\n",
       "      <td>2016-01</td>\n",
       "      <td>105904</td>\n",
       "      <td>2016-01-01</td>\n",
       "      <td>18910.0</td>\n",
       "      <td>11718.0</td>\n",
       "      <td>2227185.00</td>\n",
       "      <td>61.9672</td>\n",
       "      <td>190.065284</td>\n",
       "      <td>117.778160</td>\n",
       "      <td>...</td>\n",
       "      <td>-498005.409580</td>\n",
       "      <td>12.838272</td>\n",
       "      <td>-0.002561</td>\n",
       "      <td>252568.576309</td>\n",
       "      <td>207771.090169</td>\n",
       "      <td>44797.486140</td>\n",
       "      <td>-542802.895720</td>\n",
       "      <td>0.009272</td>\n",
       "      <td>1.325468</td>\n",
       "      <td>1.33474</td>\n",
       "    </tr>\n",
       "    <tr>\n",
       "      <th>3</th>\n",
       "      <td>5</td>\n",
       "      <td>2016-01</td>\n",
       "      <td>108548</td>\n",
       "      <td>2016-01-01</td>\n",
       "      <td>12400.0</td>\n",
       "      <td>5208.0</td>\n",
       "      <td>713046.00</td>\n",
       "      <td>42.0000</td>\n",
       "      <td>136.913594</td>\n",
       "      <td>57.503710</td>\n",
       "      <td>...</td>\n",
       "      <td>18713.881768</td>\n",
       "      <td>-1.890109</td>\n",
       "      <td>0.000161</td>\n",
       "      <td>46961.262255</td>\n",
       "      <td>53764.638024</td>\n",
       "      <td>-6803.375769</td>\n",
       "      <td>25517.257537</td>\n",
       "      <td>0.009272</td>\n",
       "      <td>1.325468</td>\n",
       "      <td>1.33474</td>\n",
       "    </tr>\n",
       "    <tr>\n",
       "      <th>4</th>\n",
       "      <td>6</td>\n",
       "      <td>2016-01</td>\n",
       "      <td>117817</td>\n",
       "      <td>2016-01-01</td>\n",
       "      <td>9796.0</td>\n",
       "      <td>4682.0</td>\n",
       "      <td>1214459.00</td>\n",
       "      <td>47.7950</td>\n",
       "      <td>259.388936</td>\n",
       "      <td>123.974990</td>\n",
       "      <td>...</td>\n",
       "      <td>765503.386444</td>\n",
       "      <td>-26.255290</td>\n",
       "      <td>0.002925</td>\n",
       "      <td>-202143.602305</td>\n",
       "      <td>-7134.680962</td>\n",
       "      <td>-195008.921344</td>\n",
       "      <td>960512.307788</td>\n",
       "      <td>0.009272</td>\n",
       "      <td>1.325468</td>\n",
       "      <td>1.33474</td>\n",
       "    </tr>\n",
       "    <tr>\n",
       "      <th>...</th>\n",
       "      <td>...</td>\n",
       "      <td>...</td>\n",
       "      <td>...</td>\n",
       "      <td>...</td>\n",
       "      <td>...</td>\n",
       "      <td>...</td>\n",
       "      <td>...</td>\n",
       "      <td>...</td>\n",
       "      <td>...</td>\n",
       "      <td>...</td>\n",
       "      <td>...</td>\n",
       "      <td>...</td>\n",
       "      <td>...</td>\n",
       "      <td>...</td>\n",
       "      <td>...</td>\n",
       "      <td>...</td>\n",
       "      <td>...</td>\n",
       "      <td>...</td>\n",
       "      <td>...</td>\n",
       "      <td>...</td>\n",
       "      <td>...</td>\n",
       "    </tr>\n",
       "    <tr>\n",
       "      <th>5592</th>\n",
       "      <td>5537</td>\n",
       "      <td>2016-12</td>\n",
       "      <td>84172</td>\n",
       "      <td>2016-12-01</td>\n",
       "      <td>2809.0</td>\n",
       "      <td>2453.0</td>\n",
       "      <td>287065.00</td>\n",
       "      <td>87.3264</td>\n",
       "      <td>117.026091</td>\n",
       "      <td>102.194731</td>\n",
       "      <td>...</td>\n",
       "      <td>-83121.546081</td>\n",
       "      <td>14.394817</td>\n",
       "      <td>-0.003830</td>\n",
       "      <td>-14632.221761</td>\n",
       "      <td>2096.114544</td>\n",
       "      <td>-16728.336305</td>\n",
       "      <td>-66393.209776</td>\n",
       "      <td>-0.015868</td>\n",
       "      <td>0.432108</td>\n",
       "      <td>0.41624</td>\n",
       "    </tr>\n",
       "    <tr>\n",
       "      <th>5593</th>\n",
       "      <td>5544</td>\n",
       "      <td>2016-12</td>\n",
       "      <td>81425</td>\n",
       "      <td>2016-12-01</td>\n",
       "      <td>1395.0</td>\n",
       "      <td>1194.0</td>\n",
       "      <td>184907.00</td>\n",
       "      <td>85.5913</td>\n",
       "      <td>154.863484</td>\n",
       "      <td>132.549821</td>\n",
       "      <td>...</td>\n",
       "      <td>6628.387594</td>\n",
       "      <td>1.009220</td>\n",
       "      <td>0.000105</td>\n",
       "      <td>-42137.724342</td>\n",
       "      <td>-48606.610345</td>\n",
       "      <td>6468.886003</td>\n",
       "      <td>159.501591</td>\n",
       "      <td>-0.015868</td>\n",
       "      <td>0.432108</td>\n",
       "      <td>0.41624</td>\n",
       "    </tr>\n",
       "    <tr>\n",
       "      <th>5594</th>\n",
       "      <td>5577</td>\n",
       "      <td>2016-12</td>\n",
       "      <td>740551</td>\n",
       "      <td>2016-12-01</td>\n",
       "      <td>1984.0</td>\n",
       "      <td>1928.0</td>\n",
       "      <td>273603.00</td>\n",
       "      <td>97.1774</td>\n",
       "      <td>141.910270</td>\n",
       "      <td>137.904738</td>\n",
       "      <td>...</td>\n",
       "      <td>-28744.793896</td>\n",
       "      <td>6.549600</td>\n",
       "      <td>-0.001032</td>\n",
       "      <td>63607.929187</td>\n",
       "      <td>79971.025301</td>\n",
       "      <td>-16363.096114</td>\n",
       "      <td>-12381.697783</td>\n",
       "      <td>-0.015868</td>\n",
       "      <td>0.432108</td>\n",
       "      <td>0.41624</td>\n",
       "    </tr>\n",
       "    <tr>\n",
       "      <th>5595</th>\n",
       "      <td>5580</td>\n",
       "      <td>2016-12</td>\n",
       "      <td>86353</td>\n",
       "      <td>2016-12-01</td>\n",
       "      <td>6756.0</td>\n",
       "      <td>5442.0</td>\n",
       "      <td>1299259.00</td>\n",
       "      <td>80.5506</td>\n",
       "      <td>238.746601</td>\n",
       "      <td>192.311871</td>\n",
       "      <td>...</td>\n",
       "      <td>-714248.207249</td>\n",
       "      <td>19.757487</td>\n",
       "      <td>-0.012352</td>\n",
       "      <td>94882.000806</td>\n",
       "      <td>194301.625520</td>\n",
       "      <td>-99419.624715</td>\n",
       "      <td>-614828.582535</td>\n",
       "      <td>-0.015868</td>\n",
       "      <td>0.432108</td>\n",
       "      <td>0.41624</td>\n",
       "    </tr>\n",
       "    <tr>\n",
       "      <th>5596</th>\n",
       "      <td>5584</td>\n",
       "      <td>2016-12</td>\n",
       "      <td>100205</td>\n",
       "      <td>2016-12-01</td>\n",
       "      <td>1790.0</td>\n",
       "      <td>1494.0</td>\n",
       "      <td>404968.00</td>\n",
       "      <td>83.4636</td>\n",
       "      <td>271.062918</td>\n",
       "      <td>226.239106</td>\n",
       "      <td>...</td>\n",
       "      <td>-497047.537380</td>\n",
       "      <td>37.044439</td>\n",
       "      <td>-0.007443</td>\n",
       "      <td>119030.784463</td>\n",
       "      <td>440716.901491</td>\n",
       "      <td>-321686.117028</td>\n",
       "      <td>-175361.420352</td>\n",
       "      <td>-0.015868</td>\n",
       "      <td>0.432108</td>\n",
       "      <td>0.41624</td>\n",
       "    </tr>\n",
       "  </tbody>\n",
       "</table>\n",
       "<p>5597 rows × 174 columns</p>\n",
       "</div>"
      ],
      "text/plain": [
       "      level_0 post_month  shareid  year_month   Supply   Demand     Revenue  \\\n",
       "0           1    2016-01    88362  2016-01-01  10509.0   4055.0  1248453.00   \n",
       "1           3    2016-01    94226  2016-01-01   5859.0   2274.0   743277.99   \n",
       "2           4    2016-01   105904  2016-01-01  18910.0  11718.0  2227185.00   \n",
       "3           5    2016-01   108548  2016-01-01  12400.0   5208.0   713046.00   \n",
       "4           6    2016-01   117817  2016-01-01   9796.0   4682.0  1214459.00   \n",
       "...       ...        ...      ...         ...      ...      ...         ...   \n",
       "5592     5537    2016-12    84172  2016-12-01   2809.0   2453.0   287065.00   \n",
       "5593     5544    2016-12    81425  2016-12-01   1395.0   1194.0   184907.00   \n",
       "5594     5577    2016-12   740551  2016-12-01   1984.0   1928.0   273603.00   \n",
       "5595     5580    2016-12    86353  2016-12-01   6756.0   5442.0  1299259.00   \n",
       "5596     5584    2016-12   100205  2016-12-01   1790.0   1494.0   404968.00   \n",
       "\n",
       "          Occ         ADR      RevPAR  ...   revenue_diff price_diff  \\\n",
       "0     38.5859  307.879901  118.798458  ...  -42739.605791   2.043685   \n",
       "1     38.8120  326.859274  126.860896  ...  621265.688669 -29.486814   \n",
       "2     61.9672  190.065284  117.778160  ... -498005.409580  12.838272   \n",
       "3     42.0000  136.913594   57.503710  ...   18713.881768  -1.890109   \n",
       "4     47.7950  259.388936  123.974990  ...  765503.386444 -26.255290   \n",
       "...       ...         ...         ...  ...            ...        ...   \n",
       "5592  87.3264  117.026091  102.194731  ...  -83121.546081  14.394817   \n",
       "5593  85.5913  154.863484  132.549821  ...    6628.387594   1.009220   \n",
       "5594  97.1774  141.910270  137.904738  ...  -28744.793896   6.549600   \n",
       "5595  80.5506  238.746601  192.311871  ... -714248.207249  19.757487   \n",
       "5596  83.4636  271.062918  226.239106  ... -497047.537380  37.044439   \n",
       "\n",
       "      market_share_diff          ps_cf          ps_ne        ps_diff  \\\n",
       "0             -0.000131   43696.911316   38464.722516    5232.188800   \n",
       "1              0.001833  -99838.774617    9730.393344 -109569.167960   \n",
       "2             -0.002561  252568.576309  207771.090169   44797.486140   \n",
       "3              0.000161   46961.262255   53764.638024   -6803.375769   \n",
       "4              0.002925 -202143.602305   -7134.680962 -195008.921344   \n",
       "...                 ...            ...            ...            ...   \n",
       "5592          -0.003830  -14632.221761    2096.114544  -16728.336305   \n",
       "5593           0.000105  -42137.724342  -48606.610345    6468.886003   \n",
       "5594          -0.001032   63607.929187   79971.025301  -16363.096114   \n",
       "5595          -0.012352   94882.000806  194301.625520  -99419.624715   \n",
       "5596          -0.007443  119030.784463  440716.901491 -321686.117028   \n",
       "\n",
       "          cost_diff  market_share_sum_diff  market_share_sum  \\\n",
       "0     -47971.794591               0.009272          1.325468   \n",
       "1     730834.856629               0.009272          1.325468   \n",
       "2    -542802.895720               0.009272          1.325468   \n",
       "3      25517.257537               0.009272          1.325468   \n",
       "4     960512.307788               0.009272          1.325468   \n",
       "...             ...                    ...               ...   \n",
       "5592  -66393.209776              -0.015868          0.432108   \n",
       "5593     159.501591              -0.015868          0.432108   \n",
       "5594  -12381.697783              -0.015868          0.432108   \n",
       "5595 -614828.582535              -0.015868          0.432108   \n",
       "5596 -175361.420352              -0.015868          0.432108   \n",
       "\n",
       "      market_share_sum_cf_y  \n",
       "0                   1.33474  \n",
       "1                   1.33474  \n",
       "2                   1.33474  \n",
       "3                   1.33474  \n",
       "4                   1.33474  \n",
       "...                     ...  \n",
       "5592                0.41624  \n",
       "5593                0.41624  \n",
       "5594                0.41624  \n",
       "5595                0.41624  \n",
       "5596                0.41624  \n",
       "\n",
       "[5597 rows x 174 columns]"
      ]
     },
     "execution_count": 181,
     "metadata": {},
     "output_type": "execute_result"
    }
   ],
   "source": [
    "df_3"
   ]
  },
  {
   "cell_type": "code",
   "execution_count": null,
   "id": "566e7940",
   "metadata": {},
   "outputs": [],
   "source": []
  },
  {
   "cell_type": "code",
   "execution_count": null,
   "id": "82b5e667",
   "metadata": {},
   "outputs": [],
   "source": []
  },
  {
   "cell_type": "code",
   "execution_count": null,
   "id": "47486fc2",
   "metadata": {},
   "outputs": [],
   "source": []
  }
 ],
 "metadata": {
  "kernelspec": {
   "display_name": "Python 3 (ipykernel)",
   "language": "python",
   "name": "python3"
  },
  "language_info": {
   "codemirror_mode": {
    "name": "ipython",
    "version": 3
   },
   "file_extension": ".py",
   "mimetype": "text/x-python",
   "name": "python",
   "nbconvert_exporter": "python",
   "pygments_lexer": "ipython3",
   "version": "3.7.13"
  },
  "toc": {
   "base_numbering": 1,
   "nav_menu": {},
   "number_sections": true,
   "sideBar": true,
   "skip_h1_title": false,
   "title_cell": "Table of Contents",
   "title_sidebar": "Contents",
   "toc_cell": false,
   "toc_position": {},
   "toc_section_display": true,
   "toc_window_display": true
  }
 },
 "nbformat": 4,
 "nbformat_minor": 5
}
