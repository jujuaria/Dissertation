{
 "cells": [
  {
   "cell_type": "code",
   "execution_count": 105,
   "id": "b00746be",
   "metadata": {},
   "outputs": [],
   "source": [
    "import pandas as pd\n",
    "import numpy as np\n",
    "import os\n",
    "import matplotlib.pyplot as plt\n",
    "import statsmodels.api as sm\n",
    "import statsmodels\n",
    "from sklearn.preprocessing import OneHotEncoder\n",
    "from sklearn import preprocessing\n",
    "import seaborn as sns\n",
    "from scipy import optimize\n",
    "import time\n",
    "import functools\n",
    "from multiprocessing import Pool\n",
    "#from cyipopt import minimize_ipopt\n",
    "from numpy.polynomial.polynomial import polyfit\n",
    "import matplotlib.pyplot as plt\n",
    "import random\n",
    "\n",
    "import warnings\n",
    "warnings.filterwarnings(\"ignore\")\n",
    "\n",
    "random.seed(10)\n"
   ]
  },
  {
   "cell_type": "code",
   "execution_count": 106,
   "id": "00cd1659",
   "metadata": {},
   "outputs": [],
   "source": [
    "input_dir = r\"/Users/juju/Library/Mobile Documents/com~apple~CloudDocs/ta_project/output/welfare/eq_price_new\"\n",
    "# = r\"/Users/juju/Library/Mobile Documents/com~apple~CloudDocs/ta_project/output/welfare/eq_price_ch3\""
   ]
  },
  {
   "cell_type": "code",
   "execution_count": 107,
   "id": "ea9543dd",
   "metadata": {},
   "outputs": [],
   "source": [
    "data = pd.read_csv(os.path.join(input_dir,r\"welfare_eq_result_update_const_new.csv\"))"
   ]
  },
  {
   "cell_type": "code",
   "execution_count": 108,
   "id": "f07c3762",
   "metadata": {},
   "outputs": [
    {
     "data": {
      "text/plain": [
       "['index',\n",
       " 'post_month',\n",
       " 'shareid',\n",
       " 'year_month',\n",
       " 'Supply',\n",
       " 'Demand',\n",
       " 'Revenue',\n",
       " 'Occ',\n",
       " 'ADR',\n",
       " 'RevPAR',\n",
       " 'Country',\n",
       " 'Market',\n",
       " 'Chain',\n",
       " 'Owner',\n",
       " 'Mgmt',\n",
       " 'ParentCompany',\n",
       " 'Operation',\n",
       " 'Scale',\n",
       " 'Class',\n",
       " 'Location',\n",
       " 'OpenDate',\n",
       " 'SizeCode',\n",
       " 'max_str_month',\n",
       " 'max_review_month',\n",
       " 'min_review_month',\n",
       " 'on_ta',\n",
       " 'monthly_rating_mean',\n",
       " 'monthly_review_count',\n",
       " 'monthly_one_star_count',\n",
       " 'monthly_two_star_count',\n",
       " 'monthly_three_star_count',\n",
       " 'monthly_four_star_count',\n",
       " 'monthly_five_star_count',\n",
       " 'monthly_hotel_response_count',\n",
       " 'monthly_partnership_reviews_count',\n",
       " 'cleanliness_count',\n",
       " 'cleanliness_mean',\n",
       " 'location_count',\n",
       " 'location_mean',\n",
       " 'sleep_quality_count',\n",
       " 'sleep_quality_mean',\n",
       " 'room_quality_count',\n",
       " 'room_quality_mean',\n",
       " 'service_count',\n",
       " 'service_mean',\n",
       " 'value_count',\n",
       " 'value_mean',\n",
       " 'renovate',\n",
       " 'solo_count',\n",
       " 'couple_count',\n",
       " 'family_count',\n",
       " 'business_count',\n",
       " 'month_with_reviews',\n",
       " 'num_of_reviews',\n",
       " 'total_one_star',\n",
       " 'total_two_star',\n",
       " 'total_three_star',\n",
       " 'total_four_star',\n",
       " 'total_five_star',\n",
       " 'accum_rating',\n",
       " 'total_one_star_%',\n",
       " 'total_two_star_%',\n",
       " 'total_three_star_%',\n",
       " 'total_four_star_%',\n",
       " 'total_five_star_%',\n",
       " 'is_reviewed',\n",
       " 'ln_revenue',\n",
       " 'ln_revpar',\n",
       " 'ln_accum_rating',\n",
       " 'ln_num_of_reviews',\n",
       " 'ln_revenue_next_1m',\n",
       " 'ln_revpar_next_1m',\n",
       " 'ln_revenue_next_2m',\n",
       " 'ln_revpar_next_2m',\n",
       " 'ln_revenue_next_3m',\n",
       " 'ln_revpar_next_3m',\n",
       " 'ln_revenue_next_4m',\n",
       " 'ln_revpar_next_4m',\n",
       " 'ln_revenue_next_5m',\n",
       " 'ln_revpar_next_5m',\n",
       " 'ln_revenue_next_6m',\n",
       " 'ln_revpar_next_6m',\n",
       " 'ln_revenue_next_3m_avg',\n",
       " 'ln_revpar_next_3m_avg',\n",
       " 'ln_revenue_next_6m_avg',\n",
       " 'ln_revpar_next_6m_avg',\n",
       " 'year',\n",
       " 'month',\n",
       " 'displayed_rating',\n",
       " 'round_up',\n",
       " 'Class Group',\n",
       " 'hotel_age',\n",
       " 'high_season',\n",
       " 'alpha',\n",
       " 'avg_price',\n",
       " 'avg_demand',\n",
       " 'price_elasticity',\n",
       " 'Group Monthly Demand',\n",
       " 'hotel_count_in_group_chain',\n",
       " 'hotel_count_in_group_franchised',\n",
       " 'hotel_count_in_group_independent',\n",
       " '1_size',\n",
       " '2_size',\n",
       " '3_size',\n",
       " '4_size',\n",
       " '5_size',\n",
       " 'Group Avg Age',\n",
       " 'Market Monthly Supply',\n",
       " 'Market Monthly Demand',\n",
       " 'hotel_count_in_market',\n",
       " 'market_share',\n",
       " 'group_share',\n",
       " 's_0',\n",
       " 'ln_group_share',\n",
       " 'quality',\n",
       " 'Rating',\n",
       " 'ReviewCount_Reviewed',\n",
       " 'Rating_ReviewCount_Reviewed',\n",
       " 'market_year_month',\n",
       " 'ln_ADR',\n",
       " 'quality_hat',\n",
       " 'market_size',\n",
       " 'max_group_price',\n",
       " 'mc_t',\n",
       " 'q_upper',\n",
       " 'excess_demand',\n",
       " 'max_supply_year',\n",
       " 'capacity',\n",
       " 'class_group_capacity',\n",
       " 'competitor_capacity',\n",
       " 'hotel_fixed_effect_id',\n",
       " 'market_time_fixed_effect_id',\n",
       " 'hotel_fixed_effect',\n",
       " 'market_time_fixed_effect',\n",
       " 'price_ne',\n",
       " 'delta',\n",
       " 'delta_ne',\n",
       " 'D_g_sum_ne',\n",
       " 'market_share_ne',\n",
       " 'demand_ne',\n",
       " 'group_share_ne',\n",
       " 'market_share_sum_ne',\n",
       " 's_0_ne',\n",
       " 'exante_rating_baseline',\n",
       " 'exante_rating_random',\n",
       " 'exante_rating_obs',\n",
       " 'exante_rating_const',\n",
       " 'exante_rating_obs_less',\n",
       " 'exante_rating',\n",
       " 'price_cf',\n",
       " 'delta_cf',\n",
       " 'D_g_sum_cf',\n",
       " 'market_share_cf',\n",
       " 'demand_cf',\n",
       " 'group_share_cf',\n",
       " 'market_share_sum_cf',\n",
       " 's_0_cf']"
      ]
     },
     "execution_count": 108,
     "metadata": {},
     "output_type": "execute_result"
    }
   ],
   "source": [
    "list(data.columns)"
   ]
  },
  {
   "cell_type": "code",
   "execution_count": 109,
   "id": "dd2f659c",
   "metadata": {},
   "outputs": [
    {
     "data": {
      "text/plain": [
       "Text(0.5, 1.0, 'Actual prices vs. Status Quo Equiligirum Prices')"
      ]
     },
     "execution_count": 109,
     "metadata": {},
     "output_type": "execute_result"
    },
    {
     "data": {
      "image/png": "[encoded data removed]",
      "text/plain": [
       "<Figure size 432x288 with 1 Axes>"
      ]
     },
     "metadata": {
      "needs_background": "light"
     },
     "output_type": "display_data"
    }
   ],
   "source": [
    "plt.scatter(data[\"ADR\"],data[\"price_ne\"])\n",
    "plt.xlabel(\"Actual Price (ADR) $\")\n",
    "plt.ylabel(\"Equilibrium price (ADR)- Status Quo $\")\n",
    "plt.title(\"Actual prices vs. Status Quo Equiligirum Prices\")"
   ]
  },
  {
   "cell_type": "code",
   "execution_count": 110,
   "id": "2829dfc7",
   "metadata": {},
   "outputs": [
    {
     "data": {
      "text/html": [
       "<div>\n",
       "<style scoped>\n",
       "    .dataframe tbody tr th:only-of-type {\n",
       "        vertical-align: middle;\n",
       "    }\n",
       "\n",
       "    .dataframe tbody tr th {\n",
       "        vertical-align: top;\n",
       "    }\n",
       "\n",
       "    .dataframe thead th {\n",
       "        text-align: right;\n",
       "    }\n",
       "</style>\n",
       "<table border=\"1\" class=\"dataframe\">\n",
       "  <thead>\n",
       "    <tr style=\"text-align: right;\">\n",
       "      <th></th>\n",
       "      <th>ADR</th>\n",
       "      <th>price_ne</th>\n",
       "    </tr>\n",
       "  </thead>\n",
       "  <tbody>\n",
       "    <tr>\n",
       "      <th>count</th>\n",
       "      <td>5597.000000</td>\n",
       "      <td>5597.000000</td>\n",
       "    </tr>\n",
       "    <tr>\n",
       "      <th>mean</th>\n",
       "      <td>141.570217</td>\n",
       "      <td>141.918005</td>\n",
       "    </tr>\n",
       "    <tr>\n",
       "      <th>std</th>\n",
       "      <td>96.118163</td>\n",
       "      <td>95.217815</td>\n",
       "    </tr>\n",
       "    <tr>\n",
       "      <th>min</th>\n",
       "      <td>34.083241</td>\n",
       "      <td>7.304442</td>\n",
       "    </tr>\n",
       "    <tr>\n",
       "      <th>25%</th>\n",
       "      <td>85.236818</td>\n",
       "      <td>85.532135</td>\n",
       "    </tr>\n",
       "    <tr>\n",
       "      <th>50%</th>\n",
       "      <td>119.546934</td>\n",
       "      <td>120.224608</td>\n",
       "    </tr>\n",
       "    <tr>\n",
       "      <th>75%</th>\n",
       "      <td>170.744239</td>\n",
       "      <td>170.809152</td>\n",
       "    </tr>\n",
       "    <tr>\n",
       "      <th>max</th>\n",
       "      <td>1563.839872</td>\n",
       "      <td>1516.132598</td>\n",
       "    </tr>\n",
       "  </tbody>\n",
       "</table>\n",
       "</div>"
      ],
      "text/plain": [
       "               ADR     price_ne\n",
       "count  5597.000000  5597.000000\n",
       "mean    141.570217   141.918005\n",
       "std      96.118163    95.217815\n",
       "min      34.083241     7.304442\n",
       "25%      85.236818    85.532135\n",
       "50%     119.546934   120.224608\n",
       "75%     170.744239   170.809152\n",
       "max    1563.839872  1516.132598"
      ]
     },
     "execution_count": 110,
     "metadata": {},
     "output_type": "execute_result"
    }
   ],
   "source": [
    "data[[\"ADR\",\"price_ne\"]].describe()"
   ]
  },
  {
   "cell_type": "code",
   "execution_count": 111,
   "id": "4205eea6",
   "metadata": {},
   "outputs": [],
   "source": [
    "\n",
    "alpha = -0.012\n",
    "sigma = 0.5396\n",
    "rating_param = 0.073\n",
    "\n",
    "occ_upper= 88"
   ]
  },
  {
   "cell_type": "code",
   "execution_count": 112,
   "id": "75472932",
   "metadata": {},
   "outputs": [],
   "source": [
    "miami = data[data[\"Market\"]==\"Miami/Hialeah, FL\"]"
   ]
  },
  {
   "cell_type": "code",
   "execution_count": 113,
   "id": "a2b59a31",
   "metadata": {},
   "outputs": [
    {
     "data": {
      "text/plain": [
       "count    734.000000\n",
       "mean       0.000110\n",
       "std        0.004337\n",
       "min       -0.030796\n",
       "25%       -0.000682\n",
       "50%        0.000002\n",
       "75%        0.000401\n",
       "max        0.035273\n",
       "dtype: float64"
      ]
     },
     "execution_count": 113,
     "metadata": {},
     "output_type": "execute_result"
    }
   ],
   "source": [
    "(miami[\"market_share_ne\"]-miami[\"market_share_cf\"]).describe()"
   ]
  },
  {
   "cell_type": "markdown",
   "id": "cb7a6d38",
   "metadata": {},
   "source": [
    "# Calculate marginal cost and total cost"
   ]
  },
  {
   "cell_type": "code",
   "execution_count": 114,
   "id": "b60b349d",
   "metadata": {},
   "outputs": [],
   "source": [
    "# Status Quo marginal cost\n",
    "\n",
    "#data[\"occ_ne\"] = (data[\"demand_ne\"]*100/30)/data[\"capacity\"]\n",
    "\n",
    "data_lower = data[data[\"demand_ne\"]<=data[\"q_upper\"]]\n",
    "\n",
    "data_upper = data[data[\"demand_ne\"]>data[\"q_upper\"]]\n",
    "\n",
    "data_lower[\"excess_demand\"] = 0\n",
    "data_lower[\"cost_ne\"] = (192.39814102368837+data_lower[\"hotel_fixed_effect\"]+data_lower[\"market_time_fixed_effect\"])*\\\n",
    "                           data_lower[\"demand_ne\"]\n",
    "data_upper[\"excess_demand\"] = data_upper[\"demand_ne\"]-data_upper[\"q_upper\"]\n",
    "data_upper[\"cost_ne\"] = (192.39814102368837+data_upper[\"hotel_fixed_effect\"]+data_upper[\"market_time_fixed_effect\"])*\\\n",
    "                           data_upper[\"q_upper\"]+0.5*0.043841100663268406*(data_upper[\"excess_demand\"]**2)\n",
    "\n",
    "\n",
    "data= pd.concat([data_lower,data_upper],axis=0)\n",
    "\n",
    "data = data.fillna(0)\n",
    "\n"
   ]
  },
  {
   "cell_type": "code",
   "execution_count": 115,
   "id": "4041c865",
   "metadata": {},
   "outputs": [],
   "source": [
    "\n",
    "\n",
    "\n",
    "data_lower = data[data[\"demand_cf\"]<=data[\"q_upper\"]]\n",
    "data_upper = data[data[\"demand_cf\"]>data[\"q_upper\"]]\n",
    "\n",
    "data_lower[\"excess_demand\"] = 0\n",
    "data_lower[\"cost_cf\"] = (192.39814102368837+data_lower[\"hotel_fixed_effect\"]+data_lower[\"market_time_fixed_effect\"])*\\\n",
    "                           data_lower[\"demand_cf\"]\n",
    "data_upper[\"excess_demand\"] = data_upper[\"demand_cf\"]-data_upper[\"q_upper\"]\n",
    "data_upper[\"cost_cf\"] = (192.39814102368837+data_upper[\"hotel_fixed_effect\"]+data_upper[\"market_time_fixed_effect\"])*\\\n",
    "                           data_upper[\"q_upper\"]+0.5*0.043841100663268406*(data_upper[\"excess_demand\"]**2)\n",
    "\n",
    "data = pd.concat([data_lower,data_upper],axis=0)\n",
    "\n"
   ]
  },
  {
   "cell_type": "markdown",
   "id": "cdb268ef",
   "metadata": {},
   "source": [
    "# Calculate Consumer Surplus"
   ]
  },
  {
   "cell_type": "code",
   "execution_count": 116,
   "id": "abcadb0f",
   "metadata": {},
   "outputs": [],
   "source": [
    "data[\"r_greater_exante\"] = data[\"exante_rating\"]<data[\"Rating\"]\n",
    "\n",
    "#df[\"market_share_percent_diff\"] = (df[\"market_share_cf\"] - df[\"market_share\"])/df[\"market_share\"]\n"
   ]
  },
  {
   "cell_type": "code",
   "execution_count": 117,
   "id": "c4c6c4c8",
   "metadata": {},
   "outputs": [],
   "source": [
    "# calculate walfare\n",
    "data[\"market_share_cf_delta_diff\"] = data[\"market_share_cf\"]*(rating_param*(data[\"Rating\"] - data[\"exante_rating\"])+alpha*(data[\"price_ne\"]-data[\"price_cf\"]))\n",
    "\n",
    "l=[]\n",
    "for i in (0,1,2):\n",
    "    \n",
    "    df_temp = data[data[\"Market\"]==data[\"Market\"].unique()[i]]\n",
    "    diff = df_temp.groupby([\"month\",\"year\"])[\"market_share_cf_delta_diff\"].sum().reset_index().rename(columns={\"market_share_cf_delta_diff\":\"diff_term\"})\n",
    "    temp = df_temp.merge(diff,on=[\"month\",\"year\"], how=\"left\")\n",
    "    l.append(temp)\n",
    "    \n",
    "df = pd.concat(l,axis=0)\n"
   ]
  },
  {
   "cell_type": "code",
   "execution_count": 118,
   "id": "5bf9a018",
   "metadata": {},
   "outputs": [],
   "source": [
    "df_cs = df[[\"Market\",\"year\",\"month\",\"Market Monthly Supply\",\"D_g_sum_ne\",\"D_g_sum_cf\",\"diff_term\",\"market_size\"]].drop_duplicates()\n",
    "\n",
    "df_cs[\"cs\"] = (np.log(1+df_cs[\"D_g_sum_ne\"]) - np.log(1+df_cs[\"D_g_sum_cf\"])-df_cs[\"diff_term\"])/alpha\n"
   ]
  },
  {
   "cell_type": "code",
   "execution_count": 119,
   "id": "39607610",
   "metadata": {},
   "outputs": [
    {
     "data": {
      "text/html": [
       "<div>\n",
       "<style scoped>\n",
       "    .dataframe tbody tr th:only-of-type {\n",
       "        vertical-align: middle;\n",
       "    }\n",
       "\n",
       "    .dataframe tbody tr th {\n",
       "        vertical-align: top;\n",
       "    }\n",
       "\n",
       "    .dataframe thead th {\n",
       "        text-align: right;\n",
       "    }\n",
       "</style>\n",
       "<table border=\"1\" class=\"dataframe\">\n",
       "  <thead>\n",
       "    <tr style=\"text-align: right;\">\n",
       "      <th></th>\n",
       "      <th>0</th>\n",
       "      <th>1</th>\n",
       "      <th>2</th>\n",
       "    </tr>\n",
       "  </thead>\n",
       "  <tbody>\n",
       "    <tr>\n",
       "      <th>Market</th>\n",
       "      <td>Chicago, IL</td>\n",
       "      <td>Houston, TX</td>\n",
       "      <td>Miami/Hialeah, FL</td>\n",
       "    </tr>\n",
       "    <tr>\n",
       "      <th>month_cs</th>\n",
       "      <td>-0.918564</td>\n",
       "      <td>-9.187432</td>\n",
       "      <td>-3.448994</td>\n",
       "    </tr>\n",
       "  </tbody>\n",
       "</table>\n",
       "</div>"
      ],
      "text/plain": [
       "                    0            1                  2\n",
       "Market    Chicago, IL  Houston, TX  Miami/Hialeah, FL\n",
       "month_cs    -0.918564    -9.187432          -3.448994"
      ]
     },
     "execution_count": 119,
     "metadata": {},
     "output_type": "execute_result"
    }
   ],
   "source": [
    "df_cs[\"month_cs\"] = df_cs[\"cs\"]*df_cs[\"market_size\"]\n",
    "\n",
    "cs_result = df_cs.groupby(\"Market\")[\"month_cs\"].sum()/1000000\n",
    "cs_result = cs_result.reset_index(\"Market\")\n",
    "cs_result.transpose()\n"
   ]
  },
  {
   "cell_type": "code",
   "execution_count": 120,
   "id": "504eb8cd",
   "metadata": {},
   "outputs": [
    {
     "data": {
      "text/plain": [
       "-0.012"
      ]
     },
     "execution_count": 120,
     "metadata": {},
     "output_type": "execute_result"
    }
   ],
   "source": [
    "alpha"
   ]
  },
  {
   "cell_type": "code",
   "execution_count": 121,
   "id": "479c778d",
   "metadata": {},
   "outputs": [
    {
     "data": {
      "text/html": [
       "<div>\n",
       "<style scoped>\n",
       "    .dataframe tbody tr th:only-of-type {\n",
       "        vertical-align: middle;\n",
       "    }\n",
       "\n",
       "    .dataframe tbody tr th {\n",
       "        vertical-align: top;\n",
       "    }\n",
       "\n",
       "    .dataframe thead th {\n",
       "        text-align: right;\n",
       "    }\n",
       "</style>\n",
       "<table border=\"1\" class=\"dataframe\">\n",
       "  <thead>\n",
       "    <tr style=\"text-align: right;\">\n",
       "      <th></th>\n",
       "      <th>Demand</th>\n",
       "      <th>demand_cf</th>\n",
       "      <th>market_share_cf</th>\n",
       "      <th>Rating</th>\n",
       "      <th>exante_rating</th>\n",
       "      <th>price_ne</th>\n",
       "      <th>price_cf</th>\n",
       "    </tr>\n",
       "  </thead>\n",
       "  <tbody>\n",
       "    <tr>\n",
       "      <th>4971</th>\n",
       "      <td>31943.0</td>\n",
       "      <td>33196.400438</td>\n",
       "      <td>0.101854</td>\n",
       "      <td>4.23088</td>\n",
       "      <td>3.808161</td>\n",
       "      <td>446.19851</td>\n",
       "      <td>456.744963</td>\n",
       "    </tr>\n",
       "  </tbody>\n",
       "</table>\n",
       "</div>"
      ],
      "text/plain": [
       "       Demand     demand_cf  market_share_cf   Rating  exante_rating  \\\n",
       "4971  31943.0  33196.400438         0.101854  4.23088       3.808161   \n",
       "\n",
       "       price_ne    price_cf  \n",
       "4971  446.19851  456.744963  "
      ]
     },
     "execution_count": 121,
     "metadata": {},
     "output_type": "execute_result"
    }
   ],
   "source": [
    "data[(data[\"month\"]==2)&(data[\"Market\"]==\"Miami/Hialeah, FL\")&(data[\"shareid\"]==4355335)][[\"Demand\",\"demand_cf\",\"market_share_cf\",\"Rating\",\"exante_rating\",\"price_ne\",\"price_cf\"]]\n",
    "                                                                                          "
   ]
  },
  {
   "cell_type": "code",
   "execution_count": 122,
   "id": "52a6a650",
   "metadata": {},
   "outputs": [
    {
     "data": {
      "text/plain": [
       "0.017019668885352026"
      ]
     },
     "execution_count": 122,
     "metadata": {},
     "output_type": "execute_result"
    }
   ],
   "source": [
    "((4.23088-4.232462)*rating_param+alpha*(446.19851-463.545987))*0.081804"
   ]
  },
  {
   "cell_type": "markdown",
   "id": "1201f8e8",
   "metadata": {},
   "source": [
    "# Calculate Revenue, Profit, Marginal Cost"
   ]
  },
  {
   "cell_type": "code",
   "execution_count": 123,
   "id": "0054ad29",
   "metadata": {},
   "outputs": [],
   "source": [
    "df = data"
   ]
  },
  {
   "cell_type": "code",
   "execution_count": 124,
   "id": "488a0697",
   "metadata": {},
   "outputs": [
    {
     "data": {
      "text/plain": [
       "Market\n",
       "Chicago, IL         -22.111730\n",
       "Houston, TX         -20.509655\n",
       "Miami/Hialeah, FL   -34.901794\n",
       "Name: revenue_diff, dtype: float64"
      ]
     },
     "execution_count": 124,
     "metadata": {},
     "output_type": "execute_result"
    }
   ],
   "source": [
    "df[\"Revenue_cf\"] = df[\"market_share_cf\"]*df[\"market_size\"]*df[\"price_cf\"]\n",
    "df[\"Revenue_ne\"] = df[\"market_share_ne\"]*df[\"market_size\"]*df[\"price_ne\"]\n",
    "df[\"revenue_diff\"] = df[\"Revenue_cf\"] - df[\"Revenue_ne\"]\n",
    "df.groupby(\"Market\")[\"revenue_diff\"].sum()/1000000"
   ]
  },
  {
   "cell_type": "code",
   "execution_count": 125,
   "id": "318e522b",
   "metadata": {},
   "outputs": [],
   "source": [
    "#miami = df[df[\"Market\"]==\"Miami/Hialeah, FL\"]\n",
    "df[\"price_diff\"] = df[\"price_cf\"]-df[\"price_ne\"]\n",
    "df[\"market_share_diff\"] = df[\"market_share_cf\"]-df[\"market_share_ne\"]"
   ]
  },
  {
   "cell_type": "code",
   "execution_count": 126,
   "id": "f97c75c1",
   "metadata": {},
   "outputs": [
    {
     "data": {
      "text/plain": [
       "Market             r_greater_exante\n",
       "Chicago, IL        False               67859.021269\n",
       "                   True               -29567.855974\n",
       "Houston, TX        False               11791.411000\n",
       "                   True               -18756.463523\n",
       "Miami/Hialeah, FL  False              -50253.275382\n",
       "                   True               -46612.706476\n",
       "Name: revenue_diff, dtype: float64"
      ]
     },
     "execution_count": 126,
     "metadata": {},
     "output_type": "execute_result"
    }
   ],
   "source": [
    "df.groupby([\"Market\",\"r_greater_exante\"])[\"revenue_diff\"].mean()"
   ]
  },
  {
   "cell_type": "code",
   "execution_count": 127,
   "id": "16b80b3c",
   "metadata": {},
   "outputs": [
    {
     "data": {
      "text/plain": [
       "Market             r_greater_exante\n",
       "Chicago, IL        False               0.033925\n",
       "                   True               -0.011203\n",
       "Houston, TX        False               0.013497\n",
       "                   True               -0.011919\n",
       "Miami/Hialeah, FL  False               0.016680\n",
       "                   True               -0.020556\n",
       "Name: market_share_diff, dtype: float64"
      ]
     },
     "execution_count": 127,
     "metadata": {},
     "output_type": "execute_result"
    }
   ],
   "source": [
    "df.groupby([\"Market\",\"r_greater_exante\"])[\"market_share_diff\"].mean()*100"
   ]
  },
  {
   "cell_type": "code",
   "execution_count": 128,
   "id": "42e2e306",
   "metadata": {},
   "outputs": [
    {
     "data": {
      "text/html": [
       "<div>\n",
       "<style scoped>\n",
       "    .dataframe tbody tr th:only-of-type {\n",
       "        vertical-align: middle;\n",
       "    }\n",
       "\n",
       "    .dataframe tbody tr th {\n",
       "        vertical-align: top;\n",
       "    }\n",
       "\n",
       "    .dataframe thead th {\n",
       "        text-align: right;\n",
       "    }\n",
       "</style>\n",
       "<table border=\"1\" class=\"dataframe\">\n",
       "  <thead>\n",
       "    <tr style=\"text-align: right;\">\n",
       "      <th></th>\n",
       "      <th>count</th>\n",
       "      <th>mean</th>\n",
       "      <th>std</th>\n",
       "      <th>min</th>\n",
       "      <th>25%</th>\n",
       "      <th>50%</th>\n",
       "      <th>75%</th>\n",
       "      <th>max</th>\n",
       "    </tr>\n",
       "    <tr>\n",
       "      <th>Market</th>\n",
       "      <th></th>\n",
       "      <th></th>\n",
       "      <th></th>\n",
       "      <th></th>\n",
       "      <th></th>\n",
       "      <th></th>\n",
       "      <th></th>\n",
       "      <th></th>\n",
       "    </tr>\n",
       "  </thead>\n",
       "  <tbody>\n",
       "    <tr>\n",
       "      <th>Chicago, IL</th>\n",
       "      <td>1364.0</td>\n",
       "      <td>-0.000050</td>\n",
       "      <td>0.000532</td>\n",
       "      <td>-0.006192</td>\n",
       "      <td>-0.000220</td>\n",
       "      <td>-0.000079</td>\n",
       "      <td>0.000083</td>\n",
       "      <td>0.003254</td>\n",
       "    </tr>\n",
       "    <tr>\n",
       "      <th>Houston, TX</th>\n",
       "      <td>3499.0</td>\n",
       "      <td>-0.000012</td>\n",
       "      <td>0.000563</td>\n",
       "      <td>-0.005423</td>\n",
       "      <td>-0.000166</td>\n",
       "      <td>-0.000054</td>\n",
       "      <td>0.000050</td>\n",
       "      <td>0.005701</td>\n",
       "    </tr>\n",
       "    <tr>\n",
       "      <th>Miami/Hialeah, FL</th>\n",
       "      <td>734.0</td>\n",
       "      <td>-0.000110</td>\n",
       "      <td>0.004337</td>\n",
       "      <td>-0.035273</td>\n",
       "      <td>-0.000401</td>\n",
       "      <td>-0.000002</td>\n",
       "      <td>0.000682</td>\n",
       "      <td>0.030796</td>\n",
       "    </tr>\n",
       "  </tbody>\n",
       "</table>\n",
       "</div>"
      ],
      "text/plain": [
       "                    count      mean       std       min       25%       50%  \\\n",
       "Market                                                                        \n",
       "Chicago, IL        1364.0 -0.000050  0.000532 -0.006192 -0.000220 -0.000079   \n",
       "Houston, TX        3499.0 -0.000012  0.000563 -0.005423 -0.000166 -0.000054   \n",
       "Miami/Hialeah, FL   734.0 -0.000110  0.004337 -0.035273 -0.000401 -0.000002   \n",
       "\n",
       "                        75%       max  \n",
       "Market                                 \n",
       "Chicago, IL        0.000083  0.003254  \n",
       "Houston, TX        0.000050  0.005701  \n",
       "Miami/Hialeah, FL  0.000682  0.030796  "
      ]
     },
     "execution_count": 128,
     "metadata": {},
     "output_type": "execute_result"
    }
   ],
   "source": [
    "df.groupby([\"Market\"])[\"market_share_diff\"].describe()"
   ]
  },
  {
   "cell_type": "code",
   "execution_count": 129,
   "id": "f5671752",
   "metadata": {},
   "outputs": [
    {
     "data": {
      "text/html": [
       "<div>\n",
       "<style scoped>\n",
       "    .dataframe tbody tr th:only-of-type {\n",
       "        vertical-align: middle;\n",
       "    }\n",
       "\n",
       "    .dataframe tbody tr th {\n",
       "        vertical-align: top;\n",
       "    }\n",
       "\n",
       "    .dataframe thead th {\n",
       "        text-align: right;\n",
       "    }\n",
       "</style>\n",
       "<table border=\"1\" class=\"dataframe\">\n",
       "  <thead>\n",
       "    <tr style=\"text-align: right;\">\n",
       "      <th></th>\n",
       "      <th>count</th>\n",
       "      <th>mean</th>\n",
       "      <th>std</th>\n",
       "      <th>min</th>\n",
       "      <th>25%</th>\n",
       "      <th>50%</th>\n",
       "      <th>75%</th>\n",
       "      <th>max</th>\n",
       "    </tr>\n",
       "    <tr>\n",
       "      <th>Market</th>\n",
       "      <th></th>\n",
       "      <th></th>\n",
       "      <th></th>\n",
       "      <th></th>\n",
       "      <th></th>\n",
       "      <th></th>\n",
       "      <th></th>\n",
       "      <th></th>\n",
       "    </tr>\n",
       "  </thead>\n",
       "  <tbody>\n",
       "    <tr>\n",
       "      <th>Chicago, IL</th>\n",
       "      <td>1364.0</td>\n",
       "      <td>0.318189</td>\n",
       "      <td>1.690822</td>\n",
       "      <td>-12.839393</td>\n",
       "      <td>-0.220910</td>\n",
       "      <td>0.076329</td>\n",
       "      <td>0.645282</td>\n",
       "      <td>22.897263</td>\n",
       "    </tr>\n",
       "    <tr>\n",
       "      <th>Houston, TX</th>\n",
       "      <td>3499.0</td>\n",
       "      <td>1.314691</td>\n",
       "      <td>5.882905</td>\n",
       "      <td>-39.581955</td>\n",
       "      <td>-0.968980</td>\n",
       "      <td>1.265793</td>\n",
       "      <td>3.589212</td>\n",
       "      <td>54.958949</td>\n",
       "    </tr>\n",
       "    <tr>\n",
       "      <th>Miami/Hialeah, FL</th>\n",
       "      <td>734.0</td>\n",
       "      <td>0.293897</td>\n",
       "      <td>8.484612</td>\n",
       "      <td>-44.243806</td>\n",
       "      <td>-2.249889</td>\n",
       "      <td>-0.201667</td>\n",
       "      <td>1.204784</td>\n",
       "      <td>58.793319</td>\n",
       "    </tr>\n",
       "  </tbody>\n",
       "</table>\n",
       "</div>"
      ],
      "text/plain": [
       "                    count      mean       std        min       25%       50%  \\\n",
       "Market                                                                         \n",
       "Chicago, IL        1364.0  0.318189  1.690822 -12.839393 -0.220910  0.076329   \n",
       "Houston, TX        3499.0  1.314691  5.882905 -39.581955 -0.968980  1.265793   \n",
       "Miami/Hialeah, FL   734.0  0.293897  8.484612 -44.243806 -2.249889 -0.201667   \n",
       "\n",
       "                        75%        max  \n",
       "Market                                  \n",
       "Chicago, IL        0.645282  22.897263  \n",
       "Houston, TX        3.589212  54.958949  \n",
       "Miami/Hialeah, FL  1.204784  58.793319  "
      ]
     },
     "execution_count": 129,
     "metadata": {},
     "output_type": "execute_result"
    }
   ],
   "source": [
    "df.groupby([\"Market\"])[\"price_diff\"].describe()"
   ]
  },
  {
   "cell_type": "code",
   "execution_count": 130,
   "id": "800688b3",
   "metadata": {},
   "outputs": [
    {
     "data": {
      "text/plain": [
       "Market             r_greater_exante\n",
       "Chicago, IL        False                187\n",
       "                   True                1177\n",
       "Houston, TX        False               1477\n",
       "                   True                2022\n",
       "Miami/Hialeah, FL  False                189\n",
       "                   True                 545\n",
       "dtype: int64"
      ]
     },
     "execution_count": 130,
     "metadata": {},
     "output_type": "execute_result"
    }
   ],
   "source": [
    "df.groupby([\"Market\",\"r_greater_exante\"]).size()"
   ]
  },
  {
   "cell_type": "code",
   "execution_count": 131,
   "id": "e7ebc62a",
   "metadata": {},
   "outputs": [
    {
     "data": {
      "text/plain": [
       "-77.52317877762533"
      ]
     },
     "execution_count": 131,
     "metadata": {},
     "output_type": "execute_result"
    }
   ],
   "source": [
    "df[\"revenue_diff\"].sum()/1000000"
   ]
  },
  {
   "cell_type": "code",
   "execution_count": 132,
   "id": "237cf7a3",
   "metadata": {},
   "outputs": [
    {
     "data": {
      "text/plain": [
       "r_greater_exante\n",
       "False    20.607682\n",
       "True    -98.130861\n",
       "Name: revenue_diff, dtype: float64"
      ]
     },
     "execution_count": 132,
     "metadata": {},
     "output_type": "execute_result"
    }
   ],
   "source": [
    "\n",
    "\n",
    "df.groupby([\"r_greater_exante\"])[\"revenue_diff\"].sum()/1000000\n",
    "                                        "
   ]
  },
  {
   "cell_type": "code",
   "execution_count": 133,
   "id": "d9c0a4ba",
   "metadata": {},
   "outputs": [
    {
     "data": {
      "text/plain": [
       "Market\n",
       "Chicago, IL          -1.992086\n",
       "Houston, TX         -10.982688\n",
       "Miami/Hialeah, FL   -27.590750\n",
       "Name: ps_diff, dtype: float64"
      ]
     },
     "execution_count": 133,
     "metadata": {},
     "output_type": "execute_result"
    }
   ],
   "source": [
    "df[\"ps_cf\"] = df[\"Revenue_cf\"]-df[\"cost_cf\"]\n",
    "df[\"ps_ne\"] = df[\"Revenue_ne\"]-df[\"cost_ne\"]\n",
    "df[\"ps_diff\"] = df[\"ps_cf\"] - df[\"ps_ne\"]\n",
    "df.groupby(\"Market\")[\"ps_diff\"].sum()/1000000"
   ]
  },
  {
   "cell_type": "code",
   "execution_count": 134,
   "id": "beffe8ad",
   "metadata": {},
   "outputs": [
    {
     "data": {
      "text/plain": [
       "-40.56552306510612"
      ]
     },
     "execution_count": 134,
     "metadata": {},
     "output_type": "execute_result"
    }
   ],
   "source": [
    "df[\"ps_diff\"].sum()/1000000"
   ]
  },
  {
   "cell_type": "code",
   "execution_count": 135,
   "id": "f3388c1a",
   "metadata": {},
   "outputs": [
    {
     "data": {
      "text/plain": [
       "r_greater_exante\n",
       "False     4.772069\n",
       "True    -45.337593\n",
       "Name: ps_diff, dtype: float64"
      ]
     },
     "execution_count": 135,
     "metadata": {},
     "output_type": "execute_result"
    }
   ],
   "source": [
    "df.groupby([\"r_greater_exante\"])[\"ps_diff\"].sum()/1000000"
   ]
  },
  {
   "cell_type": "code",
   "execution_count": 136,
   "id": "f33ddf7b",
   "metadata": {},
   "outputs": [
    {
     "data": {
      "text/plain": [
       "-36.95765571251921"
      ]
     },
     "execution_count": 136,
     "metadata": {},
     "output_type": "execute_result"
    }
   ],
   "source": [
    "df[\"cost_diff\"] = df[\"cost_cf\"] - df[\"cost_ne\"]\n",
    "df[\"cost_diff\"].sum()/1000000\n"
   ]
  },
  {
   "cell_type": "code",
   "execution_count": 137,
   "id": "57a1a396",
   "metadata": {},
   "outputs": [
    {
     "data": {
      "text/plain": [
       "r_greater_exante\n",
       "False    15.835613\n",
       "True    -52.793268\n",
       "Name: cost_diff, dtype: float64"
      ]
     },
     "execution_count": 137,
     "metadata": {},
     "output_type": "execute_result"
    }
   ],
   "source": [
    "df.groupby([\"r_greater_exante\"])[\"cost_diff\"].sum()/1000000"
   ]
  },
  {
   "cell_type": "code",
   "execution_count": 138,
   "id": "c441015e",
   "metadata": {},
   "outputs": [
    {
     "data": {
      "text/plain": [
       "Market\n",
       "Chicago, IL         -20.119644\n",
       "Houston, TX          -9.526968\n",
       "Miami/Hialeah, FL    -7.311044\n",
       "Name: cost_diff, dtype: float64"
      ]
     },
     "execution_count": 138,
     "metadata": {},
     "output_type": "execute_result"
    }
   ],
   "source": [
    "df.groupby(\"Market\")[\"cost_diff\"].sum()/1000000"
   ]
  },
  {
   "cell_type": "code",
   "execution_count": 139,
   "id": "e56c0254",
   "metadata": {},
   "outputs": [
    {
     "data": {
      "text/plain": [
       "-0.5293685580534386"
      ]
     },
     "execution_count": 139,
     "metadata": {},
     "output_type": "execute_result"
    }
   ],
   "source": [
    "df[\"market_share_sum_diff\"] = df[\"market_share_sum_cf\"] - df[\"market_share_sum_ne\"]\n",
    "\n",
    "total_market_share = df[[\"Market\",\"year\",\"month\",\"market_share_sum_diff\",\"market_size\"]].drop_duplicates()\n",
    "\n",
    "total_market_share[\"market_share_sum_diff\"].mean()*100"
   ]
  },
  {
   "cell_type": "code",
   "execution_count": 140,
   "id": "ae1c76ee",
   "metadata": {},
   "outputs": [
    {
     "data": {
      "text/plain": [
       "Market\n",
       "Chicago, IL         -0.570211\n",
       "Houston, TX         -0.347035\n",
       "Miami/Hialeah, FL   -0.670859\n",
       "Name: market_share_sum_diff, dtype: float64"
      ]
     },
     "execution_count": 140,
     "metadata": {},
     "output_type": "execute_result"
    }
   ],
   "source": [
    "\n",
    "total_market_share.groupby(\"Market\")[\"market_share_sum_diff\"].mean()*100"
   ]
  },
  {
   "cell_type": "code",
   "execution_count": 104,
   "id": "45af6432",
   "metadata": {},
   "outputs": [
    {
     "data": {
      "image/png": "[encoded data removed]",
      "text/plain": [
       "<Figure size 432x288 with 1 Axes>"
      ]
     },
     "metadata": {
      "needs_background": "light"
     },
     "output_type": "display_data"
    }
   ],
   "source": [
    "import seaborn as sns\n",
    "import matplotlib.pyplot as plt\n",
    "\n",
    "sns.kdeplot(df[df[\"Market\"] == \"Chicago, IL\"][\"revenue_diff\"],label='Chicago (CBD)')\n",
    "sns.kdeplot(df[df[\"Market\"] == \"Houston, TX\"][\"revenue_diff\"],label='Houston')\n",
    "sns.kdeplot(df[df[\"Market\"] == \"Miami/Hialeah, FL\"][\"revenue_diff\"],label='Miami/Hialeah, FL')\n",
    "\n",
    "# beautifying the labels\n",
    "plt.xlabel('value')\n",
    "plt.ylabel('density')\n",
    "plt.show()"
   ]
  },
  {
   "cell_type": "code",
   "execution_count": 251,
   "id": "ab4932a6",
   "metadata": {},
   "outputs": [
    {
     "data": {
      "text/html": [
       "<div>\n",
       "<style scoped>\n",
       "    .dataframe tbody tr th:only-of-type {\n",
       "        vertical-align: middle;\n",
       "    }\n",
       "\n",
       "    .dataframe tbody tr th {\n",
       "        vertical-align: top;\n",
       "    }\n",
       "\n",
       "    .dataframe thead th {\n",
       "        text-align: right;\n",
       "    }\n",
       "</style>\n",
       "<table border=\"1\" class=\"dataframe\">\n",
       "  <thead>\n",
       "    <tr style=\"text-align: right;\">\n",
       "      <th></th>\n",
       "      <th>index</th>\n",
       "      <th>post_month</th>\n",
       "      <th>shareid</th>\n",
       "      <th>year_month</th>\n",
       "      <th>Supply</th>\n",
       "      <th>Demand</th>\n",
       "      <th>Revenue</th>\n",
       "      <th>Occ</th>\n",
       "      <th>ADR</th>\n",
       "      <th>RevPAR</th>\n",
       "      <th>...</th>\n",
       "      <th>Revenue_cf</th>\n",
       "      <th>Revenue_ne</th>\n",
       "      <th>revenue_diff</th>\n",
       "      <th>ps_cf</th>\n",
       "      <th>ps_ne</th>\n",
       "      <th>ps_diff</th>\n",
       "      <th>cost_diff</th>\n",
       "      <th>market_share_sum_diff</th>\n",
       "      <th>price_diff</th>\n",
       "      <th>market_share_diff</th>\n",
       "    </tr>\n",
       "  </thead>\n",
       "  <tbody>\n",
       "    <tr>\n",
       "      <th>0</th>\n",
       "      <td>4233</td>\n",
       "      <td>2016-01</td>\n",
       "      <td>83062</td>\n",
       "      <td>2016-01-01</td>\n",
       "      <td>7750.0</td>\n",
       "      <td>3445.0</td>\n",
       "      <td>481581.00</td>\n",
       "      <td>44.4516</td>\n",
       "      <td>139.791292</td>\n",
       "      <td>62.139484</td>\n",
       "      <td>...</td>\n",
       "      <td>4.729960e+05</td>\n",
       "      <td>4.759423e+05</td>\n",
       "      <td>-2946.293221</td>\n",
       "      <td>68844.756404</td>\n",
       "      <td>68857.442789</td>\n",
       "      <td>-12.686386</td>\n",
       "      <td>-2933.606836</td>\n",
       "      <td>-0.000501</td>\n",
       "      <td>0.146333</td>\n",
       "      <td>-0.000020</td>\n",
       "    </tr>\n",
       "    <tr>\n",
       "      <th>1</th>\n",
       "      <td>4234</td>\n",
       "      <td>2016-01</td>\n",
       "      <td>88362</td>\n",
       "      <td>2016-01-01</td>\n",
       "      <td>10509.0</td>\n",
       "      <td>4055.0</td>\n",
       "      <td>1248453.00</td>\n",
       "      <td>38.5859</td>\n",
       "      <td>307.879901</td>\n",
       "      <td>118.798458</td>\n",
       "      <td>...</td>\n",
       "      <td>1.134177e+06</td>\n",
       "      <td>1.116667e+06</td>\n",
       "      <td>17510.400161</td>\n",
       "      <td>40053.558759</td>\n",
       "      <td>38464.722516</td>\n",
       "      <td>1588.836243</td>\n",
       "      <td>15921.563918</td>\n",
       "      <td>-0.000501</td>\n",
       "      <td>0.282914</td>\n",
       "      <td>0.000043</td>\n",
       "    </tr>\n",
       "    <tr>\n",
       "      <th>2</th>\n",
       "      <td>4235</td>\n",
       "      <td>2016-01</td>\n",
       "      <td>89959</td>\n",
       "      <td>2016-01-01</td>\n",
       "      <td>1240.0</td>\n",
       "      <td>817.0</td>\n",
       "      <td>202265.00</td>\n",
       "      <td>65.8870</td>\n",
       "      <td>247.570379</td>\n",
       "      <td>163.116935</td>\n",
       "      <td>...</td>\n",
       "      <td>2.116782e+05</td>\n",
       "      <td>2.108743e+05</td>\n",
       "      <td>803.899757</td>\n",
       "      <td>23897.702609</td>\n",
       "      <td>23773.405040</td>\n",
       "      <td>124.297568</td>\n",
       "      <td>679.602189</td>\n",
       "      <td>-0.000501</td>\n",
       "      <td>0.044569</td>\n",
       "      <td>0.000003</td>\n",
       "    </tr>\n",
       "    <tr>\n",
       "      <th>3</th>\n",
       "      <td>4236</td>\n",
       "      <td>2016-01</td>\n",
       "      <td>94226</td>\n",
       "      <td>2016-01-01</td>\n",
       "      <td>5859.0</td>\n",
       "      <td>2274.0</td>\n",
       "      <td>743277.99</td>\n",
       "      <td>38.8120</td>\n",
       "      <td>326.859274</td>\n",
       "      <td>126.860896</td>\n",
       "      <td>...</td>\n",
       "      <td>6.395866e+05</td>\n",
       "      <td>6.313484e+05</td>\n",
       "      <td>8238.174238</td>\n",
       "      <td>10543.857272</td>\n",
       "      <td>9730.393344</td>\n",
       "      <td>813.463928</td>\n",
       "      <td>7424.710309</td>\n",
       "      <td>-0.000501</td>\n",
       "      <td>0.365288</td>\n",
       "      <td>0.000019</td>\n",
       "    </tr>\n",
       "    <tr>\n",
       "      <th>4</th>\n",
       "      <td>4237</td>\n",
       "      <td>2016-01</td>\n",
       "      <td>105904</td>\n",
       "      <td>2016-01-01</td>\n",
       "      <td>18910.0</td>\n",
       "      <td>11718.0</td>\n",
       "      <td>2227185.00</td>\n",
       "      <td>61.9672</td>\n",
       "      <td>190.065284</td>\n",
       "      <td>117.778160</td>\n",
       "      <td>...</td>\n",
       "      <td>2.148987e+06</td>\n",
       "      <td>2.152802e+06</td>\n",
       "      <td>-3814.370190</td>\n",
       "      <td>209104.425948</td>\n",
       "      <td>207771.090169</td>\n",
       "      <td>1333.335779</td>\n",
       "      <td>-5147.705969</td>\n",
       "      <td>-0.000501</td>\n",
       "      <td>0.170036</td>\n",
       "      <td>-0.000024</td>\n",
       "    </tr>\n",
       "    <tr>\n",
       "      <th>...</th>\n",
       "      <td>...</td>\n",
       "      <td>...</td>\n",
       "      <td>...</td>\n",
       "      <td>...</td>\n",
       "      <td>...</td>\n",
       "      <td>...</td>\n",
       "      <td>...</td>\n",
       "      <td>...</td>\n",
       "      <td>...</td>\n",
       "      <td>...</td>\n",
       "      <td>...</td>\n",
       "      <td>...</td>\n",
       "      <td>...</td>\n",
       "      <td>...</td>\n",
       "      <td>...</td>\n",
       "      <td>...</td>\n",
       "      <td>...</td>\n",
       "      <td>...</td>\n",
       "      <td>...</td>\n",
       "      <td>...</td>\n",
       "      <td>...</td>\n",
       "    </tr>\n",
       "    <tr>\n",
       "      <th>5514</th>\n",
       "      <td>410</td>\n",
       "      <td>2016-11</td>\n",
       "      <td>110924</td>\n",
       "      <td>2016-11-01</td>\n",
       "      <td>2257.0</td>\n",
       "      <td>2061.0</td>\n",
       "      <td>231913.00</td>\n",
       "      <td>91.3159</td>\n",
       "      <td>112.524503</td>\n",
       "      <td>102.752769</td>\n",
       "      <td>...</td>\n",
       "      <td>2.312369e+05</td>\n",
       "      <td>3.287302e+05</td>\n",
       "      <td>-97493.334065</td>\n",
       "      <td>87812.423947</td>\n",
       "      <td>144703.676435</td>\n",
       "      <td>-56891.252488</td>\n",
       "      <td>-40602.081577</td>\n",
       "      <td>-0.007009</td>\n",
       "      <td>14.362939</td>\n",
       "      <td>-0.003970</td>\n",
       "    </tr>\n",
       "    <tr>\n",
       "      <th>5515</th>\n",
       "      <td>412</td>\n",
       "      <td>2016-11</td>\n",
       "      <td>740551</td>\n",
       "      <td>2016-11-01</td>\n",
       "      <td>1920.0</td>\n",
       "      <td>1890.0</td>\n",
       "      <td>210145.00</td>\n",
       "      <td>98.4375</td>\n",
       "      <td>111.187831</td>\n",
       "      <td>109.450521</td>\n",
       "      <td>...</td>\n",
       "      <td>2.217694e+05</td>\n",
       "      <td>3.511145e+05</td>\n",
       "      <td>-129345.078454</td>\n",
       "      <td>113559.222032</td>\n",
       "      <td>134684.408166</td>\n",
       "      <td>-21125.186134</td>\n",
       "      <td>-108219.892320</td>\n",
       "      <td>-0.007009</td>\n",
       "      <td>21.899008</td>\n",
       "      <td>-0.005946</td>\n",
       "    </tr>\n",
       "    <tr>\n",
       "      <th>5516</th>\n",
       "      <td>421</td>\n",
       "      <td>2016-11</td>\n",
       "      <td>5110932</td>\n",
       "      <td>2016-11-01</td>\n",
       "      <td>2248.0</td>\n",
       "      <td>1979.0</td>\n",
       "      <td>323607.00</td>\n",
       "      <td>88.0338</td>\n",
       "      <td>163.520465</td>\n",
       "      <td>143.953292</td>\n",
       "      <td>...</td>\n",
       "      <td>3.276993e+05</td>\n",
       "      <td>4.072227e+05</td>\n",
       "      <td>-79523.440458</td>\n",
       "      <td>38033.586690</td>\n",
       "      <td>108527.708030</td>\n",
       "      <td>-70494.121340</td>\n",
       "      <td>-9029.319118</td>\n",
       "      <td>-0.007009</td>\n",
       "      <td>8.125207</td>\n",
       "      <td>-0.001892</td>\n",
       "    </tr>\n",
       "    <tr>\n",
       "      <th>5544</th>\n",
       "      <td>435</td>\n",
       "      <td>2016-12</td>\n",
       "      <td>81425</td>\n",
       "      <td>2016-12-01</td>\n",
       "      <td>1395.0</td>\n",
       "      <td>1194.0</td>\n",
       "      <td>184907.00</td>\n",
       "      <td>85.5913</td>\n",
       "      <td>154.863484</td>\n",
       "      <td>132.549821</td>\n",
       "      <td>...</td>\n",
       "      <td>1.934621e+05</td>\n",
       "      <td>2.019873e+05</td>\n",
       "      <td>-8525.169067</td>\n",
       "      <td>-56968.196101</td>\n",
       "      <td>-48606.610345</td>\n",
       "      <td>-8361.585756</td>\n",
       "      <td>-163.583311</td>\n",
       "      <td>-0.002546</td>\n",
       "      <td>1.532331</td>\n",
       "      <td>-0.000209</td>\n",
       "    </tr>\n",
       "    <tr>\n",
       "      <th>5577</th>\n",
       "      <td>448</td>\n",
       "      <td>2016-12</td>\n",
       "      <td>740551</td>\n",
       "      <td>2016-12-01</td>\n",
       "      <td>1984.0</td>\n",
       "      <td>1928.0</td>\n",
       "      <td>273603.00</td>\n",
       "      <td>97.1774</td>\n",
       "      <td>141.910270</td>\n",
       "      <td>137.904738</td>\n",
       "      <td>...</td>\n",
       "      <td>2.799491e+05</td>\n",
       "      <td>3.651405e+05</td>\n",
       "      <td>-85191.350481</td>\n",
       "      <td>15943.243670</td>\n",
       "      <td>79971.025301</td>\n",
       "      <td>-64027.781630</td>\n",
       "      <td>-21163.568851</td>\n",
       "      <td>-0.002546</td>\n",
       "      <td>9.435518</td>\n",
       "      <td>-0.002402</td>\n",
       "    </tr>\n",
       "  </tbody>\n",
       "</table>\n",
       "<p>5597 rows × 171 columns</p>\n",
       "</div>"
      ],
      "text/plain": [
       "      index post_month  shareid  year_month   Supply   Demand     Revenue  \\\n",
       "0      4233    2016-01    83062  2016-01-01   7750.0   3445.0   481581.00   \n",
       "1      4234    2016-01    88362  2016-01-01  10509.0   4055.0  1248453.00   \n",
       "2      4235    2016-01    89959  2016-01-01   1240.0    817.0   202265.00   \n",
       "3      4236    2016-01    94226  2016-01-01   5859.0   2274.0   743277.99   \n",
       "4      4237    2016-01   105904  2016-01-01  18910.0  11718.0  2227185.00   \n",
       "...     ...        ...      ...         ...      ...      ...         ...   \n",
       "5514    410    2016-11   110924  2016-11-01   2257.0   2061.0   231913.00   \n",
       "5515    412    2016-11   740551  2016-11-01   1920.0   1890.0   210145.00   \n",
       "5516    421    2016-11  5110932  2016-11-01   2248.0   1979.0   323607.00   \n",
       "5544    435    2016-12    81425  2016-12-01   1395.0   1194.0   184907.00   \n",
       "5577    448    2016-12   740551  2016-12-01   1984.0   1928.0   273603.00   \n",
       "\n",
       "          Occ         ADR      RevPAR  ...    Revenue_cf    Revenue_ne  \\\n",
       "0     44.4516  139.791292   62.139484  ...  4.729960e+05  4.759423e+05   \n",
       "1     38.5859  307.879901  118.798458  ...  1.134177e+06  1.116667e+06   \n",
       "2     65.8870  247.570379  163.116935  ...  2.116782e+05  2.108743e+05   \n",
       "3     38.8120  326.859274  126.860896  ...  6.395866e+05  6.313484e+05   \n",
       "4     61.9672  190.065284  117.778160  ...  2.148987e+06  2.152802e+06   \n",
       "...       ...         ...         ...  ...           ...           ...   \n",
       "5514  91.3159  112.524503  102.752769  ...  2.312369e+05  3.287302e+05   \n",
       "5515  98.4375  111.187831  109.450521  ...  2.217694e+05  3.511145e+05   \n",
       "5516  88.0338  163.520465  143.953292  ...  3.276993e+05  4.072227e+05   \n",
       "5544  85.5913  154.863484  132.549821  ...  1.934621e+05  2.019873e+05   \n",
       "5577  97.1774  141.910270  137.904738  ...  2.799491e+05  3.651405e+05   \n",
       "\n",
       "       revenue_diff          ps_cf          ps_ne       ps_diff  \\\n",
       "0      -2946.293221   68844.756404   68857.442789    -12.686386   \n",
       "1      17510.400161   40053.558759   38464.722516   1588.836243   \n",
       "2        803.899757   23897.702609   23773.405040    124.297568   \n",
       "3       8238.174238   10543.857272    9730.393344    813.463928   \n",
       "4      -3814.370190  209104.425948  207771.090169   1333.335779   \n",
       "...             ...            ...            ...           ...   \n",
       "5514  -97493.334065   87812.423947  144703.676435 -56891.252488   \n",
       "5515 -129345.078454  113559.222032  134684.408166 -21125.186134   \n",
       "5516  -79523.440458   38033.586690  108527.708030 -70494.121340   \n",
       "5544   -8525.169067  -56968.196101  -48606.610345  -8361.585756   \n",
       "5577  -85191.350481   15943.243670   79971.025301 -64027.781630   \n",
       "\n",
       "          cost_diff  market_share_sum_diff  price_diff  market_share_diff  \n",
       "0      -2933.606836              -0.000501    0.146333          -0.000020  \n",
       "1      15921.563918              -0.000501    0.282914           0.000043  \n",
       "2        679.602189              -0.000501    0.044569           0.000003  \n",
       "3       7424.710309              -0.000501    0.365288           0.000019  \n",
       "4      -5147.705969              -0.000501    0.170036          -0.000024  \n",
       "...             ...                    ...         ...                ...  \n",
       "5514  -40602.081577              -0.007009   14.362939          -0.003970  \n",
       "5515 -108219.892320              -0.007009   21.899008          -0.005946  \n",
       "5516   -9029.319118              -0.007009    8.125207          -0.001892  \n",
       "5544    -163.583311              -0.002546    1.532331          -0.000209  \n",
       "5577  -21163.568851              -0.002546    9.435518          -0.002402  \n",
       "\n",
       "[5597 rows x 171 columns]"
      ]
     },
     "execution_count": 251,
     "metadata": {},
     "output_type": "execute_result"
    }
   ],
   "source": [
    "df"
   ]
  },
  {
   "cell_type": "code",
   "execution_count": null,
   "id": "30d51ec7",
   "metadata": {},
   "outputs": [],
   "source": []
  }
 ],
 "metadata": {
  "kernelspec": {
   "display_name": "Python 3 (ipykernel)",
   "language": "python",
   "name": "python3"
  },
  "language_info": {
   "codemirror_mode": {
    "name": "ipython",
    "version": 3
   },
   "file_extension": ".py",
   "mimetype": "text/x-python",
   "name": "python",
   "nbconvert_exporter": "python",
   "pygments_lexer": "ipython3",
   "version": "3.7.13"
  },
  "toc": {
   "base_numbering": 1,
   "nav_menu": {},
   "number_sections": true,
   "sideBar": true,
   "skip_h1_title": false,
   "title_cell": "Table of Contents",
   "title_sidebar": "Contents",
   "toc_cell": false,
   "toc_position": {},
   "toc_section_display": true,
   "toc_window_display": true
  }
 },
 "nbformat": 4,
 "nbformat_minor": 5
}
