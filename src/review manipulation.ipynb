{
 "cells": [
  {
   "cell_type": "code",
   "execution_count": 23,
   "id": "9586a46c",
   "metadata": {},
   "outputs": [
    {
     "data": {
      "text/plain": [
       "'/Users/juju/Library/Mobile Documents/com~apple~CloudDocs/ta_project'"
      ]
     },
     "execution_count": 23,
     "metadata": {},
     "output_type": "execute_result"
    }
   ],
   "source": [
    "from __future__ import division\n",
    "import pandas as pd\n",
    "import matplotlib.pyplot as plt\n",
    "import numpy as np\n",
    "import warnings\n",
    "warnings.filterwarnings('ignore')\n",
    "\n",
    "import os\n",
    "\n",
    "from datetime import datetime\n",
    "from scipy import stats\n",
    "\n",
    "cwd = os.getcwd()\n",
    "\n",
    "parent = os.path.dirname(cwd)\n",
    "\n",
    "parent"
   ]
  },
  {
   "cell_type": "code",
   "execution_count": 14,
   "id": "e3c5ef3d",
   "metadata": {},
   "outputs": [],
   "source": [
    "df = pd.read_csv(os.path.join(parent+r\"/data/review_data_no_text_2022\",r\"tripadvisor_ratings.csv\"),sep=',',header=0,infer_datetime_format=True,parse_dates=['Review Date'])\n",
    "\n"
   ]
  },
  {
   "cell_type": "code",
   "execution_count": 15,
   "id": "30e940ad",
   "metadata": {},
   "outputs": [],
   "source": [
    "df[\"post_month\"] = df[\"Review Date\"].dt.to_period('M')"
   ]
  },
  {
   "cell_type": "code",
   "execution_count": 16,
   "id": "c6a442c6",
   "metadata": {},
   "outputs": [],
   "source": [
    "df = df.sort_values(['URL','Review Date'],ascending=True)"
   ]
  },
  {
   "cell_type": "code",
   "execution_count": 18,
   "id": "87bfdb53",
   "metadata": {},
   "outputs": [],
   "source": [
    "df['cummulative_mean'] = (\n",
    "    df.groupby('URL')['Review Rating'].apply(lambda x: x.shift().expanding().mean()))"
   ]
  },
  {
   "cell_type": "code",
   "execution_count": 20,
   "id": "b4345324",
   "metadata": {},
   "outputs": [],
   "source": [
    "df = df.dropna()"
   ]
  },
  {
   "cell_type": "code",
   "execution_count": 26,
   "id": "b43ae5f4",
   "metadata": {},
   "outputs": [],
   "source": [
    "count_stat = stats.binned_statistic(df[\"cummulative_mean\"], df[\"cummulative_mean\"], \n",
    "                             statistic='count', \n",
    "                             bins=80,\n",
    "                         range=[1, 5])\n",
    "mc_test = pd.DataFrame()\n",
    "mc_test[\"bin\"] = count_stat.bin_edges[1:]\n",
    "mc_test[\"count\"] = count_stat.statistic[0:]"
   ]
  },
  {
   "cell_type": "code",
   "execution_count": 37,
   "id": "a64d2369",
   "metadata": {},
   "outputs": [
    {
     "data": {
      "text/html": [
       "<div>\n",
       "<style scoped>\n",
       "    .dataframe tbody tr th:only-of-type {\n",
       "        vertical-align: middle;\n",
       "    }\n",
       "\n",
       "    .dataframe tbody tr th {\n",
       "        vertical-align: top;\n",
       "    }\n",
       "\n",
       "    .dataframe thead th {\n",
       "        text-align: right;\n",
       "    }\n",
       "</style>\n",
       "<table border=\"1\" class=\"dataframe\">\n",
       "  <thead>\n",
       "    <tr style=\"text-align: right;\">\n",
       "      <th></th>\n",
       "      <th>bin</th>\n",
       "      <th>count</th>\n",
       "      <th>density</th>\n",
       "      <th>up</th>\n",
       "    </tr>\n",
       "  </thead>\n",
       "  <tbody>\n",
       "    <tr>\n",
       "      <th>0</th>\n",
       "      <td>1.05</td>\n",
       "      <td>433.0</td>\n",
       "      <td>0.000116</td>\n",
       "      <td>False</td>\n",
       "    </tr>\n",
       "    <tr>\n",
       "      <th>1</th>\n",
       "      <td>1.10</td>\n",
       "      <td>27.0</td>\n",
       "      <td>0.000007</td>\n",
       "      <td>False</td>\n",
       "    </tr>\n",
       "    <tr>\n",
       "      <th>2</th>\n",
       "      <td>1.15</td>\n",
       "      <td>53.0</td>\n",
       "      <td>0.000014</td>\n",
       "      <td>False</td>\n",
       "    </tr>\n",
       "    <tr>\n",
       "      <th>3</th>\n",
       "      <td>1.20</td>\n",
       "      <td>41.0</td>\n",
       "      <td>0.000011</td>\n",
       "      <td>False</td>\n",
       "    </tr>\n",
       "    <tr>\n",
       "      <th>4</th>\n",
       "      <td>1.25</td>\n",
       "      <td>43.0</td>\n",
       "      <td>0.000012</td>\n",
       "      <td>True</td>\n",
       "    </tr>\n",
       "    <tr>\n",
       "      <th>...</th>\n",
       "      <td>...</td>\n",
       "      <td>...</td>\n",
       "      <td>...</td>\n",
       "      <td>...</td>\n",
       "    </tr>\n",
       "    <tr>\n",
       "      <th>75</th>\n",
       "      <td>4.80</td>\n",
       "      <td>39755.0</td>\n",
       "      <td>0.010660</td>\n",
       "      <td>False</td>\n",
       "    </tr>\n",
       "    <tr>\n",
       "      <th>76</th>\n",
       "      <td>4.85</td>\n",
       "      <td>17913.0</td>\n",
       "      <td>0.004803</td>\n",
       "      <td>False</td>\n",
       "    </tr>\n",
       "    <tr>\n",
       "      <th>77</th>\n",
       "      <td>4.90</td>\n",
       "      <td>11654.0</td>\n",
       "      <td>0.003125</td>\n",
       "      <td>False</td>\n",
       "    </tr>\n",
       "    <tr>\n",
       "      <th>78</th>\n",
       "      <td>4.95</td>\n",
       "      <td>6298.0</td>\n",
       "      <td>0.001689</td>\n",
       "      <td>False</td>\n",
       "    </tr>\n",
       "    <tr>\n",
       "      <th>79</th>\n",
       "      <td>5.00</td>\n",
       "      <td>10479.0</td>\n",
       "      <td>0.002810</td>\n",
       "      <td>False</td>\n",
       "    </tr>\n",
       "  </tbody>\n",
       "</table>\n",
       "<p>80 rows × 4 columns</p>\n",
       "</div>"
      ],
      "text/plain": [
       "     bin    count   density     up\n",
       "0   1.05    433.0  0.000116  False\n",
       "1   1.10     27.0  0.000007  False\n",
       "2   1.15     53.0  0.000014  False\n",
       "3   1.20     41.0  0.000011  False\n",
       "4   1.25     43.0  0.000012   True\n",
       "..   ...      ...       ...    ...\n",
       "75  4.80  39755.0  0.010660  False\n",
       "76  4.85  17913.0  0.004803  False\n",
       "77  4.90  11654.0  0.003125  False\n",
       "78  4.95   6298.0  0.001689  False\n",
       "79  5.00  10479.0  0.002810  False\n",
       "\n",
       "[80 rows x 4 columns]"
      ]
     },
     "execution_count": 37,
     "metadata": {},
     "output_type": "execute_result"
    }
   ],
   "source": [
    "mc_test"
   ]
  },
  {
   "cell_type": "code",
   "execution_count": 44,
   "id": "1468ad2d",
   "metadata": {},
   "outputs": [],
   "source": [
    "mc_test[\"up\"] = mc_test[\"up\"].astype(str)"
   ]
  },
  {
   "cell_type": "code",
   "execution_count": 49,
   "id": "70bfdc0f",
   "metadata": {},
   "outputs": [],
   "source": [
    "mc_test[\"up\"] = mc_test[\"up\"].replace('False','Not Round Up Bin')"
   ]
  },
  {
   "cell_type": "code",
   "execution_count": 50,
   "id": "8052efff",
   "metadata": {},
   "outputs": [],
   "source": [
    "mc_test[\"up\"] = mc_test[\"up\"].replace('True','Round Up Bin')"
   ]
  },
  {
   "cell_type": "code",
   "execution_count": 45,
   "id": "cd146bb7",
   "metadata": {},
   "outputs": [],
   "source": [
    "groups = mc_test.groupby('up')"
   ]
  },
  {
   "cell_type": "code",
   "execution_count": 46,
   "id": "db5f5530",
   "metadata": {},
   "outputs": [
    {
     "data": {
      "text/plain": [
       "{'False': [0, 1, 2, 3, 6, 7, 8, 9, 10, 11, 12, 13, 16, 17, 18, 19, 20, 21, 22, 23, 26, 27, 28, 29, 30, 31, 32, 33, 36, 37, 38, 39, 40, 41, 42, 43, 45, 46, 47, 48, 49, 50, 51, 52, 53, 55, 56, 57, 58, 59, 60, 61, 62, 63, 65, 66, 67, 68, 69, 70, 71, 72, 73, 75, 76, 77, 78, 79], 'True': [4, 5, 14, 15, 24, 25, 34, 35, 44, 54, 64, 74]}"
      ]
     },
     "execution_count": 46,
     "metadata": {},
     "output_type": "execute_result"
    }
   ],
   "source": [
    "groups.groups"
   ]
  },
  {
   "cell_type": "code",
   "execution_count": 55,
   "id": "e37b40b9",
   "metadata": {},
   "outputs": [
    {
     "data": {
      "text/plain": [
       "Text(0, 0.5, 'Density of reviews in 0.05-rating bin')"
      ]
     },
     "execution_count": 55,
     "metadata": {},
     "output_type": "execute_result"
    },
    {
     "data": {
      "image/png": "[encoded data removed]",
      "text/plain": [
       "<Figure size 432x288 with 1 Axes>"
      ]
     },
     "metadata": {
      "needs_background": "light"
     },
     "output_type": "display_data"
    }
   ],
   "source": [
    "from itertools import cycle\n",
    "groups = mc_test.groupby('up')\n",
    "\n",
    "markers = ['x', 'o']\n",
    "\n",
    "# Plot\n",
    "fig, ax = plt.subplots()\n",
    "ax.margins(0.05) # Optional, just adds 5% padding to the autoscaling\n",
    "for (name, group), marker in zip(groups, cycle(markers)):\n",
    "    ax.plot(group.bin, group.density, marker=marker, linestyle='', ms=12, label=name)\n",
    "ax.legend()\n",
    "\n",
    "plt.title('Clustering of reviews around rounding thresholds')\n",
    "plt.xlabel(\"Rating\")\n",
    "plt.ylabel(\"Density of reviews in 0.05-rating bin\")"
   ]
  },
  {
   "cell_type": "code",
   "execution_count": 28,
   "id": "c132adb1",
   "metadata": {},
   "outputs": [
    {
     "data": {
      "text/plain": [
       "<matplotlib.collections.PathCollection at 0x7f9df0037b90>"
      ]
     },
     "execution_count": 28,
     "metadata": {},
     "output_type": "execute_result"
    },
    {
     "data": {
      "image/png": "[encoded data removed]",
      "text/plain": [
       "<Figure size 432x288 with 1 Axes>"
      ]
     },
     "metadata": {
      "needs_background": "light"
     },
     "output_type": "display_data"
    }
   ],
   "source": [
    "plt\n",
    ".scatter(mc_test[\"bin\"], mc_test[\"count\"])"
   ]
  },
  {
   "cell_type": "code",
   "execution_count": 29,
   "id": "2727cf13",
   "metadata": {},
   "outputs": [],
   "source": [
    "mc_test[\"density\"] = mc_test[\"count\"]/len(df)"
   ]
  },
  {
   "cell_type": "code",
   "execution_count": 30,
   "id": "65be62f8",
   "metadata": {},
   "outputs": [],
   "source": [
    "mc_test[\"up_1\"] = (((mc_test[\"bin\"]>=1.25)&(mc_test[\"bin\"]<=1.3))|\\\n",
    "\n",
    "                ((mc_test[\"bin\"]>=1.75)&(mc_test[\"bin\"]<=1.8))|\\\n",
    "                \n",
    "                ((mc_test[\"bin\"]>=2.25)&(mc_test[\"bin\"]<=2.3))|\\\n",
    "\n",
    "                ((mc_test[\"bin\"]>=2.75)&(mc_test[\"bin\"]<=2.8))|\\\n",
    "                ((mc_test[\"bin\"]>=3.25)&(mc_test[\"bin\"]<=3.3))|\\\n",
    "\n",
    "                ((mc_test[\"bin\"]>=3.75)&(mc_test[\"bin\"]<=3.8))|\\\n",
    "                \n",
    "                ((mc_test[\"bin\"]>=4.25)&(mc_test[\"bin\"]<=4.3))|\\\n",
    "\n",
    "                ((mc_test[\"bin\"]>=4.75)&(mc_test[\"bin\"]<=4.8)))"
   ]
  },
  {
   "cell_type": "code",
   "execution_count": null,
   "id": "f06480b6",
   "metadata": {},
   "outputs": [],
   "source": [
    "mc_test[\"up_2\"] = (((mc_test[\"bin\"]>=1.25)&(mc_test[\"bin\"]<=1.35))|\\\n",
    "\n",
    "                ((mc_test[\"bin\"]>=1.75)&(mc_test[\"bin\"]<=1.85))|\\\n",
    "                \n",
    "                ((mc_test[\"bin\"]>=2.25)&(mc_test[\"bin\"]<=2.35))|\\\n",
    "\n",
    "                ((mc_test[\"bin\"]>=2.75)&(mc_test[\"bin\"]<=2.85))|\\\n",
    "                ((mc_test[\"bin\"]>=3.25)&(mc_test[\"bin\"]<=3.35))|\\\n",
    "\n",
    "                ((mc_test[\"bin\"]>=3.75)&(mc_test[\"bin\"]<=3.85))|\\\n",
    "                \n",
    "                ((mc_test[\"bin\"]>=4.25)&(mc_test[\"bin\"]<=4.35))|\\\n",
    "\n",
    "                ((mc_test[\"bin\"]>=4.75)&(mc_test[\"bin\"]<=4.85)))"
   ]
  },
  {
   "cell_type": "code",
   "execution_count": null,
   "id": "91ee1953",
   "metadata": {},
   "outputs": [],
   "source": [
    "mc_test[\"up_3\"] = (((mc_test[\"bin\"]>=1.25)&(mc_test[\"bin\"]<=1.4))|\\\n",
    "\n",
    "                ((mc_test[\"bin\"]>=1.75)&(mc_test[\"bin\"]<=1.9))|\\\n",
    "                \n",
    "                ((mc_test[\"bin\"]>=2.25)&(mc_test[\"bin\"]<=2.4))|\\\n",
    "\n",
    "                ((mc_test[\"bin\"]>=2.75)&(mc_test[\"bin\"]<=2.9))|\\\n",
    "                ((mc_test[\"bin\"]>=3.25)&(mc_test[\"bin\"]<=3.4))|\\\n",
    "\n",
    "                ((mc_test[\"bin\"]>=3.75)&(mc_test[\"bin\"]<=3.9))|\\\n",
    "                \n",
    "                ((mc_test[\"bin\"]>=4.25)&(mc_test[\"bin\"]<=4.4))|\\\n",
    "\n",
    "                ((mc_test[\"bin\"]>=4.75)&(mc_test[\"bin\"]<=4.9)))"
   ]
  },
  {
   "cell_type": "code",
   "execution_count": 32,
   "id": "57efec8c",
   "metadata": {},
   "outputs": [],
   "source": [
    "from statsmodels.api import add_constant\n",
    "from linearmodels import IV2SLS\n",
    "from statsmodels.iolib.summary2 import summary_col\n",
    "import statsmodels.api as sm\n",
    "import statsmodels\n",
    "from sklearn.preprocessing import OneHotEncoder\n",
    "from sklearn import preprocessing\n",
    "\n",
    "x_1 =  mc_test[\"up\"]\n",
    "x_1 = sm.add_constant(x)\n",
    "model = sm.OLS(mc_test[\"density\"], x_1[\"up\"])\n",
    "results_1 = model.fit()"
   ]
  },
  {
   "cell_type": "code",
   "execution_count": 35,
   "id": "a13976e5",
   "metadata": {},
   "outputs": [],
   "source": [
    "res_main = summary_col([results_mc], float_format = '%.3f', \\\n",
    "                  model_names = [\"fraction of hotel-month observations in 0.05 rating bin\",\\\n",
    "                                 ],\\\n",
    "                 regressor_order = [\"up\",\\\n",
    "                                   \"const\",\\\n",
    "                                    \n",
    "                                  \n",
    "                                  ],\\\n",
    "                  info_dict={'N':lambda x: \"{0:d}\".format(int(x.nobs)),\n",
    "                           'Adjusted R-squared':lambda x: \"{:.2f}\".format(x.rsquared_adj)},\\\n",
    "                  stars = True,drop_omitted=True)\n",
    "\n",
    "\n",
    "beginningtex = \"\"\"\\\\documentclass{report}\n",
    "\\\\usepackage{booktabs}\n",
    "\\\\begin{document}\"\"\"\n",
    "endtex = \"\\end{document}\"\n",
    "\n",
    "output_dir = r\"/Users/juju/Library/Mobile Documents/com~apple~CloudDocs/ta_project/output/ch1\"\n",
    "f = open(os.path.join(output_dir,'mc_test.tex'), 'w')\n",
    "f.write(beginningtex)\n",
    "f.write(res_main.as_latex())\n",
    "f.write(endtex)\n",
    "f.close()"
   ]
  },
  {
   "cell_type": "code",
   "execution_count": null,
   "id": "ef9685fa",
   "metadata": {},
   "outputs": [],
   "source": []
  }
 ],
 "metadata": {
  "kernelspec": {
   "display_name": "Python 3 (ipykernel)",
   "language": "python",
   "name": "python3"
  },
  "language_info": {
   "codemirror_mode": {
    "name": "ipython",
    "version": 3
   },
   "file_extension": ".py",
   "mimetype": "text/x-python",
   "name": "python",
   "nbconvert_exporter": "python",
   "pygments_lexer": "ipython3",
   "version": "3.7.13"
  },
  "toc": {
   "base_numbering": 1,
   "nav_menu": {},
   "number_sections": true,
   "sideBar": true,
   "skip_h1_title": false,
   "title_cell": "Table of Contents",
   "title_sidebar": "Contents",
   "toc_cell": false,
   "toc_position": {},
   "toc_section_display": true,
   "toc_window_display": false
  }
 },
 "nbformat": 4,
 "nbformat_minor": 5
}
